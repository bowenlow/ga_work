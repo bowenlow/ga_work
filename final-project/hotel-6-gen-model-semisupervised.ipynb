{
 "cells": [
  {
   "cell_type": "code",
   "execution_count": 1,
   "metadata": {},
   "outputs": [
    {
     "name": "stderr",
     "output_type": "stream",
     "text": [
      "C:\\Anaconda\\envs\\py36\\lib\\site-packages\\gensim\\utils.py:860: UserWarning: detected Windows; aliasing chunkize to chunkize_serial\n",
      "  warnings.warn(\"detected Windows; aliasing chunkize to chunkize_serial\")\n"
     ]
    }
   ],
   "source": [
    "import numpy as np\n",
    "import scipy.stats as stats\n",
    "import csv\n",
    "import pandas as pd\n",
    "import seaborn as sns\n",
    "from matplotlib import pyplot as plt\n",
    "import gensim as gs \n",
    "from gensim import corpora, models, similarities\n",
    "import logging\n",
    "import multiprocessing\n",
    "\n",
    "import pickle\n",
    "\n",
    "import gensim\n",
    "\n",
    "logging.basicConfig(format='%(asctime)s : %(levelname)s : %(message)s')\n",
    "\n",
    "from sklearn.model_selection import train_test_split, GridSearchCV\n",
    "from sklearn.metrics import classification_report, confusion_matrix, accuracy_score, make_scorer, recall_score,precision_score,fbeta_score\n",
    "\n",
    "np.random.seed(0)\n",
    "\n",
    "# this line tells jupyter notebook to put the plots in the notebook rather than saving them to file.\n",
    "%matplotlib inline\n",
    "\n",
    "# this line makes plots prettier on mac retina screens. If you don't have one it shouldn't do anything.\n",
    "%config InlineBackend.figure_format = 'retina'\n",
    "\n",
    "cores = multiprocessing.cpu_count()\n",
    "\n",
    "# from pomegranate import NaiveBayes, NormalDistribution\n",
    "# import pomegranate"
   ]
  },
  {
   "cell_type": "markdown",
   "metadata": {},
   "source": [
    "# Semi-Supervised Learning\n",
    "<h2> Due to the fact that CPLELearner is written in Python 2.7, please be advised to run this notebook with Python 2 kernel </h2>\n",
    "\n",
    "https://github.com/tmadl/semisup-learn <br>\n",
    "pomegranate <br>\n",
    "Pseudo-Labelling <br>\n",
    "Sklearn Label Spread/Propagating"
   ]
  },
  {
   "cell_type": "code",
   "execution_count": 54,
   "metadata": {},
   "outputs": [
    {
     "name": "stderr",
     "output_type": "stream",
     "text": [
      "C:\\Anaconda\\envs\\py36\\lib\\site-packages\\sklearn\\model_selection\\_split.py:2026: FutureWarning: From version 0.21, test_size will always complement train_size unless both are specified.\n",
      "  FutureWarning)\n"
     ]
    }
   ],
   "source": [
    "true_fake_vec = pd.read_csv('./csv/true_fake_vec.csv', index_col=False)\n",
    "\n",
    "# unlabelled_full_vec = pd.read_csv('./csv/unlabelled_full_vec.csv')\n",
    "all_y = pd.read_csv('./csv/target.csv', index_col=False)\n",
    "\n",
    "X_train, X_test, y_train, y_test = train_test_split(true_fake_vec, all_y, train_size=0.75, random_state=8)"
   ]
  },
  {
   "cell_type": "code",
   "execution_count": 57,
   "metadata": {},
   "outputs": [],
   "source": [
    "new_index = ['s_'+ str(i) for i in true_fake_vec.index]\n",
    "true_fake_vec['index2'] = new_index\n",
    "cols = ['index2']\n",
    "for a in true_fake_vec.columns[:-1]:\n",
    "    cols.append(a)\n",
    "# To rearrange the column names\n",
    "true_fake_vec = true_fake_vec[cols]\n",
    "true_fake_vec.to_csv('./csv/true_fake_vec_nohead.csv',index=False, header=False)"
   ]
  },
  {
   "cell_type": "code",
   "execution_count": 58,
   "metadata": {},
   "outputs": [
    {
     "data": {
      "text/html": [
       "<div>\n",
       "<style scoped>\n",
       "    .dataframe tbody tr th:only-of-type {\n",
       "        vertical-align: middle;\n",
       "    }\n",
       "\n",
       "    .dataframe tbody tr th {\n",
       "        vertical-align: top;\n",
       "    }\n",
       "\n",
       "    .dataframe thead th {\n",
       "        text-align: right;\n",
       "    }\n",
       "</style>\n",
       "<table border=\"1\" class=\"dataframe\">\n",
       "  <thead>\n",
       "    <tr style=\"text-align: right;\">\n",
       "      <th></th>\n",
       "      <th>index2</th>\n",
       "      <th>0</th>\n",
       "      <th>1</th>\n",
       "      <th>2</th>\n",
       "      <th>3</th>\n",
       "      <th>4</th>\n",
       "      <th>5</th>\n",
       "      <th>6</th>\n",
       "      <th>7</th>\n",
       "      <th>8</th>\n",
       "      <th>...</th>\n",
       "      <th>weapon</th>\n",
       "      <th>children</th>\n",
       "      <th>monster</th>\n",
       "      <th>ocean</th>\n",
       "      <th>giving</th>\n",
       "      <th>contentment</th>\n",
       "      <th>writing</th>\n",
       "      <th>rural</th>\n",
       "      <th>positive_emotion</th>\n",
       "      <th>musical</th>\n",
       "    </tr>\n",
       "  </thead>\n",
       "  <tbody>\n",
       "    <tr>\n",
       "      <th>0</th>\n",
       "      <td>s_0</td>\n",
       "      <td>0.068758</td>\n",
       "      <td>0.240299</td>\n",
       "      <td>0.205623</td>\n",
       "      <td>0.177311</td>\n",
       "      <td>-0.139906</td>\n",
       "      <td>-0.092154</td>\n",
       "      <td>0.047262</td>\n",
       "      <td>-0.180129</td>\n",
       "      <td>0.023823</td>\n",
       "      <td>...</td>\n",
       "      <td>0.0</td>\n",
       "      <td>1.0</td>\n",
       "      <td>0.0</td>\n",
       "      <td>1.0</td>\n",
       "      <td>2.0</td>\n",
       "      <td>0.0</td>\n",
       "      <td>0.0</td>\n",
       "      <td>0.0</td>\n",
       "      <td>1.0</td>\n",
       "      <td>0.0</td>\n",
       "    </tr>\n",
       "    <tr>\n",
       "      <th>1</th>\n",
       "      <td>s_1</td>\n",
       "      <td>-0.261129</td>\n",
       "      <td>0.018109</td>\n",
       "      <td>0.244408</td>\n",
       "      <td>0.246589</td>\n",
       "      <td>0.226827</td>\n",
       "      <td>0.183266</td>\n",
       "      <td>0.396658</td>\n",
       "      <td>0.242541</td>\n",
       "      <td>-0.140729</td>\n",
       "      <td>...</td>\n",
       "      <td>0.0</td>\n",
       "      <td>0.0</td>\n",
       "      <td>0.0</td>\n",
       "      <td>0.0</td>\n",
       "      <td>0.0</td>\n",
       "      <td>0.0</td>\n",
       "      <td>0.0</td>\n",
       "      <td>0.0</td>\n",
       "      <td>1.0</td>\n",
       "      <td>0.0</td>\n",
       "    </tr>\n",
       "    <tr>\n",
       "      <th>2</th>\n",
       "      <td>s_2</td>\n",
       "      <td>-0.033444</td>\n",
       "      <td>0.152059</td>\n",
       "      <td>-0.031646</td>\n",
       "      <td>0.260323</td>\n",
       "      <td>-0.046958</td>\n",
       "      <td>0.075744</td>\n",
       "      <td>0.150471</td>\n",
       "      <td>0.378979</td>\n",
       "      <td>0.078745</td>\n",
       "      <td>...</td>\n",
       "      <td>0.0</td>\n",
       "      <td>2.0</td>\n",
       "      <td>0.0</td>\n",
       "      <td>0.0</td>\n",
       "      <td>0.0</td>\n",
       "      <td>0.0</td>\n",
       "      <td>0.0</td>\n",
       "      <td>0.0</td>\n",
       "      <td>3.0</td>\n",
       "      <td>0.0</td>\n",
       "    </tr>\n",
       "  </tbody>\n",
       "</table>\n",
       "<p>3 rows × 399 columns</p>\n",
       "</div>"
      ],
      "text/plain": [
       "  index2         0         1         2         3         4         5  \\\n",
       "0    s_0  0.068758  0.240299  0.205623  0.177311 -0.139906 -0.092154   \n",
       "1    s_1 -0.261129  0.018109  0.244408  0.246589  0.226827  0.183266   \n",
       "2    s_2 -0.033444  0.152059 -0.031646  0.260323 -0.046958  0.075744   \n",
       "\n",
       "          6         7         8   ...     weapon  children  monster  ocean  \\\n",
       "0  0.047262 -0.180129  0.023823   ...        0.0       1.0      0.0    1.0   \n",
       "1  0.396658  0.242541 -0.140729   ...        0.0       0.0      0.0    0.0   \n",
       "2  0.150471  0.378979  0.078745   ...        0.0       2.0      0.0    0.0   \n",
       "\n",
       "   giving  contentment  writing  rural  positive_emotion  musical  \n",
       "0     2.0          0.0      0.0    0.0               1.0      0.0  \n",
       "1     0.0          0.0      0.0    0.0               1.0      0.0  \n",
       "2     0.0          0.0      0.0    0.0               3.0      0.0  \n",
       "\n",
       "[3 rows x 399 columns]"
      ]
     },
     "execution_count": 58,
     "metadata": {},
     "output_type": "execute_result"
    }
   ],
   "source": [
    "# true_fake_vec.drop(columns=['index2'],inplace=True)\n",
    "true_fake_vec.drop(columns=['Unnamed: 0'],inplace=True)\n",
    "# true_fake_vec.to_csv('./csv/true_fake_vec.csv')\n",
    "true_fake_vec.head(3)"
   ]
  },
  {
   "cell_type": "code",
   "execution_count": 3,
   "metadata": {},
   "outputs": [],
   "source": [
    "unlabelled_index = list(range(unlabelled_full_vec.shape[0]))\n",
    "np.random.shuffle(unlabelled_index)\n",
    "kratio = 5\n",
    "rand_unlabelled_vec = pd.DataFrame([unlabelled_full_vec.iloc[a] for a in unlabelled_index[:(len(true_fake_vec))*kratio]])"
   ]
  },
  {
   "cell_type": "code",
   "execution_count": 7,
   "metadata": {
    "collapsed": true
   },
   "outputs": [],
   "source": [
    "y_unlabelled = pd.DataFrame([-1] * rand_unlabelled_vec.shape[0], columns=['deceptive'])\n",
    "X_train_new = pd.concat([X_train, rand_unlabelled_vec], axis=0).as_matrix()\n",
    "y_train_new = pd.concat([y_train, y_unlabelled], axis = 0).T.as_matrix()[0]\n",
    "# y_train_new = [a[0] for a in y_train_new]"
   ]
  },
  {
   "cell_type": "code",
   "execution_count": 4,
   "metadata": {},
   "outputs": [
    {
     "name": "stderr",
     "output_type": "stream",
     "text": [
      "C:\\Anaconda\\lib\\site-packages\\sklearn\\cross_validation.py:41: DeprecationWarning: This module was deprecated in version 0.18 in favor of the model_selection module into which all the refactored classes and functions are moved. Also note that the interface of the new CV iterators are different from that of this module. This module will be removed in 0.20.\n",
      "  \"This module will be removed in 0.20.\", DeprecationWarning)\n"
     ]
    },
    {
     "name": "stdout",
     "output_type": "stream",
     "text": [
      "(array([0.87521664, 0.88132635, 0.87603306, 0.87603306, 0.87993421]), 0.8777086633081931)\n"
     ]
    }
   ],
   "source": [
    "from sklearn.model_selection import cross_val_score\n",
    "from xgboost import XGBClassifier\n",
    "from sklearn.metrics import classification_report, make_scorer, fbeta_score\n",
    "\n",
    "xg = XGBClassifier(colsample_bytree=0.25, max_depth=8, subsample=0.7, min_child_weight=3, gamma=1)\n",
    "scorer = make_scorer(fbeta_score,beta=0.5)\n",
    "scorelist = cross_val_score(xg, X_train, y_train, cv=5, scoring=scorer,n_jobs=-1)\n",
    "print(scorelist, np.mean(scorelist))"
   ]
  },
  {
   "cell_type": "code",
   "execution_count": 12,
   "metadata": {},
   "outputs": [
    {
     "name": "stdout",
     "output_type": "stream",
     "text": [
      "             precision    recall  f1-score   support\n",
      "\n",
      "          0       0.86      0.87      0.86       204\n",
      "          1       0.86      0.85      0.86       196\n",
      "\n",
      "avg / total       0.86      0.86      0.86       400\n",
      "\n"
     ]
    },
    {
     "name": "stderr",
     "output_type": "stream",
     "text": [
      "C:\\Anaconda\\lib\\site-packages\\sklearn\\preprocessing\\label.py:151: DeprecationWarning: The truth value of an empty array is ambiguous. Returning False, but in future this will result in an error. Use `array.size > 0` to check that an array is not empty.\n",
      "  if diff:\n"
     ]
    }
   ],
   "source": [
    "xg = XGBClassifier(colsample_bytree=0.25, max_depth=8, subsample=0.7, min_child_weight=3, gamma=1)\n",
    "xg.fit(X_train, y_train)\n",
    "best_pred = xg.predict(X_test)\n",
    "print(classification_report(y_test, best_pred))"
   ]
  },
  {
   "cell_type": "code",
   "execution_count": 9,
   "metadata": {},
   "outputs": [],
   "source": [
    "from frameworks.CPLELearning import CPLELearningModel\n",
    "from frameworks.SelfLearning import SelfLearningModel"
   ]
  },
  {
   "cell_type": "code",
   "execution_count": null,
   "metadata": {},
   "outputs": [
    {
     "name": "stdout",
     "output_type": "stream",
     "text": [
      "n"
     ]
    }
   ],
   "source": [
    "import sklearn\n",
    "ssmodel2 = CPLELearningModel(sklearn.svm.SVC(kernel=\"rbf\", probability=True), predict_from_probabilities=True) # RBF SVM\n",
    "ssmodel2.fit(X_train_new, y_train_new)"
   ]
  },
  {
   "cell_type": "code",
   "execution_count": null,
   "metadata": {
    "collapsed": true
   },
   "outputs": [],
   "source": [
    "best_pred = ssmodel2.predict(X_test.as_matrix())\n",
    "print(classification_report(y_test.as_matrix(), best_pred))"
   ]
  },
  {
   "cell_type": "code",
   "execution_count": null,
   "metadata": {
    "collapsed": true
   },
   "outputs": [],
   "source": [
    "ssmodel = CPLELearningModel (xg)\n",
    "ssmodel.fit(X_train_new, y_train_new)\n",
    "best_pred = ssmodel.predict(X_test.as_matrix())\n",
    "print(classification_report(y_test.as_matrix(), best_pred))"
   ]
  },
  {
   "cell_type": "code",
   "execution_count": null,
   "metadata": {
    "collapsed": true
   },
   "outputs": [],
   "source": [
    "# Naive Bayes \n",
    "semi_model = pomegranate.NaiveBayes.from_samples(NormalDistribution, X_train_new, y_train_new, verbose=True,)"
   ]
  },
  {
   "cell_type": "code",
   "execution_count": null,
   "metadata": {
    "collapsed": true
   },
   "outputs": [],
   "source": [
    "best_pred = semi_model.predict(X_test)\n",
    "print(classification_report(y_test, best_pred))"
   ]
  },
  {
   "cell_type": "code",
   "execution_count": null,
   "metadata": {
    "collapsed": true
   },
   "outputs": [],
   "source": [
    "from sklearn.semi_supervised import label_propagation\n",
    "from scipy.sparse import csgraph\n",
    "\n",
    "#Label Propagation\n",
    "label_spread = label_propagation.LabelSpreading(kernel='rbf', alpha=0.1, gamma=0.2, n_jobs=-1)\n",
    "label_spread.fit(X_train_new, y_train_new)\n",
    "best_pred = label_spread.predict(X_test)\n",
    "print(classification_report(y_test, best_pred))"
   ]
  },
  {
   "cell_type": "code",
   "execution_count": null,
   "metadata": {
    "collapsed": true
   },
   "outputs": [],
   "source": [
    "label_spread = label_propagation.LabelSpreading(kernel='knn', alpha=0.95, n_neighbors=40, n_jobs=-1)\n",
    "label_spread.fit(X_train_new, y_train_new)\n",
    "best_pred = label_spread.predict(X_test)\n",
    "print(classification_report(y_test, best_pred))"
   ]
  },
  {
   "cell_type": "code",
   "execution_count": null,
   "metadata": {
    "collapsed": true
   },
   "outputs": [],
   "source": [
    "label_prop = label_propagation.LabelPropagation(kernel='rbf', gamma=0.2, n_jobs=-1)\n",
    "label_prop.fit(X_train_new, y_train_new)\n",
    "best_pred = label_prop.predict(X_test)\n",
    "print(classification_report(y_test, best_pred))"
   ]
  }
 ],
 "metadata": {
  "kernelspec": {
   "display_name": "Python 3",
   "language": "python",
   "name": "python3"
  },
  "language_info": {
   "codemirror_mode": {
    "name": "ipython",
    "version": 3
   },
   "file_extension": ".py",
   "mimetype": "text/x-python",
   "name": "python",
   "nbconvert_exporter": "python",
   "pygments_lexer": "ipython3",
   "version": "3.6.3"
  }
 },
 "nbformat": 4,
 "nbformat_minor": 2
}
