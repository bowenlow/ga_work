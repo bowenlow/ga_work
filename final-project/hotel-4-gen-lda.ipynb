{
 "cells": [
  {
   "cell_type": "code",
   "execution_count": 1,
   "metadata": {},
   "outputs": [
    {
     "name": "stderr",
     "output_type": "stream",
     "text": [
      "C:\\Anaconda\\envs\\py36\\lib\\site-packages\\gensim\\utils.py:860: UserWarning: detected Windows; aliasing chunkize to chunkize_serial\n",
      "  warnings.warn(\"detected Windows; aliasing chunkize to chunkize_serial\")\n"
     ]
    }
   ],
   "source": [
    "import gensim\n",
    "from gensim import corpora, models, similarities\n",
    "import pickle\n",
    "import multiprocessing\n",
    "import numpy as np\n",
    "import pandas as pd\n",
    "import logging\n",
    "import warnings\n",
    "\n",
    "# logging.basicConfig(format='%(asctime)s : %(levelname)s : %(message)s', level=logging.INFO)\n",
    "warnings.filterwarnings(action='ignore')\n",
    "\n",
    "assert gensim.models.doc2vec.FAST_VERSION > -1\n",
    "cores = multiprocessing.cpu_count()\n",
    "\n",
    "unlabelled_corpus = pickle.load(open('./input/unlabelled_corpus_clean.p','rb'))\n",
    "true_corpus = pickle.load(open('./input/true_corpus_clean.p','rb'))\n",
    "fake_corpus = pickle.load(open('./input/fake_corpus_clean.p','rb'))"
   ]
  },
  {
   "cell_type": "code",
   "execution_count": 2,
   "metadata": {},
   "outputs": [],
   "source": [
    "dictionary = corpora.Dictionary(unlabelled_corpus + true_corpus + fake_corpus)\n",
    "unlabelled_bow = [dictionary.doc2bow(s) for s in unlabelled_corpus]\n",
    "true_bow = [dictionary.doc2bow(s) for s in true_corpus]\n",
    "fake_bow = [dictionary.doc2bow(s) for s in fake_corpus]"
   ]
  },
  {
   "cell_type": "code",
   "execution_count": 5,
   "metadata": {},
   "outputs": [],
   "source": [
    "num_topics = 100\n",
    "chunksize = 400\n",
    "passes = 5\n",
    "\n",
    "hasNext = True\n",
    "start = 90000\n",
    "f = 1000\n",
    "ctr = 0\n",
    "\n",
    "# model = models.LdaModel(unlabelled_bow[:start], id2word=dictionary, num_topics=num_topics,alpha = 'auto',eta='auto',random_state=0, chunksize=chunksize, passes=passes)\n",
    "model = pickle.load(open('./input/lda_model.p','rb'))"
   ]
  },
  {
   "cell_type": "code",
   "execution_count": null,
   "metadata": {},
   "outputs": [
    {
     "name": "stdout",
     "output_type": "stream",
     "text": [
      "REUPDATE:90000\n",
      "REUPDATE:91000\n",
      "REUPDATE:92000\n",
      "REUPDATE:93000\n",
      "REUPDATE:94000\n",
      "REUPDATE:95000\n",
      "REUPDATE:96000\n",
      "REUPDATE:97000\n",
      "REUPDATE:98000\n",
      "REUPDATE:99000\n",
      "REUPDATE:100000\n",
      "REUPDATE:101000\n",
      "REUPDATE:102000\n",
      "REUPDATE:103000\n",
      "REUPDATE:104000\n",
      "REUPDATE:105000\n",
      "REUPDATE:106000\n",
      "REUPDATE:107000\n",
      "REUPDATE:108000\n",
      "REUPDATE:109000\n",
      "REUPDATE:110000\n"
     ]
    }
   ],
   "source": [
    "while(hasNext):  \n",
    "    s = (ctr * f)+start\n",
    "    e = min(s + f, len(unlabelled_bow))\n",
    "    print ('REUPDATE:'+ str(s))\n",
    "    if ((ctr+1) * f) >= len(unlabelled_bow):\n",
    "        hasNext = False\n",
    "    model.update(unlabelled_bow[s:e])\n",
    "    ctr +=1\n",
    "    pickle.dump(model,open('./input/lda_model.p','wb'))"
   ]
  },
  {
   "cell_type": "code",
   "execution_count": null,
   "metadata": {},
   "outputs": [],
   "source": [
    "def gen_frame(corpus_bow,model,num_topics):\n",
    "    topic_dists = np.zeros([len(corpus_bow),num_topics])\n",
    "    \n",
    "    for i,item in enumerate(corpus_bow):       \n",
    "        dists = model.get_document_topics(item)        \n",
    "        indices = list(dict(dists).keys())        \n",
    "        vals = list(dict(dists).values())        \n",
    "        topic_dists[i,indices] = vals\n",
    "\n",
    "    topic_dists = pd.DataFrame(topic_dists, columns = ['topic'+str(a) for a in range(num_topics)])"
   ]
  },
  {
   "cell_type": "code",
   "execution_count": null,
   "metadata": {},
   "outputs": [],
   "source": [
    "unlabelled_lda_vec = gen_frame(unlabelled_bow, model, num_topics)\n",
    "true_lda_vec = gen_frame(true_bow, model, num_topics)\n",
    "fake_lda_vec = gen_frame(fake_bow, model, num_topics)"
   ]
  },
  {
   "cell_type": "code",
   "execution_count": null,
   "metadata": {},
   "outputs": [],
   "source": [
    "pickle.dump(unlabelled_lda_vec, open('./input/unlabelled_lda_vec.p','wb'))\n",
    "pickle.dump(true_lda_vec, open('./input/true_lda_vec.p','wb'))\n",
    "pickle.dump(fake_lda_vec, open('./input/fake_lda_vec.p','wb'))"
   ]
  }
 ],
 "metadata": {
  "kernelspec": {
   "display_name": "Python 3",
   "language": "python",
   "name": "python3"
  },
  "language_info": {
   "codemirror_mode": {
    "name": "ipython",
    "version": 3
   },
   "file_extension": ".py",
   "mimetype": "text/x-python",
   "name": "python",
   "nbconvert_exporter": "python",
   "pygments_lexer": "ipython3",
   "version": "3.6.3"
  }
 },
 "nbformat": 4,
 "nbformat_minor": 2
}
