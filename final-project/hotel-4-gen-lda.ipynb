{
 "cells": [
  {
   "cell_type": "code",
   "execution_count": 1,
   "metadata": {},
   "outputs": [
    {
     "name": "stderr",
     "output_type": "stream",
     "text": [
      "C:\\Anaconda\\envs\\py36\\lib\\site-packages\\gensim\\utils.py:860: UserWarning: detected Windows; aliasing chunkize to chunkize_serial\n",
      "  warnings.warn(\"detected Windows; aliasing chunkize to chunkize_serial\")\n"
     ]
    }
   ],
   "source": [
    "import gensim\n",
    "from gensim import corpora, models, similarities\n",
    "import pickle\n",
    "import multiprocessing\n",
    "import numpy as np\n",
    "import pandas as pd\n",
    "import logging\n",
    "import warnings\n",
    "\n",
    "# logging.basicConfig(format='%(asctime)s : %(levelname)s : %(message)s', level=logging.INFO)\n",
    "warnings.filterwarnings(action='ignore')\n",
    "\n",
    "assert gensim.models.doc2vec.FAST_VERSION > -1\n",
    "cores = multiprocessing.cpu_count()\n",
    "\n",
    "# unlabelled_corpus = pickle.load(open('./input/unlabelled_corpus_clean3.p','rb'))\n",
    "true_corpus = pickle.load(open('./input/true_corpus_clean3.p','rb'))\n",
    "fake_corpus = pickle.load(open('./input/fake_corpus_clean3.p','rb'))"
   ]
  },
  {
   "cell_type": "code",
   "execution_count": 2,
   "metadata": {},
   "outputs": [],
   "source": [
    "dictionary = corpora.Dictionary(true_corpus + fake_corpus)\n",
    "# unlabelled_bow = [dictionary.doc2bow(s) for s in unlabelled_corpus]\n",
    "true_bow = [dictionary.doc2bow(s) for s in true_corpus]\n",
    "fake_bow = [dictionary.doc2bow(s) for s in fake_corpus]"
   ]
  },
  {
   "cell_type": "code",
   "execution_count": 3,
   "metadata": {},
   "outputs": [],
   "source": [
    "num_topics = 100\n",
    "chunksize = 400\n",
    "passes = 5\n",
    "\n",
    "hasNext = True\n",
    "start = 0\n",
    "f = 1000\n",
    "ctr = 0\n",
    "\n",
    "curr_bow = true_bow + fake_bow\n",
    "model = models.LdaModel(curr_bow, id2word=dictionary, num_topics=num_topics,alpha = 'auto',eta='auto',random_state=0, chunksize=chunksize, passes=passes)\n",
    "# model = pickle.load(open('./input/lda_model.p','rb'))"
   ]
  },
  {
   "cell_type": "code",
   "execution_count": null,
   "metadata": {},
   "outputs": [],
   "source": []
  },
  {
   "cell_type": "code",
   "execution_count": 4,
   "metadata": {},
   "outputs": [
    {
     "name": "stdout",
     "output_type": "stream",
     "text": [
      "REUPDATE:472000\n",
      "REUPDATE:473000\n",
      "REUPDATE:474000\n",
      "REUPDATE:475000\n",
      "REUPDATE:476000\n",
      "REUPDATE:477000\n",
      "REUPDATE:478000\n",
      "REUPDATE:479000\n",
      "REUPDATE:480000\n",
      "REUPDATE:481000\n",
      "REUPDATE:482000\n",
      "REUPDATE:483000\n",
      "REUPDATE:484000\n",
      "REUPDATE:485000\n",
      "REUPDATE:486000\n",
      "REUPDATE:487000\n",
      "REUPDATE:488000\n",
      "REUPDATE:489000\n",
      "REUPDATE:490000\n",
      "REUPDATE:491000\n",
      "REUPDATE:492000\n",
      "REUPDATE:493000\n",
      "REUPDATE:494000\n",
      "REUPDATE:495000\n",
      "REUPDATE:496000\n",
      "REUPDATE:497000\n",
      "REUPDATE:498000\n",
      "REUPDATE:499000\n",
      "REUPDATE:500000\n",
      "REUPDATE:501000\n",
      "REUPDATE:502000\n",
      "REUPDATE:503000\n",
      "REUPDATE:504000\n",
      "REUPDATE:505000\n",
      "REUPDATE:506000\n",
      "REUPDATE:507000\n",
      "REUPDATE:508000\n",
      "REUPDATE:509000\n",
      "REUPDATE:510000\n",
      "REUPDATE:511000\n",
      "REUPDATE:512000\n",
      "REUPDATE:513000\n",
      "REUPDATE:514000\n"
     ]
    }
   ],
   "source": [
    "while(hasNext):  \n",
    "    s = (ctr * f)+start\n",
    "    e = min(s + f, len(curr_bow))\n",
    "    print ('REUPDATE:'+ str(s))\n",
    "    if (s + f >= len(curr_bow)):\n",
    "        hasNext = False\n",
    "    model.update(curr_bow[s:e])\n",
    "    ctr +=1\n",
    "    pickle.dump(model,open('./input/lda_model.p','wb'))"
   ]
  },
  {
   "cell_type": "code",
   "execution_count": 4,
   "metadata": {},
   "outputs": [],
   "source": [
    "def gen_frame(corpus_bow,model,num_topics):\n",
    "    topic_dists = np.zeros([len(corpus_bow),num_topics])\n",
    "    \n",
    "    for i,item in enumerate(corpus_bow):       \n",
    "        dists = model.get_document_topics(item)        \n",
    "        indices = list(dict(dists).keys())        \n",
    "        vals = list(dict(dists).values())        \n",
    "        topic_dists[i,indices] = vals\n",
    "\n",
    "        topic_dists = pd.DataFrame(topic_dists, columns = ['topic'+str(a) , for a in range(num_topics)])\n",
    "    return topic_dists"
   ]
  },
  {
   "cell_type": "code",
   "execution_count": 5,
   "metadata": {},
   "outputs": [],
   "source": [
    "unlabelled_lda_vec = gen_frame(unlabelled_bow, model, num_topics)\n",
    "true_lda_vec = gen_frame(true_bow, model, num_topics)\n",
    "fake_lda_vec = gen_frame(fake_bow, model, num_topics)"
   ]
  },
  {
   "cell_type": "code",
   "execution_count": 5,
   "metadata": {},
   "outputs": [],
   "source": [
    "# pickle.dump(unlabelled_lda_vec, open('./input/unlabelled_lda_vec_sm.p','wb'))\n",
    "# pickle.dump(true_lda_vec, open('./input/true_lda_vec_sm.p','wb'))\n",
    "# pickle.dump(fake_lda_vec, open('./input/fake_lda_vec_sm.p','wb'))\n",
    "pickle.dump(dictionary, open('./input/corpus_dict.p','wb'))\n",
    "pickle.dump(model, open('./input/lda_model.p','wb'))"
   ]
  },
  {
   "cell_type": "code",
   "execution_count": null,
   "metadata": {},
   "outputs": [],
   "source": [
    "len(unlabelled_bow)"
   ]
  },
  {
   "cell_type": "code",
   "execution_count": null,
   "metadata": {},
   "outputs": [],
   "source": []
  }
 ],
 "metadata": {
  "kernelspec": {
   "display_name": "Python 3",
   "language": "python",
   "name": "python3"
  },
  "language_info": {
   "codemirror_mode": {
    "name": "ipython",
    "version": 3
   },
   "file_extension": ".py",
   "mimetype": "text/x-python",
   "name": "python",
   "nbconvert_exporter": "python",
   "pygments_lexer": "ipython3",
   "version": "3.6.3"
  }
 },
 "nbformat": 4,
 "nbformat_minor": 2
}
