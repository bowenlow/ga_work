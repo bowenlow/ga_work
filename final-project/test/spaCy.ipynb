{
 "cells": [
  {
   "cell_type": "code",
   "execution_count": 1,
   "metadata": {},
   "outputs": [
    {
     "name": "stderr",
     "output_type": "stream",
     "text": [
      "C:\\Anaconda\\envs\\py36\\lib\\site-packages\\gensim\\utils.py:860: UserWarning: detected Windows; aliasing chunkize to chunkize_serial\n",
      "  warnings.warn(\"detected Windows; aliasing chunkize to chunkize_serial\")\n"
     ]
    }
   ],
   "source": [
    "import numpy as np\n",
    "import scipy.stats as stats\n",
    "import csv\n",
    "import pandas as pd\n",
    "import seaborn as sns\n",
    "from matplotlib import pyplot as plt\n",
    "import gensim as gs \n",
    "from gensim import corpora, models, similarities\n",
    "import logging\n",
    "from sklearn.model_selection import train_test_split, GridSearchCV\n",
    "from sklearn.metrics import classification_report, confusion_matrix, accuracy_score,make_scorer, recall_score,precision_score,fbeta_score\n",
    "\n",
    "import gensim,logging\n",
    "from gensim.parsing import PorterStemmer\n",
    "from gensim.models import Word2Vec, Doc2Vec, Phrases\n",
    "from gensim.models.phrases import Phraser\n",
    "from wikipedia import search,page\n",
    "import multiprocessing\n",
    "import collections\n",
    "import re\n",
    "import warnings\n",
    "import spacy\n",
    "import nltk\n",
    "import pickle\n",
    "\n",
    "logging.basicConfig(format='%(asctime)s : %(levelname)s : %(message)s', level=logging.INFO)\n",
    "warnings.filterwarnings(action='ignore')\n",
    "\n",
    "assert gensim.models.doc2vec.FAST_VERSION > -1\n",
    "\n",
    "np.random.seed(0)\n",
    "cores = multiprocessing.cpu_count()"
   ]
  },
  {
   "cell_type": "code",
   "execution_count": 2,
   "metadata": {},
   "outputs": [],
   "source": [
    "df = pd.read_csv('../input/deceptive-opinion.csv')\n",
    "\n",
    "stop_words = pd.read_csv('../input/stopwords.csv',names=['stop'])\n",
    "new_stop = stop_words.stop.map(lambda x: str.capitalize(x))\n",
    "all_stop_set = set(stop_words.stop.append(new_stop,ignore_index=True))\n"
   ]
  },
  {
   "cell_type": "code",
   "execution_count": 3,
   "metadata": {},
   "outputs": [],
   "source": [
    "#generate combinations of all_stop_words, bigrams\n",
    "#generate bigram\n",
    "bigram_stops=[]\n",
    "for a in all_stop_set:\n",
    "    for b in all_stop_set:\n",
    "        bigram_stop = a+\"_\"+b\n",
    "        bigram_stops.append(bigram_stop)"
   ]
  },
  {
   "cell_type": "code",
   "execution_count": 4,
   "metadata": {},
   "outputs": [],
   "source": [
    "all_stop_set = all_stop_set.union(bigram_stops)\n"
   ]
  },
  {
   "cell_type": "code",
   "execution_count": 5,
   "metadata": {},
   "outputs": [],
   "source": [
    "def read_corpus(sentdf, tokens_only=False):\n",
    "    for i, line in enumerate(sentdf):\n",
    "        if tokens_only:\n",
    "            yield list(gensim.utils.tokenize(line))\n",
    "        else:\n",
    "            yield gensim.models.doc2vec.TaggedDocument(list(gensim.utils.tokenize(line)),[i])"
   ]
  },
  {
   "cell_type": "code",
   "execution_count": 6,
   "metadata": {},
   "outputs": [],
   "source": [
    "truedf = df[df.deceptive=='truthful'].loc[:,'text']\n",
    "fakedf = df[df.deceptive=='deceptive'].loc[:,'text']\n",
    "truedfy = df[df.deceptive=='truthful'].loc[:,'deceptive']\n",
    "fakedfy = df[df.deceptive=='deceptive'].loc[:,'deceptive']\n",
    "truedfy.replace({'truthful':1},inplace=True)\n",
    "fakedfy.replace({'deceptive':0},inplace=True)"
   ]
  },
  {
   "cell_type": "code",
   "execution_count": 7,
   "metadata": {},
   "outputs": [
    {
     "data": {
      "text/plain": [
       "'I stayed at The Talbott for 3 nights on business and was very pleased. The staff was friendly as can be immediately confirming the lore of the midwest. I was upgraded to a suite which was bigger than my apartment and certainly more luxurious. The free wi-fi came in handy as I needed to work remotely while there. Everything from the comfort of the bed to the staff and location made this a great stay. Oh, and I got to workout at the huge Equinox right next door for free. \\n'"
      ]
     },
     "execution_count": 7,
     "metadata": {},
     "output_type": "execute_result"
    }
   ],
   "source": [
    "truedf.iloc[189]"
   ]
  },
  {
   "cell_type": "code",
   "execution_count": 8,
   "metadata": {
    "scrolled": true
   },
   "outputs": [],
   "source": [
    "from spacy.tokenizer import Tokenizer\n",
    "from spacy import displacy\n",
    "nlp = spacy.load('en_core_web_sm')\n",
    "\n",
    "# prefix_re = re.compile(r'''^[\\[\\(\"']''')\n",
    "# suffix_re = re.compile(r'''[\\]\\)\"']$''')\n",
    "# infix_re = re.compile(r'''[-~]''')\n",
    "# simple_url_re = re.compile(r'''^https?://''')\n",
    "\n",
    "# nlp.tokenizer = Tokenizer(nlp.vocab, \n",
    "#                           prefix_search = prefix_re.search,\n",
    "#                           suffix_search = suffix_re.search,\n",
    "#                           infix_finditer = infix_re.finditer,\n",
    "#                           token_match = simple_url_re.match)"
   ]
  },
  {
   "cell_type": "code",
   "execution_count": 9,
   "metadata": {
    "scrolled": true
   },
   "outputs": [],
   "source": [
    "true_corpus = list(read_corpus(truedf,tokens_only=True))\n",
    "fake_corpus = list(read_corpus(fakedf,tokens_only=True))\n",
    "def to_list(doc):\n",
    "    return [t.text for t in doc]\n",
    "# true_corpus = [to_list(nlp(s))[:-1] for ind,s in enumerate(truedf)]\n",
    "# fake_corpus = [to_list(nlp(s))[:-1] for ind,s in enumerate(fakedf)]"
   ]
  },
  {
   "cell_type": "code",
   "execution_count": 10,
   "metadata": {
    "scrolled": false
   },
   "outputs": [
    {
     "name": "stderr",
     "output_type": "stream",
     "text": [
      "2018-02-01 16:39:02,652 : INFO : collecting all words and their counts\n",
      "2018-02-01 16:39:02,654 : INFO : PROGRESS: at sentence #0, processed 0 words and 0 word types\n",
      "2018-02-01 16:39:02,936 : INFO : collected 102558 word types from a corpus of 239406 words (unigram + bigrams) and 1600 sentences\n",
      "2018-02-01 16:39:02,937 : INFO : using 102558 counts as vocab in Phrases<0 vocab, min_count=5, threshold=10.0, max_vocab_size=40000000>\n",
      "2018-02-01 16:39:02,938 : INFO : source_vocab length 102558\n",
      "2018-02-01 16:39:03,997 : INFO : Phraser built with 532 532 phrasegrams\n",
      "2018-02-01 16:39:04,991 : INFO : collecting all words and their counts\n",
      "2018-02-01 16:39:04,992 : INFO : PROGRESS: at sentence #0, processed 0 words and 0 word types\n",
      "2018-02-01 16:39:05,253 : INFO : collected 104362 word types from a corpus of 229300 words (unigram + bigrams) and 1600 sentences\n",
      "2018-02-01 16:39:05,254 : INFO : using 104362 counts as vocab in Phrases<0 vocab, min_count=5, threshold=10.0, max_vocab_size=40000000>\n",
      "2018-02-01 16:39:05,259 : INFO : source_vocab length 104362\n",
      "2018-02-01 16:39:06,474 : INFO : Phraser built with 645 645 phrasegrams\n"
     ]
    }
   ],
   "source": [
    "phrase_list = []\n",
    "\n",
    "sentence_stream = [s for s in true_corpus + fake_corpus]\n",
    "phrases = Phrases(sentence_stream, common_terms=all_stop_set)\n",
    "bigram = Phraser(phrases)\n",
    "sentence_stream = [bigram[s] for s in sentence_stream]\n",
    "true_corpus = [bigram[s] for s in true_corpus]\n",
    "fake_corpus = [bigram[s] for s in fake_corpus]\n",
    "\n",
    "phrases = Phrases(sentence_stream, common_terms=all_stop_set)\n",
    "trigram = Phraser(phrases)\n",
    "sentence_stream = [trigram[s] for s in sentence_stream]\n",
    "true_corpus = [trigram[s] for s in true_corpus]\n",
    "fake_corpus = [trigram[s] for s in fake_corpus]\n",
    "\n",
    "def filter_stream(df, stopword_set):\n",
    "    sentence_stream = []\n",
    "    for s in df:\n",
    "        s2 = [c  for c in s if c not in stopword_set] \n",
    "        sentence_stream.append(s2)\n",
    "    return sentence_stream\n",
    "\n",
    "# sentence_stream2 = []\n",
    "# for s in sentence_stream:\n",
    "#     s2 = [c  for c in s if c not in all_stop_set] \n",
    "#     sentence_stream2.append(s2)\n",
    "\n",
    "sentence_stream2 = filter_stream(sentence_stream, all_stop_set)\n",
    "true_corpus = filter_stream(true_corpus, all_stop_set)\n",
    "fake_corpus = filter_stream(fake_corpus, all_stop_set)"
   ]
  },
  {
   "cell_type": "code",
   "execution_count": 11,
   "metadata": {},
   "outputs": [
    {
     "data": {
      "text/plain": [
       "[['Omni_Chicago',\n",
       "  'really',\n",
       "  'delivers',\n",
       "  'fronts',\n",
       "  'spaciousness',\n",
       "  'rooms',\n",
       "  'helpful',\n",
       "  'staff',\n",
       "  'prized',\n",
       "  'location',\n",
       "  'Michigan_Avenue',\n",
       "  'address',\n",
       "  'Chicago',\n",
       "  'requires',\n",
       "  'high',\n",
       "  'level',\n",
       "  'quality',\n",
       "  'Omni',\n",
       "  'delivers',\n",
       "  'Check',\n",
       "  'whole',\n",
       "  'group',\n",
       "  'people',\n",
       "  'minutes',\n",
       "  'staff',\n",
       "  'plentiful',\n",
       "  'recommendations',\n",
       "  'dining',\n",
       "  'events',\n",
       "  'rooms',\n",
       "  'largest',\n",
       "  'll',\n",
       "  'find',\n",
       "  'price',\n",
       "  'range',\n",
       "  'Chicago',\n",
       "  'Even',\n",
       "  'standard',\n",
       "  'room',\n",
       "  'separate',\n",
       "  'living',\n",
       "  'area',\n",
       "  'work',\n",
       "  'desk',\n",
       "  'fitness_center',\n",
       "  'free',\n",
       "  'weights',\n",
       "  'weight',\n",
       "  'machines',\n",
       "  'two',\n",
       "  'rows',\n",
       "  'cardio',\n",
       "  'equipment',\n",
       "  'shared',\n",
       "  'room',\n",
       "  'others',\n",
       "  'feel',\n",
       "  'cramped',\n",
       "  'way',\n",
       "  'great',\n",
       "  'property'],\n",
       " ['asked',\n",
       "  'high',\n",
       "  'floor',\n",
       "  'away',\n",
       "  'elevator',\n",
       "  'got',\n",
       "  'room',\n",
       "  'pleasantly',\n",
       "  'decorated',\n",
       "  'functional',\n",
       "  'clean',\n",
       "  'didn_t',\n",
       "  'need',\n",
       "  'whole',\n",
       "  'lot',\n",
       "  'service',\n",
       "  'pleasant',\n",
       "  'prompt',\n",
       "  'used',\n",
       "  'fitness_center',\n",
       "  'well',\n",
       "  'equipped',\n",
       "  'everything',\n",
       "  'working',\n",
       "  'order',\n",
       "  'great_location',\n",
       "  'one',\n",
       "  'end',\n",
       "  'Michigan_Avenue',\n",
       "  'shopping',\n",
       "  'district'],\n",
       " ['stayed_at_the_Omni',\n",
       "  'one_night',\n",
       "  'following',\n",
       "  'business_meeting',\n",
       "  'another',\n",
       "  'downtown_Chicago',\n",
       "  'hotel',\n",
       "  'completely',\n",
       "  'impressed',\n",
       "  'service',\n",
       "  'personnel',\n",
       "  'stay',\n",
       "  'absolutely',\n",
       "  'outstanding',\n",
       "  'checked',\n",
       "  'quite',\n",
       "  'early',\n",
       "  'problem',\n",
       "  'efficiently',\n",
       "  'checked',\n",
       "  'room',\n",
       "  'somewhat',\n",
       "  'heavy',\n",
       "  'scent',\n",
       "  'air',\n",
       "  'freshener',\n",
       "  'ONLY',\n",
       "  'negative',\n",
       "  'entire',\n",
       "  'stay',\n",
       "  'managed',\n",
       "  'reasonably',\n",
       "  'well',\n",
       "  'opening',\n",
       "  'windows',\n",
       "  'don_t',\n",
       "  'generally',\n",
       "  'require',\n",
       "  'much',\n",
       "  'hotel',\n",
       "  'stays',\n",
       "  'suffice',\n",
       "  'say',\n",
       "  'doorman',\n",
       "  'housekeeping',\n",
       "  'night',\n",
       "  'manager',\n",
       "  'bartender',\n",
       "  'day',\n",
       "  'waiter',\n",
       "  'concierge',\n",
       "  'amazing',\n",
       "  'never',\n",
       "  'waited',\n",
       "  'seconds',\n",
       "  'anything',\n",
       "  'room',\n",
       "  'comfy',\n",
       "  'amenities',\n",
       "  'superior',\n",
       "  'One',\n",
       "  'tiny',\n",
       "  'complaint',\n",
       "  'wastebasket',\n",
       "  'near',\n",
       "  'sink',\n",
       "  'near',\n",
       "  'wet',\n",
       "  'bar',\n",
       "  'walk',\n",
       "  'end',\n",
       "  'bathroom',\n",
       "  'sitting',\n",
       "  'room',\n",
       "  'dispose',\n",
       "  'kleenex',\n",
       "  'coffee',\n",
       "  'paraphernalia',\n",
       "  'One',\n",
       "  'wastebasket',\n",
       "  'make',\n",
       "  'difference',\n",
       "  'said',\n",
       "  'great',\n",
       "  'hotel',\n",
       "  'Thanks',\n",
       "  'Omni',\n",
       "  'great',\n",
       "  'stay']]"
      ]
     },
     "execution_count": 11,
     "metadata": {},
     "output_type": "execute_result"
    }
   ],
   "source": [
    "true_corpus[3:6]"
   ]
  },
  {
   "cell_type": "code",
   "execution_count": 12,
   "metadata": {},
   "outputs": [],
   "source": [
    "true_corpus_raw = pickle.load(open('../input/true_corpus_raw.p','rb'))\n",
    "fake_corpus_raw = pickle.load(open('../input/fake_corpus_raw.p','rb'))\n",
    "sentence_stream_raw = true_corpus_raw + fake_corpus_raw"
   ]
  },
  {
   "cell_type": "code",
   "execution_count": 13,
   "metadata": {},
   "outputs": [],
   "source": [
    "from vaderSentiment.vaderSentiment import SentimentIntensityAnalyzer\n",
    "sia = SentimentIntensityAnalyzer()\n",
    "\n",
    "compound = []\n",
    "neg = []\n",
    "neu = []\n",
    "pos = []\n",
    "# raw_corpus = true_corpus + fake_corpus\n",
    "for s in sentence_stream_raw:\n",
    "    sent = sia.polarity_scores(' '.join(s))\n",
    "    compound.append(sent['compound'])\n",
    "    neg.append(sent['neg'])\n",
    "    neu.append(sent['neu'])\n",
    "    pos.append(sent['pos'])\n",
    "\n",
    "vader_sent = pd.DataFrame({'compound':compound, 'neg':neg, 'neu':neu, 'pos':pos})"
   ]
  },
  {
   "cell_type": "code",
   "execution_count": 14,
   "metadata": {},
   "outputs": [
    {
     "name": "stdout",
     "output_type": "stream",
     "text": [
      "0\n",
      "100\n",
      "200\n",
      "300\n",
      "400\n",
      "500\n",
      "600\n",
      "700\n",
      "800\n",
      "900\n",
      "1000\n",
      "1100\n",
      "1200\n",
      "1300\n",
      "1400\n",
      "1500\n"
     ]
    }
   ],
   "source": [
    "from empath import Empath\n",
    "lexicon = Empath()\n",
    "\n",
    "lexicon_results = pd.DataFrame(columns=lexicon.cats)\n",
    "for ind, s in enumerate(sentence_stream_raw):\n",
    "    lexicon_results = lexicon_results.append(pd.Series([np.nan]), ignore_index=True)\n",
    "    results = (lexicon.analyze(s))\n",
    "    if (ind % 100 == 0):\n",
    "        print(ind)\n",
    "    for k in results.keys():\n",
    "        lexicon_results[k].iloc[ind] = results[k]\n",
    "\n",
    "lexicon_results.drop(columns=[0],inplace=True)"
   ]
  },
  {
   "cell_type": "code",
   "execution_count": 15,
   "metadata": {},
   "outputs": [
    {
     "data": {
      "text/html": [
       "<div>\n",
       "<style scoped>\n",
       "    .dataframe tbody tr th:only-of-type {\n",
       "        vertical-align: middle;\n",
       "    }\n",
       "\n",
       "    .dataframe tbody tr th {\n",
       "        vertical-align: top;\n",
       "    }\n",
       "\n",
       "    .dataframe thead th {\n",
       "        text-align: right;\n",
       "    }\n",
       "</style>\n",
       "<table border=\"1\" class=\"dataframe\">\n",
       "  <thead>\n",
       "    <tr style=\"text-align: right;\">\n",
       "      <th></th>\n",
       "      <th>help</th>\n",
       "      <th>office</th>\n",
       "      <th>dance</th>\n",
       "      <th>money</th>\n",
       "      <th>wedding</th>\n",
       "      <th>domestic_work</th>\n",
       "      <th>sleep</th>\n",
       "      <th>medical_emergency</th>\n",
       "      <th>cold</th>\n",
       "      <th>hate</th>\n",
       "      <th>...</th>\n",
       "      <th>weapon</th>\n",
       "      <th>children</th>\n",
       "      <th>monster</th>\n",
       "      <th>ocean</th>\n",
       "      <th>giving</th>\n",
       "      <th>contentment</th>\n",
       "      <th>writing</th>\n",
       "      <th>rural</th>\n",
       "      <th>positive_emotion</th>\n",
       "      <th>musical</th>\n",
       "    </tr>\n",
       "  </thead>\n",
       "  <tbody>\n",
       "    <tr>\n",
       "      <th>0</th>\n",
       "      <td>1.0</td>\n",
       "      <td>1.0</td>\n",
       "      <td>0.0</td>\n",
       "      <td>2.0</td>\n",
       "      <td>1.0</td>\n",
       "      <td>3.0</td>\n",
       "      <td>1.0</td>\n",
       "      <td>0.0</td>\n",
       "      <td>0.0</td>\n",
       "      <td>0.0</td>\n",
       "      <td>...</td>\n",
       "      <td>0.0</td>\n",
       "      <td>1.0</td>\n",
       "      <td>0.0</td>\n",
       "      <td>1.0</td>\n",
       "      <td>2.0</td>\n",
       "      <td>0.0</td>\n",
       "      <td>0.0</td>\n",
       "      <td>0.0</td>\n",
       "      <td>1.0</td>\n",
       "      <td>0.0</td>\n",
       "    </tr>\n",
       "    <tr>\n",
       "      <th>1</th>\n",
       "      <td>0.0</td>\n",
       "      <td>2.0</td>\n",
       "      <td>0.0</td>\n",
       "      <td>0.0</td>\n",
       "      <td>0.0</td>\n",
       "      <td>0.0</td>\n",
       "      <td>1.0</td>\n",
       "      <td>0.0</td>\n",
       "      <td>0.0</td>\n",
       "      <td>0.0</td>\n",
       "      <td>...</td>\n",
       "      <td>0.0</td>\n",
       "      <td>0.0</td>\n",
       "      <td>0.0</td>\n",
       "      <td>0.0</td>\n",
       "      <td>0.0</td>\n",
       "      <td>0.0</td>\n",
       "      <td>0.0</td>\n",
       "      <td>0.0</td>\n",
       "      <td>1.0</td>\n",
       "      <td>0.0</td>\n",
       "    </tr>\n",
       "    <tr>\n",
       "      <th>2</th>\n",
       "      <td>2.0</td>\n",
       "      <td>0.0</td>\n",
       "      <td>0.0</td>\n",
       "      <td>1.0</td>\n",
       "      <td>1.0</td>\n",
       "      <td>2.0</td>\n",
       "      <td>4.0</td>\n",
       "      <td>0.0</td>\n",
       "      <td>0.0</td>\n",
       "      <td>0.0</td>\n",
       "      <td>...</td>\n",
       "      <td>0.0</td>\n",
       "      <td>2.0</td>\n",
       "      <td>0.0</td>\n",
       "      <td>0.0</td>\n",
       "      <td>0.0</td>\n",
       "      <td>0.0</td>\n",
       "      <td>0.0</td>\n",
       "      <td>0.0</td>\n",
       "      <td>3.0</td>\n",
       "      <td>0.0</td>\n",
       "    </tr>\n",
       "    <tr>\n",
       "      <th>3</th>\n",
       "      <td>1.0</td>\n",
       "      <td>5.0</td>\n",
       "      <td>0.0</td>\n",
       "      <td>1.0</td>\n",
       "      <td>0.0</td>\n",
       "      <td>0.0</td>\n",
       "      <td>0.0</td>\n",
       "      <td>0.0</td>\n",
       "      <td>1.0</td>\n",
       "      <td>0.0</td>\n",
       "      <td>...</td>\n",
       "      <td>0.0</td>\n",
       "      <td>0.0</td>\n",
       "      <td>0.0</td>\n",
       "      <td>0.0</td>\n",
       "      <td>0.0</td>\n",
       "      <td>1.0</td>\n",
       "      <td>0.0</td>\n",
       "      <td>1.0</td>\n",
       "      <td>1.0</td>\n",
       "      <td>0.0</td>\n",
       "    </tr>\n",
       "    <tr>\n",
       "      <th>4</th>\n",
       "      <td>0.0</td>\n",
       "      <td>1.0</td>\n",
       "      <td>0.0</td>\n",
       "      <td>0.0</td>\n",
       "      <td>0.0</td>\n",
       "      <td>1.0</td>\n",
       "      <td>0.0</td>\n",
       "      <td>0.0</td>\n",
       "      <td>0.0</td>\n",
       "      <td>0.0</td>\n",
       "      <td>...</td>\n",
       "      <td>0.0</td>\n",
       "      <td>0.0</td>\n",
       "      <td>0.0</td>\n",
       "      <td>0.0</td>\n",
       "      <td>3.0</td>\n",
       "      <td>0.0</td>\n",
       "      <td>1.0</td>\n",
       "      <td>0.0</td>\n",
       "      <td>1.0</td>\n",
       "      <td>0.0</td>\n",
       "    </tr>\n",
       "    <tr>\n",
       "      <th>5</th>\n",
       "      <td>1.0</td>\n",
       "      <td>5.0</td>\n",
       "      <td>0.0</td>\n",
       "      <td>0.0</td>\n",
       "      <td>0.0</td>\n",
       "      <td>2.0</td>\n",
       "      <td>3.0</td>\n",
       "      <td>0.0</td>\n",
       "      <td>2.0</td>\n",
       "      <td>0.0</td>\n",
       "      <td>...</td>\n",
       "      <td>0.0</td>\n",
       "      <td>0.0</td>\n",
       "      <td>0.0</td>\n",
       "      <td>0.0</td>\n",
       "      <td>1.0</td>\n",
       "      <td>0.0</td>\n",
       "      <td>0.0</td>\n",
       "      <td>0.0</td>\n",
       "      <td>2.0</td>\n",
       "      <td>0.0</td>\n",
       "    </tr>\n",
       "    <tr>\n",
       "      <th>6</th>\n",
       "      <td>2.0</td>\n",
       "      <td>4.0</td>\n",
       "      <td>1.0</td>\n",
       "      <td>0.0</td>\n",
       "      <td>0.0</td>\n",
       "      <td>1.0</td>\n",
       "      <td>2.0</td>\n",
       "      <td>0.0</td>\n",
       "      <td>0.0</td>\n",
       "      <td>0.0</td>\n",
       "      <td>...</td>\n",
       "      <td>0.0</td>\n",
       "      <td>0.0</td>\n",
       "      <td>0.0</td>\n",
       "      <td>0.0</td>\n",
       "      <td>2.0</td>\n",
       "      <td>0.0</td>\n",
       "      <td>0.0</td>\n",
       "      <td>0.0</td>\n",
       "      <td>0.0</td>\n",
       "      <td>1.0</td>\n",
       "    </tr>\n",
       "  </tbody>\n",
       "</table>\n",
       "<p>7 rows × 194 columns</p>\n",
       "</div>"
      ],
      "text/plain": [
       "   help  office  dance  money  wedding  domestic_work  sleep  \\\n",
       "0   1.0     1.0    0.0    2.0      1.0            3.0    1.0   \n",
       "1   0.0     2.0    0.0    0.0      0.0            0.0    1.0   \n",
       "2   2.0     0.0    0.0    1.0      1.0            2.0    4.0   \n",
       "3   1.0     5.0    0.0    1.0      0.0            0.0    0.0   \n",
       "4   0.0     1.0    0.0    0.0      0.0            1.0    0.0   \n",
       "5   1.0     5.0    0.0    0.0      0.0            2.0    3.0   \n",
       "6   2.0     4.0    1.0    0.0      0.0            1.0    2.0   \n",
       "\n",
       "   medical_emergency  cold  hate   ...     weapon  children  monster  ocean  \\\n",
       "0                0.0   0.0   0.0   ...        0.0       1.0      0.0    1.0   \n",
       "1                0.0   0.0   0.0   ...        0.0       0.0      0.0    0.0   \n",
       "2                0.0   0.0   0.0   ...        0.0       2.0      0.0    0.0   \n",
       "3                0.0   1.0   0.0   ...        0.0       0.0      0.0    0.0   \n",
       "4                0.0   0.0   0.0   ...        0.0       0.0      0.0    0.0   \n",
       "5                0.0   2.0   0.0   ...        0.0       0.0      0.0    0.0   \n",
       "6                0.0   0.0   0.0   ...        0.0       0.0      0.0    0.0   \n",
       "\n",
       "   giving  contentment  writing  rural  positive_emotion  musical  \n",
       "0     2.0          0.0      0.0    0.0               1.0      0.0  \n",
       "1     0.0          0.0      0.0    0.0               1.0      0.0  \n",
       "2     0.0          0.0      0.0    0.0               3.0      0.0  \n",
       "3     0.0          1.0      0.0    1.0               1.0      0.0  \n",
       "4     3.0          0.0      1.0    0.0               1.0      0.0  \n",
       "5     1.0          0.0      0.0    0.0               2.0      0.0  \n",
       "6     2.0          0.0      0.0    0.0               0.0      1.0  \n",
       "\n",
       "[7 rows x 194 columns]"
      ]
     },
     "execution_count": 15,
     "metadata": {},
     "output_type": "execute_result"
    }
   ],
   "source": [
    "lexicon_results.head(7)"
   ]
  },
  {
   "cell_type": "code",
   "execution_count": 16,
   "metadata": {},
   "outputs": [],
   "source": [
    "true_fake_corpus = []\n",
    "for ind,s in enumerate(sentence_stream2):\n",
    "    true_fake_corpus.append(gensim.models.doc2vec.TaggedDocument(s,[ind]))\n"
   ]
  },
  {
   "cell_type": "code",
   "execution_count": 17,
   "metadata": {
    "scrolled": true
   },
   "outputs": [
    {
     "name": "stderr",
     "output_type": "stream",
     "text": [
      "2018-02-01 16:40:39,575 : INFO : adding document #0 to Dictionary(0 unique tokens: [])\n",
      "2018-02-01 16:40:39,708 : INFO : built Dictionary(11248 unique tokens: ['stayed', 'one_night', 'getaway', 'family', 'thursday']...) from 1600 documents (total 108880 corpus positions)\n",
      "2018-02-01 16:40:39,811 : INFO : collecting document frequencies\n",
      "2018-02-01 16:40:39,812 : INFO : PROGRESS: processing document #0\n",
      "2018-02-01 16:40:39,842 : INFO : calculating IDF weights for 1600 documents and 11247 features (96014 matrix non-zeros)\n"
     ]
    }
   ],
   "source": [
    "from gensim import models\n",
    "# true_raw = pickle.load(open('../input/true_corpus_raw.p','rb'))\n",
    "# fake_raw = pickle.load(open('../input/fake_corpus_raw.p','rb'))\n",
    "\n",
    "dictionary = corpora.Dictionary(sentence_stream2)\n",
    "\n",
    "corpus_bow = [dictionary.doc2bow(s) for s in sentence_stream2]\n",
    "tfidf = models.TfidfModel(corpus_bow)"
   ]
  },
  {
   "cell_type": "code",
   "execution_count": 58,
   "metadata": {},
   "outputs": [
    {
     "name": "stderr",
     "output_type": "stream",
     "text": [
      "2018-02-01 17:09:21,666 : INFO : using autotuned alpha, starting with [0.005, 0.005, 0.005, 0.005, 0.005, 0.005, 0.005, 0.005, 0.005, 0.005, 0.005, 0.005, 0.005, 0.005, 0.005, 0.005, 0.005, 0.005, 0.005, 0.005, 0.005, 0.005, 0.005, 0.005, 0.005, 0.005, 0.005, 0.005, 0.005, 0.005, 0.005, 0.005, 0.005, 0.005, 0.005, 0.005, 0.005, 0.005, 0.005, 0.005, 0.005, 0.005, 0.005, 0.005, 0.005, 0.005, 0.005, 0.005, 0.005, 0.005, 0.005, 0.005, 0.005, 0.005, 0.005, 0.005, 0.005, 0.005, 0.005, 0.005, 0.005, 0.005, 0.005, 0.005, 0.005, 0.005, 0.005, 0.005, 0.005, 0.005, 0.005, 0.005, 0.005, 0.005, 0.005, 0.005, 0.005, 0.005, 0.005, 0.005, 0.005, 0.005, 0.005, 0.005, 0.005, 0.005, 0.005, 0.005, 0.005, 0.005, 0.005, 0.005, 0.005, 0.005, 0.005, 0.005, 0.005, 0.005, 0.005, 0.005, 0.005, 0.005, 0.005, 0.005, 0.005, 0.005, 0.005, 0.005, 0.005, 0.005, 0.005, 0.005, 0.005, 0.005, 0.005, 0.005, 0.005, 0.005, 0.005, 0.005, 0.005, 0.005, 0.005, 0.005, 0.005, 0.005, 0.005, 0.005, 0.005, 0.005, 0.005, 0.005, 0.005, 0.005, 0.005, 0.005, 0.005, 0.005, 0.005, 0.005, 0.005, 0.005, 0.005, 0.005, 0.005, 0.005, 0.005, 0.005, 0.005, 0.005, 0.005, 0.005, 0.005, 0.005, 0.005, 0.005, 0.005, 0.005, 0.005, 0.005, 0.005, 0.005, 0.005, 0.005, 0.005, 0.005, 0.005, 0.005, 0.005, 0.005, 0.005, 0.005, 0.005, 0.005, 0.005, 0.005, 0.005, 0.005, 0.005, 0.005, 0.005, 0.005, 0.005, 0.005, 0.005, 0.005, 0.005, 0.005, 0.005, 0.005, 0.005, 0.005, 0.005, 0.005, 0.005, 0.005, 0.005, 0.005, 0.005, 0.005]\n",
      "2018-02-01 17:09:21,670 : INFO : using serial LDA version on this node\n",
      "2018-02-01 17:09:30,542 : INFO : running online (multi-pass) LDA training, 200 topics, 5 passes over the supplied corpus of 1600 documents, updating model once every 400 documents, evaluating perplexity every 1600 documents, iterating 50x with a convergence threshold of 0.001000\n",
      "2018-02-01 17:09:30,544 : INFO : PROGRESS: pass 0, at document #400/1600\n",
      "2018-02-01 17:09:32,692 : INFO : optimized alpha [0.005016812419162258, 0.0049628731508176175, 0.004962702872027998, 0.004937333380850723, 0.004950211935087586, 0.004937427889664008, 0.004974806963709708, 0.0049628562943285935, 0.005002305128507907, 0.005025855702560007, 0.004975673573399292, 0.004911923266387355, 0.004988400687917945, 0.0049758676927820844, 0.004899299634724121, 0.004949935593146802, 0.004899325174929738, 0.004962912369354335, 0.004962632866984135, 0.0049756886001469155, 0.004988176307794321, 0.004937239969057705, 0.005127708450068186, 0.004962873581186212, 0.004988043714484991, 0.004909409724220382, 0.005026539433647604, 0.004937445712847336, 0.004962697381209647, 0.0049247448703899676, 0.004924760342061384, 0.004912073224883402, 0.004988262711734725, 0.004911442889367703, 0.004936614728931715, 0.004950239729027275, 0.004911988085761296, 0.0048994034504035115, 0.004937279826178347, 0.005038529507721932, 0.004950106632979745, 0.004987752560689177, 0.004975135268747664, 0.004937441110002106, 0.004937500003954123, 0.004886645687481665, 0.004912111290008906, 0.004912056831397905, 0.0049628735423100845, 0.004948820598219973, 0.004975405624331996, 0.004975954325078353, 0.004925739951845699, 0.004950028381449969, 0.004962876960560941, 0.005000483057672181, 0.004924804666978205, 0.0049626945632048475, 0.0050011841738572035, 0.004899124761864441, 0.004924900033955117, 0.004886640231640418, 0.004975428677777345, 0.0051414141538563204, 0.0049373714314632985, 0.0049883432134421295, 0.004924738762749852, 0.00492486677459133, 0.004899411080197261, 0.004950368828075116, 0.00493750687087811, 0.004937616536595138, 0.004912108986020757, 0.0049501747688927514, 0.004911814412491592, 0.005026884292322255, 0.0049882749882822815, 0.005020741851593957, 0.005013554938978893, 0.00503904785869255, 0.004911867399842601, 0.0050396186279479255, 0.004924382852588617, 0.004962760847059584, 0.005032242786995952, 0.0050137361039143645, 0.004932946320604877, 0.0049120725724301015, 0.0049503426421603405, 0.00491202255743254, 0.0050013045787234214, 0.004912079705904871, 0.004937195815684169, 0.004911811000279245, 0.004987540052030966, 0.004936930894390383, 0.004906310422654586, 0.005024355972718934, 0.004886640231640418, 0.004912017222394595, 0.0050012627606780165, 0.0049630295074115025, 0.0049703283255564685, 0.004912154265736632, 0.004912086221175794, 0.004924808672794571, 0.004949857347464086, 0.0049373505635509655, 0.004962288461304115, 0.004974477307677837, 0.004924896386453599, 0.004974471321801947, 0.004988356679535107, 0.004949726806212679, 0.00495028458447459, 0.004962682511241632, 0.0049243843499598, 0.00496293490922587, 0.00497528783506878, 0.004936859823954893, 0.005033999221384714, 0.0049883936860113404, 0.004937617087810952, 0.004937602493386306, 0.0049374121150898885, 0.004924825610165501, 0.004924704030252398, 0.00494993293839279, 0.004962716619914415, 0.004924761771330507, 0.004911962742678459, 0.004886640661578332, 0.004899383263197967, 0.004962032909288988, 0.004950201797182153, 0.004949943806927409, 0.004899289056494838, 0.004886640231640418, 0.0049374547510757675, 0.004912124786654685, 0.004950257013941185, 0.004924519452778502, 0.004962148295146423, 0.004950066441156267, 0.004949970367449373, 0.004911907651518161, 0.004937476531905383, 0.004951764974484616, 0.004924718384704245, 0.004962953586016637, 0.004924487023636933, 0.004950018057935591, 0.004975340961724318, 0.004950321830645262, 0.004949625444825289, 0.005025926016122626, 0.004899425433333139, 0.005039308721855166, 0.005001342967065306, 0.0050008071053863875, 0.004975770687175794, 0.00492468922397722, 0.004937223457026108, 0.005013526292320996, 0.004975681084909889, 0.004911951479160788, 0.004913064162468392, 0.004937609201009914, 0.005001077404578397, 0.004962964060650735, 0.004987636355502184, 0.004937433660476287, 0.004899271151704822, 0.004987007531404119, 0.005025279111337368, 0.0049247092653036725, 0.004924790932465184, 0.004962919953616093, 0.00492488168314827, 0.004961294378189809, 0.005013994725011289, 0.0050646181582768065, 0.00498842324372226, 0.004912097827031126, 0.004937395048865053, 0.004912013467754754, 0.004962733727572351, 0.004982561914001686, 0.004937412302180035, 0.004924583400518172, 0.0049245515241455925, 0.004911932230675386, 0.004949919343872297, 0.005003849258809343, 0.00491208575100284, 0.005000661679526399, 0.00491212472799611, 0.004937507596919348, 0.004962821395379193, 0.004912055185652689]\n",
      "2018-02-01 17:09:32,719 : INFO : merging changes from 400 documents into a model of 1600 documents\n",
      "2018-02-01 17:09:33,123 : INFO : topic #61 (0.005): 0.000*\"huffed\" + 0.000*\"disconnect\" + 0.000*\"encourage\" + 0.000*\"alternatives\" + 0.000*\"edit\" + 0.000*\"existing\" + 0.000*\"someone_came\" + 0.000*\"Ill\" + 0.000*\"revised\" + 0.000*\"Setting\"\n",
      "2018-02-01 17:09:33,125 : INFO : topic #156 (0.005): 0.095*\"hotel\" + 0.024*\"helpful\" + 0.024*\"another\" + 0.024*\"beds\" + 0.024*\"little\" + 0.024*\"staff\" + 0.024*\"reading\" + 0.024*\"cancelled\" + 0.024*\"worth_every\" + 0.024*\"negative\"\n",
      "2018-02-01 17:09:33,127 : INFO : topic #22 (0.005): 0.024*\"hotel\" + 0.024*\"great\" + 0.014*\"large\" + 0.013*\"room\" + 0.012*\"location\" + 0.012*\"Chicago\" + 0.011*\"s\" + 0.011*\"stay\" + 0.011*\"staff\" + 0.009*\"loved\"\n",
      "2018-02-01 17:09:33,129 : INFO : topic #181 (0.005): 0.025*\"hotel\" + 0.025*\"room\" + 0.014*\"staff\" + 0.014*\"Chicago\" + 0.010*\"comfortable\" + 0.010*\"beautiful\" + 0.009*\"rooms\" + 0.009*\"small\" + 0.009*\"back\" + 0.009*\"location\"\n",
      "2018-02-01 17:09:33,131 : INFO : topic #63 (0.005): 0.025*\"hotel\" + 0.022*\"room\" + 0.017*\"great\" + 0.012*\"s\" + 0.010*\"stay\" + 0.010*\"good\" + 0.010*\"just\" + 0.010*\"Chicago\" + 0.008*\"service\" + 0.008*\"well\"\n",
      "2018-02-01 17:09:33,149 : INFO : topic diff=191.797564, rho=1.000000\n",
      "2018-02-01 17:09:33,310 : INFO : PROGRESS: pass 0, at document #800/1600\n"
     ]
    },
    {
     "name": "stderr",
     "output_type": "stream",
     "text": [
      "2018-02-01 17:09:35,305 : INFO : optimized alpha [0.00527095020334451, 0.004959244095375119, 0.005215892194659711, 0.005083688896740689, 0.004991033992934928, 0.005356331812112217, 0.005014783956877158, 0.005127114536731649, 0.005363461664473786, 0.005227112411766237, 0.005389489838086051, 0.005022764105175165, 0.005233628365361045, 0.005283018483720381, 0.0048180078818361675, 0.0051229675911916945, 0.0048355812431981815, 0.005561166915709085, 0.005205906021670386, 0.005175522041687184, 0.005366697468575304, 0.005180371415617881, 0.005358919408208738, 0.005269575260459907, 0.005250670588870427, 0.005308620105329579, 0.005201165234243254, 0.005022095052759483, 0.004888109959901652, 0.004877750252962914, 0.0056507751843947905, 0.005075287109803838, 0.005296079757546449, 0.004882168035433085, 0.004854080006337792, 0.005388010745226896, 0.005092386767764484, 0.004966339623749995, 0.0049689984299392306, 0.0050875691917964, 0.0051227211083959175, 0.005331029630565932, 0.005050580014183715, 0.005197812934150028, 0.005136390538251039, 0.005118329777285157, 0.005127313817440953, 0.005215451907349299, 0.005321415538426229, 0.005623323703542454, 0.004998103992291885, 0.005247468523383349, 0.005229939901738103, 0.005061527477393057, 0.005074288998227517, 0.005192191295596432, 0.005053445062010876, 0.005436943607489952, 0.005407451930721067, 0.004869792054420454, 0.005193345395965482, 0.005033186661209754, 0.005307757981353553, 0.00563144836904336, 0.004863606703316598, 0.005323194592622376, 0.005132144850873736, 0.005281030289830246, 0.005140482809604325, 0.005760422704971516, 0.005347532889729328, 0.005444897760956344, 0.005390012354685615, 0.0051323694453016, 0.005329877895356475, 0.005362782003549824, 0.005411298433774731, 0.005338076453877857, 0.00530451438229531, 0.005195466652868092, 0.00483015806650307, 0.005404190661519005, 0.004947563416784009, 0.005038262542490285, 0.0053951552185667485, 0.00541171084142222, 0.005008817736691274, 0.005100900779616492, 0.0056363932631181765, 0.004935303677634022, 0.00521091587068908, 0.004970278163772931, 0.0054529833922749285, 0.005188064830639197, 0.005089891396395039, 0.004915991399782894, 0.005069180273871207, 0.0055532624726093004, 0.005042145453099286, 0.005136831274591282, 0.005184616178960259, 0.005224299793651671, 0.005285652068206194, 0.004996537450279417, 0.005223836713941128, 0.005492775362092237, 0.00513115265570531, 0.005189054184308806, 0.004976020108675726, 0.004952655802137562, 0.005105595257991843, 0.005680013304484183, 0.005046275649434504, 0.004884461309430908, 0.0052911372485375825, 0.005011819284122773, 0.004886137895397963, 0.005374453658698823, 0.005485868562437463, 0.005408357395631033, 0.005632417230027618, 0.005099510543615139, 0.005382983483761123, 0.005242403397881059, 0.004977779411909674, 0.005264372273926595, 0.004947680101804609, 0.00500773221397965, 0.005331260729292379, 0.004921311710040194, 0.005101544909874472, 0.005033932078518486, 0.005106152082417438, 0.005108665932140205, 0.005087868659833549, 0.004981743423021439, 0.004888022188518381, 0.005086400117608282, 0.005268787356180228, 0.004935254484442774, 0.005325674725842921, 0.005175930990060254, 0.005188885126856409, 0.005184572163055772, 0.004964042189840999, 0.004830196979045608, 0.005065947514772402, 0.004983721890954452, 0.005079400182549165, 0.005224859420328536, 0.00485113683142244, 0.00507873164664328, 0.005060065465314445, 0.0054243675872912515, 0.005149128380167427, 0.005433879454506059, 0.005525724706571515, 0.0052411342705839595, 0.005426838025990205, 0.005290386820188114, 0.00511404656857616, 0.0050527911670170495, 0.004872305889020363, 0.005107568304083573, 0.005122559000713915, 0.004830239348573881, 0.005269878382212258, 0.005260237533492635, 0.005183555317303636, 0.005092321322236845, 0.005143518907776361, 0.0051450859216355315, 0.004888178368749112, 0.0051154888663656915, 0.005451134906427912, 0.005000347048228349, 0.004992113503219473, 0.0052070384672728886, 0.005026720150410753, 0.005054611784430816, 0.005429921143968735, 0.0053127288079267134, 0.005224869643265452, 0.004979119435132301, 0.005092368488581406, 0.005250492027223447, 0.005029853468990189, 0.005253669246536091, 0.005294980376293158, 0.005070477625839446, 0.004903937551143209, 0.004856571656490859, 0.005219434802053789, 0.005106326047134504, 0.005066428668929081, 0.0053795143576317855, 0.004987666817727088, 0.005092468233622739, 0.005029874451934364, 0.005224191702478059]\n",
      "2018-02-01 17:09:35,329 : INFO : merging changes from 400 documents into a model of 1600 documents\n",
      "2018-02-01 17:09:35,692 : INFO : topic #80 (0.005): 0.005*\"breakfast\" + 0.004*\"Michigan_Ave\" + 0.004*\"good\" + 0.004*\"must\" + 0.004*\"recommend\" + 0.003*\"check\" + 0.003*\"bar\" + 0.003*\"made\" + 0.003*\"room\" + 0.003*\"whole\"\n",
      "2018-02-01 17:09:35,695 : INFO : topic #145 (0.005): 0.007*\"hotel\" + 0.004*\"wonderful\" + 0.003*\"room\" + 0.003*\"day\" + 0.003*\"staff\" + 0.003*\"visiting_Chicago\" + 0.003*\"well\" + 0.003*\"bathroom\" + 0.002*\"stay\" + 0.002*\"gym\"\n",
      "2018-02-01 17:09:35,698 : INFO : topic #111 (0.006): 0.030*\"hallway\" + 0.027*\"room\" + 0.025*\"weren_t\" + 0.023*\"seem\" + 0.019*\"hotel\" + 0.018*\"rooms\" + 0.016*\"complained\" + 0.016*\"stay\" + 0.014*\"working\" + 0.013*\"line\"\n",
      "2018-02-01 17:09:35,701 : INFO : topic #30 (0.006): 0.060*\"us\" + 0.035*\"room\" + 0.035*\"go\" + 0.034*\"finally\" + 0.032*\"put\" + 0.026*\"something\" + 0.019*\"outside\" + 0.019*\"long\" + 0.018*\"time\" + 0.018*\"day\"\n",
      "2018-02-01 17:09:35,703 : INFO : topic #69 (0.006): 0.029*\"told\" + 0.027*\"hotel\" + 0.021*\"room\" + 0.019*\"charge\" + 0.019*\"running\" + 0.017*\"one\" + 0.016*\"desk\" + 0.015*\"said\" + 0.015*\"will\" + 0.014*\"nice\"\n",
      "2018-02-01 17:09:35,723 : INFO : topic diff=12.831909, rho=0.707107\n",
      "2018-02-01 17:09:35,891 : INFO : PROGRESS: pass 0, at document #1200/1600\n"
     ]
    },
    {
     "name": "stderr",
     "output_type": "stream",
     "text": [
      "2018-02-01 17:09:37,289 : INFO : optimized alpha [0.005470458472540526, 0.0049924253587764695, 0.005315402572970904, 0.005182322467648663, 0.005096359500037315, 0.005636039723135151, 0.005069026325830735, 0.005255891033823811, 0.0056278402441726685, 0.005349997725952707, 0.005576139550009039, 0.005135080366764809, 0.005646431106685336, 0.005483373203817877, 0.00476082423110218, 0.00517728861705581, 0.004798973644039584, 0.005711789077745737, 0.005327753224338526, 0.005350063564277073, 0.005389382870904782, 0.00532510623033924, 0.005835913378237706, 0.0055082858250708605, 0.005251363206489525, 0.005508761400105343, 0.005376351561284213, 0.0052732436475231665, 0.004843386071501203, 0.0049392311770049095, 0.0059339883895199955, 0.005247275680868352, 0.005473731809796969, 0.004880079410372103, 0.004852954727513598, 0.005770991341112435, 0.005139149177609087, 0.005251882221036354, 0.005023412210599566, 0.005297586393795436, 0.00525900516323497, 0.006085383231040178, 0.0051343361230945525, 0.0053273265511511415, 0.00523522693281964, 0.0055131252821192306, 0.005233477310324687, 0.00526184135176798, 0.005529725632170549, 0.0057328613651765675, 0.004965657018891047, 0.005584757102965929, 0.0052842226005970164, 0.005152776363509948, 0.005143316465644865, 0.005480953442921416, 0.0052620256171053, 0.0056564816741929095, 0.005783965561339646, 0.005008575232590886, 0.005345250358406945, 0.005385698384817833, 0.005423713108206567, 0.006046154376186914, 0.0048195208121222105, 0.0054236111322061775, 0.005238661777152802, 0.005465424059003557, 0.0054109508458254464, 0.0061490512832033, 0.005378061034473045, 0.005973871127526297, 0.005514060922833171, 0.0054707049980462176, 0.005661721913814161, 0.00587129015307941, 0.005630676894101212, 0.005663753106345399, 0.005714371399618578, 0.005249660682791637, 0.004772685638822823, 0.005655297976353242, 0.004980460067587402, 0.0052172349572006844, 0.005795000014013536, 0.005836535950518631, 0.005237166378292652, 0.0052589280053696496, 0.005762813489254192, 0.0050185634546084015, 0.005553886085087858, 0.004981660587801696, 0.005998052445574956, 0.005347372808555035, 0.005203345879853936, 0.004949307952205117, 0.0053070417990062355, 0.005987074354832683, 0.00539531373127143, 0.00563116103596391, 0.0052997212154463885, 0.005537274489872749, 0.005401252780986434, 0.005247382418031958, 0.005557900518415485, 0.005921920359601957, 0.0053426887379841, 0.005341117925948033, 0.00494393280257935, 0.005115230426270766, 0.005352868090173816, 0.005914814759947733, 0.005166697837099087, 0.004854098152091181, 0.005522479783670982, 0.005145904119501212, 0.004862740489286867, 0.0054987231720860395, 0.005666908520343969, 0.00554836822032641, 0.00609706839900978, 0.005183792241680454, 0.0055070697311313255, 0.005410865601098098, 0.00498167116090062, 0.005356384867146805, 0.005338876212354566, 0.005171187545100862, 0.005415944783730919, 0.004961404201723924, 0.005481158095775175, 0.005430694809866672, 0.005204683567539635, 0.005237195100032811, 0.0053196333838100044, 0.005036360633569045, 0.004942412464692299, 0.005493783740782287, 0.0054832016442041215, 0.005046659363195937, 0.005557812652124757, 0.005207537095944639, 0.005410163035917836, 0.005261017291389077, 0.005126351598292107, 0.004772723625382259, 0.00538578295132743, 0.005081612274830782, 0.005340354395841579, 0.005606411061053028, 0.004828304450554412, 0.005177451073738989, 0.005291356253048298, 0.005541235713589153, 0.00545869066745341, 0.005598150537179907, 0.005924176838252279, 0.005333590805274899, 0.005630974797500115, 0.005707012988009508, 0.005488504359310809, 0.00528305487405185, 0.004849156404433883, 0.005102589753403352, 0.005266394800624335, 0.004772764986654717, 0.005499566798951424, 0.005475073007999406, 0.005486672086779486, 0.005383382912826967, 0.005280040035418607, 0.005236677018135591, 0.004999207936971135, 0.005266454601133655, 0.0055998123192758705, 0.004989423305635153, 0.005148238720023572, 0.00550337276386478, 0.00510305715680812, 0.0052338850980424715, 0.005547011243421399, 0.005483339365639331, 0.005355247652329094, 0.005026423097162695, 0.005272266433957482, 0.005365261291171314, 0.005274081651812966, 0.005621121595893732, 0.0053946299554691645, 0.005073332795015951, 0.004894596394490704, 0.0048476900735140655, 0.00527334074487116, 0.0052719325107270475, 0.005393084851163013, 0.005597980098864868, 0.005179409485495225, 0.005080167349493981, 0.005084436138565353, 0.00534662493315269]\n",
      "2018-02-01 17:09:37,313 : INFO : merging changes from 400 documents into a model of 1600 documents\n",
      "2018-02-01 17:09:37,636 : INFO : topic #14 (0.005): 0.003*\"us\" + 0.003*\"hotel\" + 0.002*\"Sheraton\" + 0.002*\"transferred\" + 0.001*\"like\" + 0.001*\"stayed\" + 0.001*\"best\" + 0.001*\"staff\" + 0.001*\"son\" + 0.001*\"helpful\"\n",
      "2018-02-01 17:09:37,637 : INFO : topic #64 (0.005): 0.032*\"club\" + 0.022*\"Nestled\" + 0.011*\"arching\" + 0.011*\"Romanesque\" + 0.011*\"sky\" + 0.011*\"scraping\" + 0.011*\"epicenter\" + 0.011*\"sought\" + 0.011*\"lace\" + 0.011*\"satisfy\"\n",
      "2018-02-01 17:09:37,638 : INFO : topic #41 (0.006): 0.033*\"husband\" + 0.028*\"business\" + 0.027*\"modern\" + 0.023*\"hotel\" + 0.023*\"wedding\" + 0.021*\"s\" + 0.020*\"highly_recommend\" + 0.018*\"get\" + 0.018*\"great\" + 0.017*\"room\"\n",
      "2018-02-01 17:09:37,641 : INFO : topic #69 (0.006): 0.031*\"hotel\" + 0.029*\"anyone\" + 0.019*\"room\" + 0.019*\"told\" + 0.018*\"one\" + 0.017*\"will\" + 0.017*\"nice\" + 0.016*\"downstairs\" + 0.016*\"always\" + 0.016*\"know\"\n",
      "2018-02-01 17:09:37,644 : INFO : topic #120 (0.006): 0.026*\"hotel\" + 0.023*\"manager\" + 0.019*\"stay\" + 0.019*\"room\" + 0.014*\"one\" + 0.014*\"Unfortunately\" + 0.014*\"Chicago\" + 0.013*\"staying\" + 0.013*\"s\" + 0.011*\"taken\"\n",
      "2018-02-01 17:09:37,663 : INFO : topic diff=9.708424, rho=0.577350\n",
      "2018-02-01 17:09:41,290 : INFO : -24.069 per-word bound, 17593748.9 perplexity estimate based on a held-out corpus of 400 documents with 31277 words\n",
      "2018-02-01 17:09:41,291 : INFO : PROGRESS: pass 0, at document #1600/1600\n"
     ]
    },
    {
     "name": "stderr",
     "output_type": "stream",
     "text": [
      "2018-02-01 17:09:43,294 : INFO : optimized alpha [0.005643131855671078, 0.005061500993948923, 0.005712641362206645, 0.0054535990405418676, 0.005223182593303658, 0.005996761158990687, 0.005175791866157882, 0.0054508149910008725, 0.00581846138272869, 0.005507651479734619, 0.005835723512938506, 0.005597719285792453, 0.00594457059557896, 0.005781877870112787, 0.004715463845822986, 0.005337873945644912, 0.004873214109960138, 0.0064235181401211434, 0.005457446873021427, 0.005554037268019258, 0.00583233362260697, 0.005690093130988138, 0.006038117814666218, 0.005884142273812978, 0.005466004782877472, 0.005910790385253667, 0.005574493569843309, 0.005448518601721765, 0.004802360228576812, 0.005001607489165526, 0.007008503865523617, 0.005481413013967576, 0.005999702389683275, 0.004930062154408886, 0.004939318685981566, 0.006335799937791216, 0.0054461717161452886, 0.005426677546433455, 0.005180212545980218, 0.005453522036767494, 0.005414125920290742, 0.006516788353784578, 0.0053193227107188575, 0.005537640343384239, 0.005402822032548094, 0.006754661445987849, 0.005519388705793099, 0.00560937382238597, 0.005780791977724494, 0.006220481154202945, 0.004978175057905935, 0.005936772346537822, 0.005473716809738194, 0.0054358928821973355, 0.005173786052896673, 0.005709447157773394, 0.005589794909247601, 0.0060901974057802994, 0.006306538757086103, 0.005315971019741773, 0.005756782237989614, 0.006360702159793578, 0.005636689188131378, 0.006468022741574486, 0.004803108044051798, 0.0056986469246392045, 0.005459447946450802, 0.005624413806488806, 0.0056704642411460615, 0.006810836665180198, 0.005657548380310498, 0.0062844697743304045, 0.006049364381850891, 0.005740793502620805, 0.00641423314807064, 0.006267398578588761, 0.006049297072124816, 0.0060903499536954725, 0.006044573462825293, 0.005305868673638721, 0.004721045842407168, 0.005997674038322466, 0.005142738901665044, 0.005358534813737193, 0.006216665657359077, 0.006149542493928716, 0.005457562154343485, 0.005460219556385957, 0.006516802840187718, 0.005175621774227508, 0.005742690423694511, 0.0051379351135496425, 0.006551463882817558, 0.005691572572530965, 0.005481432242076245, 0.0051667150022657584, 0.00552968383072599, 0.006549361296400515, 0.0061356610847744545, 0.0060335793083713465, 0.005476405862692341, 0.005787879907283858, 0.005647667861634423, 0.005488480434442094, 0.005829856630160465, 0.0065829015209243075, 0.005580571167677463, 0.005753235452444286, 0.0049877101276991674, 0.0051907055624503045, 0.00557030971487646, 0.006551883079855429, 0.005352718021766913, 0.004879900419275503, 0.0058011818799710135, 0.005266706714196748, 0.004949485453013216, 0.00578308535757835, 0.006180008430280849, 0.005939172480102469, 0.006884325686997297, 0.005318344677589062, 0.005791558106794627, 0.0056099267071719455, 0.005012776913729401, 0.005850300975932279, 0.005695912937309085, 0.005214437701009622, 0.0058000121075111166, 0.00496152588858892, 0.005715834138404704, 0.006592449572160005, 0.005424243719645687, 0.005556947276144088, 0.00542244352495074, 0.00506735268095524, 0.005110150650278171, 0.006731560056812842, 0.005946562671176449, 0.005014281245205083, 0.0059558221768071925, 0.005493012132743422, 0.005657768065567461, 0.005383252393822995, 0.00528540104601453, 0.004727125507873103, 0.005597652800190211, 0.005118821352028497, 0.0056445688545336825, 0.006036644235974147, 0.004824054303869883, 0.005331397951506815, 0.005407660968988574, 0.005870422774379674, 0.005851960428907385, 0.005957429895308875, 0.006911876415291151, 0.005497411237564061, 0.006037014409296191, 0.005899445808879766, 0.005710753314638768, 0.005451786409819513, 0.00482639188594079, 0.005158937195231742, 0.0054220512996313785, 0.004721123473223392, 0.0061653101500141715, 0.005765478881472488, 0.005666901034635288, 0.005778056344465792, 0.005488719802955087, 0.005509862179122014, 0.005525372616370018, 0.005421862500899157, 0.006072293142796125, 0.0051205239164787315, 0.0052693154359096245, 0.005739229424273108, 0.005152812193559407, 0.005362453987818261, 0.005876197912811567, 0.005622431544839469, 0.005505817840163754, 0.005076358255605476, 0.0054874807831600545, 0.005738375113058864, 0.005436302313063478, 0.0058819112472251875, 0.005796696025174614, 0.005263437704239074, 0.0049999333026345995, 0.004958645884205805, 0.005522270407618547, 0.00550059300099937, 0.0056453535083777285, 0.005900981979515736, 0.005274506821356588, 0.005251340716301203, 0.00518533189754523, 0.005819545786468783]\n",
      "2018-02-01 17:09:43,324 : INFO : merging changes from 400 documents into a model of 1600 documents\n",
      "2018-02-01 17:09:43,660 : INFO : topic #80 (0.005): 0.001*\"breakfast\" + 0.001*\"good\" + 0.001*\"Michigan_Ave\" + 0.001*\"recommend\" + 0.001*\"must\" + 0.001*\"room\" + 0.001*\"check\" + 0.001*\"bar\" + 0.001*\"made\" + 0.001*\"shopping\"\n",
      "2018-02-01 17:09:43,662 : INFO : topic #14 (0.005): 0.010*\"acting\" + 0.010*\"aroung\" + 0.010*\"securaty\" + 0.010*\"cheepest\" + 0.010*\"affelated\" + 0.010*\"angels\" + 0.010*\"Vice\" + 0.010*\"Seeing\" + 0.010*\"oder\" + 0.010*\"propety\"\n",
      "2018-02-01 17:09:43,663 : INFO : topic #120 (0.007): 0.028*\"hotel\" + 0.027*\"manager\" + 0.026*\"Unfortunately\" + 0.023*\"room\" + 0.019*\"one\" + 0.019*\"staying\" + 0.018*\"stay\" + 0.014*\"taken\" + 0.014*\"s\" + 0.013*\"Chicago\"\n",
      "2018-02-01 17:09:43,666 : INFO : topic #156 (0.007): 0.114*\"reservation\" + 0.099*\"hotel\" + 0.080*\"another\" + 0.052*\"made\" + 0.046*\"reservations\" + 0.031*\"Hilton\" + 0.031*\"paying\" + 0.029*\"beds\" + 0.027*\"set\" + 0.024*\"knew\"\n",
      "2018-02-01 17:09:43,669 : INFO : topic #30 (0.007): 0.069*\"us\" + 0.058*\"room\" + 0.056*\"finally\" + 0.039*\"arrived\" + 0.033*\"time\" + 0.032*\"bags\" + 0.029*\"go\" + 0.028*\"long\" + 0.024*\"day\" + 0.023*\"outside\"\n",
      "2018-02-01 17:09:43,687 : INFO : topic diff=10.691091, rho=0.500000\n",
      "2018-02-01 17:09:43,813 : INFO : PROGRESS: pass 1, at document #400/1600\n"
     ]
    },
    {
     "name": "stderr",
     "output_type": "stream",
     "text": [
      "2018-02-01 17:09:44,835 : INFO : optimized alpha [0.005691481429187879, 0.0050528708497384, 0.005684801225988819, 0.005412602139534045, 0.005218141285720985, 0.006032058464571385, 0.005202661277329164, 0.005471182674956992, 0.005842590502169417, 0.005545068368921819, 0.005883777590489639, 0.005594108738339615, 0.00601725863280048, 0.005842189859630582, 0.004676322171374264, 0.0053261082010624, 0.004836383147820861, 0.006410579551631691, 0.005483354073624925, 0.005556897821707629, 0.0058145237246665215, 0.005703283368190314, 0.006204907062616995, 0.005932299394448094, 0.005475230706394454, 0.005940066410954207, 0.005583021777199573, 0.005507990944051487, 0.004761762714193076, 0.004978059612929017, 0.007124117098947006, 0.0055687238542324125, 0.0059983980758962505, 0.004892367513903403, 0.004896372645449355, 0.006363150927889725, 0.005410736798262633, 0.005630969225802925, 0.005148910865109815, 0.005496519404443841, 0.005412499002251306, 0.006711144264350726, 0.005318527358708396, 0.005568718034911652, 0.005412414791724783, 0.006674349298997032, 0.005527999012400982, 0.005577089123992347, 0.005781445457010956, 0.006267099090941411, 0.0049601048881612935, 0.005991281734311837, 0.005493834156394779, 0.005517412258582668, 0.005174481229555655, 0.005757906410621375, 0.005609227125073566, 0.0060877724772524545, 0.006418498023208581, 0.005266225781541372, 0.005804587378731589, 0.006289484479756996, 0.005696719487811941, 0.006548554871784146, 0.004772309743646676, 0.005723449881194647, 0.00549659417037332, 0.005684277276762968, 0.005776496208571795, 0.006898060668802213, 0.005682590236430134, 0.006402448962338876, 0.0060471748619460395, 0.005795065266409751, 0.0063616671688100455, 0.006425065064565912, 0.0060536828161272295, 0.0061815592568704725, 0.006173398369357836, 0.005343545782901244, 0.004681811447459628, 0.006064719785589802, 0.005122552633255525, 0.005444997092669897, 0.006283385190776075, 0.006197351903909812, 0.005438757181272983, 0.005508362652838885, 0.0065497589192807905, 0.005170847091769507, 0.005815083603899465, 0.005149332254385494, 0.006577039473998857, 0.005721937432626343, 0.005507229000158362, 0.005151444942241886, 0.005611799486205618, 0.006575932952129587, 0.006069393306815078, 0.006204154193379393, 0.005547558139102741, 0.005871779909929169, 0.005690150585389117, 0.005581772681803759, 0.0058715408020101716, 0.0066083943484262905, 0.005663399453644793, 0.0057541654593976106, 0.004969430621773352, 0.005217599394638267, 0.0056529832952509785, 0.006618394416341777, 0.0053517422256596165, 0.004857946690456067, 0.0058136857687800065, 0.005336355627061348, 0.004906362443003413, 0.005825536253187805, 0.006176569015986537, 0.006017195215320633, 0.006979219690522515, 0.00535602076356192, 0.005833659131958856, 0.005600862153007846, 0.0050301332053635, 0.005844034182376578, 0.005778488385179759, 0.005246648277546444, 0.005794601701112064, 0.004933451361398983, 0.005868771591512099, 0.006515948200803963, 0.005405867406549352, 0.005565433596464139, 0.005482059736851242, 0.005063752015169266, 0.005085098071363753, 0.006651796275861031, 0.005982042385442909, 0.005016094744290573, 0.005973168214356651, 0.005445653450728227, 0.0056946245641228055, 0.0054096417010571435, 0.0053012047331966, 0.004687790001049386, 0.005686082236114895, 0.005109449314118326, 0.0057157234778238, 0.006090662939218509, 0.0047929792450977, 0.005417902824945888, 0.005594904225353952, 0.005900519321479418, 0.005930006820645188, 0.006011428994771714, 0.006941312683448474, 0.005540279827041269, 0.006066656499585733, 0.00597797914371991, 0.005759255882272821, 0.005544675741036581, 0.0047903173363975935, 0.005223218959866262, 0.0055263844424147624, 0.004681887788005548, 0.006161824143066274, 0.0058315042777730645, 0.00578524314781977, 0.0058853386182548895, 0.005565171128069493, 0.005586185240419684, 0.005482956170224953, 0.005486836024123093, 0.006070135392595047, 0.0051005951236909475, 0.005290625996100929, 0.005828479601741651, 0.005164211149899572, 0.0054327692951560294, 0.005906594463682317, 0.005688571559025634, 0.0054925593131877936, 0.005093446075560253, 0.005507706232086186, 0.005727584837537167, 0.005445703511281201, 0.0060025781151803815, 0.005773309362948463, 0.005268630694165181, 0.004966183169760845, 0.0049255098608314155, 0.005508322543433747, 0.005565821224141647, 0.00571638356410859, 0.005967246481185698, 0.005365801483203297, 0.0052458291258059234, 0.005207107177586692, 0.005795840730928073]\n",
      "2018-02-01 17:09:44,861 : INFO : merging changes from 400 documents into a model of 1600 documents\n",
      "2018-02-01 17:09:45,211 : INFO : topic #14 (0.005): 0.006*\"acting\" + 0.006*\"concerts\" + 0.006*\"Seeing\" + 0.006*\"aroung\" + 0.006*\"apperd\" + 0.006*\"affelated\" + 0.006*\"cheepest\" + 0.006*\"securaty\" + 0.006*\"purpouses\" + 0.006*\"angels\"\n",
      "2018-02-01 17:09:45,214 : INFO : topic #80 (0.005): 0.001*\"room\" + 0.001*\"breakfast\" + 0.001*\"good\" + 0.001*\"Michigan_Ave\" + 0.001*\"hotel\" + 0.001*\"great\" + 0.001*\"Chicago\" + 0.001*\"recommend\" + 0.001*\"check\" + 0.001*\"bar\"\n",
      "2018-02-01 17:09:45,218 : INFO : topic #120 (0.007): 0.026*\"hotel\" + 0.022*\"room\" + 0.018*\"manager\" + 0.017*\"Unfortunately\" + 0.017*\"stay\" + 0.014*\"one\" + 0.014*\"staying\" + 0.014*\"s\" + 0.012*\"Chicago\" + 0.010*\"got\"\n",
      "2018-02-01 17:09:45,223 : INFO : topic #156 (0.007): 0.110*\"reservation\" + 0.098*\"hotel\" + 0.073*\"another\" + 0.049*\"made\" + 0.045*\"reservations\" + 0.030*\"beds\" + 0.029*\"Hilton\" + 0.029*\"paying\" + 0.029*\"set\" + 0.026*\"knew\"\n",
      "2018-02-01 17:09:45,225 : INFO : topic #30 (0.007): 0.070*\"us\" + 0.053*\"room\" + 0.045*\"finally\" + 0.032*\"arrived\" + 0.029*\"time\" + 0.027*\"bags\" + 0.027*\"go\" + 0.024*\"long\" + 0.024*\"Chicago\" + 0.022*\"day\"\n",
      "2018-02-01 17:09:45,245 : INFO : topic diff=6.320824, rho=0.408248\n",
      "2018-02-01 17:09:45,374 : INFO : PROGRESS: pass 1, at document #800/1600\n"
     ]
    },
    {
     "name": "stderr",
     "output_type": "stream",
     "text": [
      "2018-02-01 17:09:46,956 : INFO : optimized alpha [0.005853013026969174, 0.005067802846469748, 0.005893945777558015, 0.005597116371764744, 0.005253325432164802, 0.0063800070061979805, 0.005248155008470475, 0.005645698079267512, 0.0060916243998350795, 0.0056762548359586724, 0.006219765137050615, 0.005811295229068411, 0.0061609141768507346, 0.006080022382012664, 0.004635686555597997, 0.005448613238560813, 0.0048572270640973355, 0.006948974643666452, 0.005630041177124951, 0.005670871466792772, 0.006158694853562971, 0.005947749891246657, 0.00626781100638347, 0.0061853406161661234, 0.005734472269292005, 0.0062832668255251144, 0.005685722861439318, 0.005626983025566185, 0.004739068037753878, 0.004998180939006627, 0.007839660666957538, 0.005688210271901947, 0.006296923021348579, 0.004927905242673986, 0.004851822878715515, 0.0067664842335848395, 0.005572412217733096, 0.005716630795607692, 0.005220892980166766, 0.005536593525445473, 0.0055579075541864, 0.006898255146195387, 0.005396715636815032, 0.0057399438173116775, 0.005613224403562287, 0.0074441576508931075, 0.005686297703258407, 0.005828498017717242, 0.006016079655289132, 0.006818157230614241, 0.004980428629597425, 0.006239495227717858, 0.005714391469004807, 0.005631166198164774, 0.00523611682781015, 0.005891857066247108, 0.005666092063746765, 0.006394944864383512, 0.006680220693171046, 0.005365596781506697, 0.005991949417685551, 0.006881670193567271, 0.005928924060220723, 0.006882484807730979, 0.00475437453629759, 0.005992945884640356, 0.0056775131289090765, 0.005904457403816846, 0.005945470903479247, 0.007460319509970122, 0.006037463285344908, 0.006735600655071734, 0.006458140768221592, 0.005930089882111264, 0.006967887781640524, 0.006573315459629894, 0.006329201507149378, 0.006390616749687804, 0.006338199089246491, 0.0054493793406010195, 0.004641080379291725, 0.006240749313472276, 0.005173634625500941, 0.005473619338561526, 0.006521072279058356, 0.0063881022540014844, 0.005534606179433492, 0.0056211275594303355, 0.007180986567651073, 0.005274565075564484, 0.005973737070768794, 0.005195018340691175, 0.0069370874028543295, 0.005936377523776755, 0.005592181849657259, 0.005191993934647066, 0.005777702949561236, 0.006930877234812087, 0.006481174011613956, 0.006387898704289098, 0.0056732192809154005, 0.006012793466941068, 0.005887496490872087, 0.00566143098688624, 0.006156892209843659, 0.007120593782180857, 0.005795699594518184, 0.006000038430872024, 0.005009925488126247, 0.005204386229043192, 0.005819971854136337, 0.007083167506608117, 0.005430132403896784, 0.00484393580588968, 0.006092198160052714, 0.005419982980307628, 0.004936875022276325, 0.006109708663991223, 0.0065702498001985014, 0.00641390657412657, 0.007438435615120594, 0.005456638840912904, 0.006094472291540095, 0.005865073566821954, 0.005070641231509093, 0.006135197400652213, 0.005828877573124606, 0.0052707305717407255, 0.006120207805904325, 0.004983808740525465, 0.006141755504451598, 0.007094340848227164, 0.005645497578874499, 0.005730568419150454, 0.005555798080143271, 0.005109571119678776, 0.005151712233329077, 0.007507842858136658, 0.006205581796235612, 0.0050053803118348585, 0.006257056362650046, 0.005664867424436465, 0.005845755538148589, 0.005582906844382829, 0.005357641819312331, 0.004646954845120456, 0.005771902688407561, 0.005170843215654185, 0.0058369582721301124, 0.006291135225355666, 0.0047552347827687445, 0.005557914470935074, 0.005709118155262174, 0.006225597304780121, 0.006096614015868882, 0.006223321899830484, 0.007539015799331929, 0.0056769557813219455, 0.0063689877034830145, 0.006182276479025782, 0.005863838942318028, 0.005641214526761917, 0.004781934440435254, 0.005295954738899431, 0.005617371896460986, 0.004641155391571275, 0.006554593373872411, 0.006146626698376113, 0.005877743381004461, 0.005978293706744411, 0.005679122446278453, 0.005774829217480871, 0.005663017718237892, 0.0055601664274940316, 0.006339667308603016, 0.005167068358834283, 0.005401630389748379, 0.006029502676113838, 0.005246884702870298, 0.005528337697999005, 0.006176534001574272, 0.005851555585029622, 0.005662717417157655, 0.00516533741488093, 0.005638028738683313, 0.006013896761977373, 0.005552607131808316, 0.006232217290885868, 0.00618618516259018, 0.005379229028564959, 0.005006878985876215, 0.004915785584167945, 0.005700680640310554, 0.005645448846693218, 0.00590803048132992, 0.006245403740812085, 0.005427780205410614, 0.0054152039852373495, 0.005306341375166447, 0.006037132874849125]\n",
      "2018-02-01 17:09:46,980 : INFO : merging changes from 400 documents into a model of 1600 documents\n",
      "2018-02-01 17:09:47,329 : INFO : topic #165 (0.005): 0.001*\"great\" + 0.001*\"room\" + 0.001*\"hotel\" + 0.001*\"stay\" + 0.001*\"staff\" + 0.001*\"location\" + 0.001*\"Chicago\" + 0.001*\"also\" + 0.001*\"rooms\" + 0.001*\"wonderful\"\n",
      "2018-02-01 17:09:47,331 : INFO : topic #80 (0.005): 0.001*\"room\" + 0.001*\"hotel\" + 0.001*\"great\" + 0.001*\"good\" + 0.001*\"breakfast\" + 0.001*\"Chicago\" + 0.001*\"stay\" + 0.001*\"location\" + 0.001*\"Michigan_Ave\" + 0.001*\"staff\"\n",
      "2018-02-01 17:09:47,333 : INFO : topic #137 (0.008): 0.011*\"Holiday_Inn\" + 0.009*\"switch\" + 0.008*\"finally_got\" + 0.007*\"clerk\" + 0.007*\"maintenance\" + 0.007*\"garage\" + 0.006*\"hadn_t\" + 0.006*\"bank\" + 0.006*\"smelled_like\" + 0.006*\"didn_t_want\"\n",
      "2018-02-01 17:09:47,336 : INFO : topic #156 (0.008): 0.116*\"reservation\" + 0.098*\"hotel\" + 0.067*\"another\" + 0.040*\"made\" + 0.034*\"reservations\" + 0.032*\"set\" + 0.027*\"paying\" + 0.027*\"beds\" + 0.025*\"Hilton\" + 0.016*\"knew\"\n",
      "2018-02-01 17:09:47,338 : INFO : topic #30 (0.008): 0.084*\"us\" + 0.057*\"room\" + 0.040*\"finally\" + 0.032*\"arrived\" + 0.029*\"go\" + 0.027*\"outside\" + 0.027*\"time\" + 0.025*\"day\" + 0.024*\"put\" + 0.024*\"long\"\n",
      "2018-02-01 17:09:47,356 : INFO : topic diff=4.787675, rho=0.408248\n",
      "2018-02-01 17:09:47,489 : INFO : PROGRESS: pass 1, at document #1200/1600\n"
     ]
    },
    {
     "name": "stderr",
     "output_type": "stream",
     "text": [
      "2018-02-01 17:09:48,697 : INFO : optimized alpha [0.005988395422841232, 0.005134451245908235, 0.0059692611286711805, 0.005705712621573157, 0.005320448192910413, 0.006574794706137966, 0.0053150129208849855, 0.005737479848908827, 0.006255252750681635, 0.005780189111103653, 0.006366127905996237, 0.005909754008131052, 0.006517373482534123, 0.00635011052989468, 0.004599970844786224, 0.0054998345243034855, 0.0048328878262944835, 0.0070908235682602344, 0.00572720528154198, 0.005849899778070495, 0.006177986698173182, 0.006060134525366476, 0.006676270438684996, 0.0063704171460066735, 0.005744489519348046, 0.006462438067655625, 0.005830333082221017, 0.005880193988246481, 0.0047065782283357786, 0.005063916944633626, 0.008166470258070699, 0.005815045972955342, 0.006419347033235753, 0.004922927522399654, 0.005071040357362298, 0.007115647978799058, 0.005623420020237217, 0.00606199636423714, 0.005271720253135059, 0.005696281697165415, 0.005671880835829916, 0.0076259189590196655, 0.005470122153110362, 0.00584986610971717, 0.0056816471991395934, 0.007778943176577887, 0.005778013412128255, 0.005861641016864583, 0.006172081215609141, 0.0069153985224797345, 0.004964751269693566, 0.006541410276390874, 0.005760008175461737, 0.0057229303364986035, 0.00528168876996111, 0.006131416683154013, 0.005793089611880192, 0.006484757960660019, 0.0069912946066605156, 0.005509813059793082, 0.006171549434679617, 0.00714794225225821, 0.005992557984679739, 0.007215980254779919, 0.004741194762750567, 0.006093210470136117, 0.005792841254674958, 0.005998012639980458, 0.006160960439186974, 0.007722858286051656, 0.006051219697705552, 0.007208565798463307, 0.0065412510619615475, 0.0063354974053349234, 0.007251837349733924, 0.006970908929385528, 0.006503965150038742, 0.00666453549247782, 0.006689673736641337, 0.005483774662456005, 0.004605281509465896, 0.006433355245337265, 0.005240262487863797, 0.0056708457884872745, 0.006833924968426391, 0.006702363201020665, 0.005789306416047781, 0.005747331840247557, 0.007235514697732732, 0.005341753589426944, 0.006252823697465906, 0.005267249030303208, 0.007385562700768555, 0.006060153795718604, 0.005695015576008692, 0.0053067162302674635, 0.005958865512771149, 0.007237269557021554, 0.006776071702037106, 0.006811837116326248, 0.005771438972709068, 0.006268450945452802, 0.005968865363372069, 0.005852731056586749, 0.0064092678661378105, 0.007550005140816562, 0.005996470280815405, 0.006136999466569804, 0.005014302708858581, 0.005452877368057168, 0.006002888849419029, 0.0073134699021446346, 0.005559162648606991, 0.004874368002761657, 0.006293840264410528, 0.005537416238736554, 0.004921704368042034, 0.00621715156723278, 0.0066675674095439475, 0.006529823232067917, 0.00780135119650596, 0.005558520066170427, 0.00616399623598572, 0.0060127681802204565, 0.0050746032893775606, 0.006204745832380482, 0.006214321997478549, 0.005424459123459147, 0.006208599208632361, 0.005018873674603549, 0.006443967726868898, 0.0074687132159731405, 0.005708096980635616, 0.0058641412309743705, 0.005738171865414842, 0.005155217143860831, 0.005213068767022521, 0.007890854385994147, 0.006402746315466726, 0.005117091690551972, 0.006430196262808247, 0.0057044418208340095, 0.0060546446007966595, 0.0056396304738062465, 0.0054908087169446155, 0.004611065296006696, 0.006090319620534472, 0.005264053874838723, 0.0060859355673660125, 0.006678980140382167, 0.004741953564868222, 0.0056433000291257335, 0.005948589827084885, 0.006314824262948774, 0.006349056142854838, 0.0063316369543921815, 0.007855200654195506, 0.005751679439274462, 0.006524833308597022, 0.006514188865152348, 0.006156574709278117, 0.005848773456455865, 0.004812374645864735, 0.00531979511860837, 0.005761097129391533, 0.004605355364565594, 0.006732241791691547, 0.0063428731861339795, 0.0060982366772899445, 0.006225959474684855, 0.005811937241798512, 0.005867245533140115, 0.005754573410539614, 0.005691431997420175, 0.006435711574403823, 0.005159669963214329, 0.0055415940658075724, 0.006266370477977129, 0.005308687077717607, 0.005789073316854247, 0.006272105346308441, 0.005981651587140374, 0.005748992771659236, 0.005216267818101483, 0.0058164269641919975, 0.006107901335974564, 0.005808692026752857, 0.006533377984871774, 0.006280950680358571, 0.005402714239383375, 0.005011638920067246, 0.004925875824381378, 0.005734146355964538, 0.005766104322986266, 0.0062260560895029925, 0.006412011757543114, 0.005590076933599151, 0.005421841174518552, 0.005357613870697445, 0.006137711770577974]\n",
      "2018-02-01 17:09:48,722 : INFO : merging changes from 400 documents into a model of 1600 documents\n",
      "2018-02-01 17:09:49,063 : INFO : topic #165 (0.005): 0.001*\"great\" + 0.001*\"room\" + 0.001*\"hotel\" + 0.001*\"stay\" + 0.001*\"staff\" + 0.001*\"Chicago\" + 0.001*\"location\" + 0.001*\"rooms\" + 0.001*\"also\" + 0.001*\"s\"\n",
      "2018-02-01 17:09:49,065 : INFO : topic #14 (0.005): 0.002*\"acting\" + 0.002*\"cheepest\" + 0.002*\"aroung\" + 0.002*\"purpouses\" + 0.002*\"securaty\" + 0.002*\"concerts\" + 0.002*\"affelated\" + 0.002*\"Lords\" + 0.002*\"oder\" + 0.002*\"Vice\"\n",
      "2018-02-01 17:09:49,066 : INFO : topic #156 (0.008): 0.100*\"reservation\" + 0.099*\"hotel\" + 0.060*\"another\" + 0.045*\"made\" + 0.039*\"reservations\" + 0.033*\"beds\" + 0.031*\"set\" + 0.027*\"knew\" + 0.025*\"paying\" + 0.020*\"Hilton\"\n",
      "2018-02-01 17:09:49,069 : INFO : topic #137 (0.008): 0.010*\"Holiday_Inn\" + 0.008*\"switch\" + 0.008*\"customer\" + 0.007*\"garage\" + 0.007*\"finally_got\" + 0.007*\"occasion\" + 0.007*\"bank\" + 0.006*\"clerk\" + 0.006*\"maintenance\" + 0.006*\"delayed\"\n",
      "2018-02-01 17:09:49,071 : INFO : topic #30 (0.008): 0.083*\"us\" + 0.058*\"room\" + 0.032*\"time\" + 0.031*\"arrived\" + 0.031*\"finally\" + 0.029*\"outside\" + 0.028*\"day\" + 0.027*\"go\" + 0.026*\"bags\" + 0.024*\"long\"\n",
      "2018-02-01 17:09:49,090 : INFO : topic diff=4.205774, rho=0.408248\n",
      "2018-02-01 17:09:52,330 : INFO : -11.069 per-word bound, 2148.6 perplexity estimate based on a held-out corpus of 400 documents with 31277 words\n",
      "2018-02-01 17:09:52,332 : INFO : PROGRESS: pass 1, at document #1600/1600\n"
     ]
    },
    {
     "name": "stderr",
     "output_type": "stream",
     "text": [
      "2018-02-01 17:09:53,923 : INFO : optimized alpha [0.006139580750334275, 0.005193149224409551, 0.006329001469022945, 0.005999144442322583, 0.005455382413075745, 0.006903851511925297, 0.005411326357041452, 0.005937646037499747, 0.0064365960932262775, 0.005935011495657474, 0.006601876976791351, 0.006405293037803199, 0.006744008305589346, 0.006631953621600353, 0.004562363108661138, 0.0056773129558291115, 0.004944855267671926, 0.00795313683593657, 0.005845095600385485, 0.006028946624820429, 0.006618399617921072, 0.006437709801468359, 0.006809925080095235, 0.00671213247049815, 0.005968541987883879, 0.006872141175196389, 0.006003057668298082, 0.00605375766298363, 0.004676890371837725, 0.0051323856546129165, 0.009493943018781877, 0.006052958378274287, 0.006949154937880176, 0.004970352221550593, 0.005144492201764659, 0.007678913048943995, 0.0058832081517759295, 0.006214085053481512, 0.005421765470431557, 0.005825414840623532, 0.00583532808348754, 0.007948433258478922, 0.005640896138077015, 0.0060471050200374766, 0.00586255637453963, 0.009064106976448796, 0.006032170485832205, 0.0062878935941903125, 0.006352027719400061, 0.007391192278358645, 0.004981826087741479, 0.006903786978613759, 0.00593192587439482, 0.0059818491971302245, 0.005350998460938297, 0.006329342240021958, 0.006084148728985535, 0.0068374663563283405, 0.0074450405760791176, 0.005811036690078863, 0.0065273324882515, 0.008098071625303689, 0.006131814570487068, 0.00760858679547562, 0.0047302762142364205, 0.0064346310751462795, 0.006006448130122902, 0.006143206968983342, 0.006345925436731455, 0.008321780888037048, 0.006352716762801794, 0.007480161597607623, 0.007030964048696841, 0.006642825719857484, 0.007984846998313599, 0.00723666737640433, 0.006905527129159625, 0.007058936517323362, 0.006955044811977316, 0.005548243545786293, 0.004567586889979795, 0.006752005211747636, 0.0053950508794481, 0.005828475076618425, 0.0072095938193234635, 0.006878045027986478, 0.006008331800519622, 0.005924030447087684, 0.008010027160556927, 0.0054986927721856205, 0.0064213889999960635, 0.005412084881906158, 0.007927906852745715, 0.006385557392586998, 0.005946305086427411, 0.005511780043325113, 0.006152081703814014, 0.007773217469223091, 0.007472992644555447, 0.007142010299295129, 0.0059435939139804, 0.006494565877905158, 0.006230124913282674, 0.006044264390826518, 0.0066711645073727075, 0.00822115750595477, 0.006191286927071728, 0.006548842828694004, 0.005056701422887824, 0.005528361417782321, 0.006221912397132259, 0.007874581244400138, 0.005760419080145804, 0.004912020690960068, 0.006547340731484855, 0.005681209089255126, 0.005054935240109852, 0.00647401055825246, 0.007179466054260686, 0.006916657335270745, 0.00854179608073424, 0.005686078117973061, 0.006444314378949132, 0.006201945901628087, 0.005111801572231725, 0.0066967859972633225, 0.006514548602350687, 0.0054831254237319785, 0.006626568766961989, 0.005020206916391631, 0.006700288909793026, 0.008712626019946736, 0.005925043768360919, 0.006188219907098422, 0.005814807474806287, 0.00518708054462032, 0.005399393589787458, 0.009291567633872008, 0.006784833136553248, 0.005096806304862228, 0.006759372514631087, 0.006015650304907484, 0.006257843905021322, 0.005756405766038398, 0.005639487648725579, 0.004582764735079907, 0.0062745804056643945, 0.005328064910938294, 0.006394552080992053, 0.007108422523890012, 0.00481371109035701, 0.005777634204097143, 0.006062947999164809, 0.006634731204953539, 0.006747939093720689, 0.006625195552903371, 0.008895318612671257, 0.005905554148769777, 0.006915890516402277, 0.006693923531972698, 0.006342645484817501, 0.005985630405479075, 0.004850163035300068, 0.005400205471343992, 0.005908935958595738, 0.004567659536091056, 0.007435253779839029, 0.006649644632766537, 0.006245124253668101, 0.006591972619011229, 0.00602594167959913, 0.0060889225766156425, 0.006249090356220361, 0.005832245137808392, 0.0069053557074192804, 0.005281053933994087, 0.0056632000953444955, 0.006492730181014937, 0.005340127459224434, 0.00594298672362993, 0.006589868260062859, 0.006084184954511066, 0.005861427054698889, 0.005285478949402236, 0.0060306206957190115, 0.006499304674328722, 0.005974930221153532, 0.006732908826453426, 0.006733148115946517, 0.005594663624912375, 0.0051310504627854305, 0.005089532928926819, 0.006046635615510392, 0.0059676110374005656, 0.006469882096459097, 0.006655939277175609, 0.0056831792590346574, 0.005614066580430838, 0.005454747075447106, 0.0065873724835669445]\n",
      "2018-02-01 17:09:53,947 : INFO : merging changes from 400 documents into a model of 1600 documents\n",
      "2018-02-01 17:09:54,272 : INFO : topic #145 (0.005): 0.032*\"acting\" + 0.016*\"Lords\" + 0.016*\"Vice\" + 0.016*\"cheepest\" + 0.016*\"affelated\" + 0.016*\"angels\" + 0.016*\"aroung\" + 0.016*\"Seeing\" + 0.016*\"apperd\" + 0.016*\"propety\"\n",
      "2018-02-01 17:09:54,274 : INFO : topic #80 (0.005): 0.001*\"hotel\" + 0.001*\"room\" + 0.001*\"great\" + 0.001*\"stay\" + 0.001*\"Chicago\" + 0.001*\"staff\" + 0.001*\"location\" + 0.001*\"clean\" + 0.001*\"rooms\" + 0.001*\"s\"\n",
      "2018-02-01 17:09:54,276 : INFO : topic #45 (0.009): 0.014*\"non_smoking\" + 0.013*\"unpleasant\" + 0.012*\"computer\" + 0.011*\"worst\" + 0.011*\"front_desk_clerk\" + 0.011*\"non_smoking_room\" + 0.010*\"wasn_t_even\" + 0.010*\"outrageous\" + 0.010*\"broken\" + 0.010*\"trash\"\n",
      "2018-02-01 17:09:54,279 : INFO : topic #137 (0.009): 0.017*\"finally_got\" + 0.016*\"smelled_like\" + 0.013*\"hadn_t\" + 0.013*\"delayed\" + 0.012*\"switch\" + 0.011*\"hoping\" + 0.011*\"clerk\" + 0.011*\"hassle\" + 0.010*\"hours_later\" + 0.010*\"acted\"\n",
      "2018-02-01 17:09:54,280 : INFO : topic #30 (0.009): 0.078*\"us\" + 0.075*\"room\" + 0.050*\"finally\" + 0.047*\"arrived\" + 0.034*\"time\" + 0.028*\"day\" + 0.028*\"bags\" + 0.027*\"long\" + 0.026*\"outside\" + 0.025*\"found\"\n",
      "2018-02-01 17:09:54,297 : INFO : topic diff=3.443626, rho=0.408248\n",
      "2018-02-01 17:09:54,425 : INFO : PROGRESS: pass 2, at document #400/1600\n"
     ]
    },
    {
     "name": "stderr",
     "output_type": "stream",
     "text": [
      "2018-02-01 17:09:55,392 : INFO : optimized alpha [0.006185816645844954, 0.0051953153862038986, 0.006296655184007276, 0.005959985717057658, 0.005455442654806686, 0.006934458932853134, 0.005442249127626859, 0.005972590380729181, 0.006463586192843675, 0.005976246956434902, 0.006640644323193513, 0.006383527382158097, 0.006847087578254705, 0.006696216782234976, 0.004529731274836001, 0.00566995264477333, 0.00491119509713014, 0.007922689300162836, 0.005869263487177226, 0.0060407547798412235, 0.006581452723469914, 0.00644639264223806, 0.00701837842662776, 0.006750682577608514, 0.005975255580411445, 0.006902462151166207, 0.006009589147895388, 0.006099851449796187, 0.004647013387336575, 0.0051299296254410124, 0.009625395292822785, 0.006133239335147182, 0.006940247257453665, 0.00493637667291794, 0.005103002260552767, 0.00768953532949312, 0.005845741876957547, 0.006472790965917816, 0.0053962468962931495, 0.005883208998288011, 0.005826358106000937, 0.008162250854995183, 0.005639160088319366, 0.006087294240857934, 0.0058810105965833226, 0.008935320968101622, 0.006038166321266343, 0.006249926157150117, 0.006349394745586067, 0.007459932976257186, 0.0049759777842455066, 0.006968075289954586, 0.0059499922533158035, 0.006073279269815169, 0.005357014968584764, 0.006387387562094165, 0.006106907472468341, 0.006829602667050804, 0.0075433133792057894, 0.005758099623281327, 0.006584428724931149, 0.007995271536944069, 0.006195657622046447, 0.007693435703072249, 0.004704150661816007, 0.006461730153535759, 0.006046971622388464, 0.006195270461179816, 0.006457450420634098, 0.008404956305126212, 0.006380147042747819, 0.007599583592987359, 0.007040604621940626, 0.00670698057609194, 0.007900287465803504, 0.007390767597448751, 0.006903649588509321, 0.00715574637481482, 0.007085330615721131, 0.005584453420881017, 0.004534880290796512, 0.006816687547323652, 0.005375041554710245, 0.005907875366251142, 0.007273193511749954, 0.006929088945349216, 0.005997424064342962, 0.005970119150903634, 0.008032443365455687, 0.00549302516133052, 0.006492035893059062, 0.0054430914482593495, 0.007965224880937063, 0.006418563518569096, 0.005969935652244166, 0.005500761876546862, 0.006232880846907256, 0.007791046158015923, 0.00738544868095408, 0.0073196658988694575, 0.006012885807001176, 0.006583182591753051, 0.006264246783453098, 0.00614786725301536, 0.0067090971226341925, 0.008241074083110526, 0.006284687127710431, 0.006550317530720968, 0.005040570270197395, 0.005569449713670257, 0.006309294447423799, 0.007928398488280959, 0.005773990416612061, 0.00490203011967833, 0.0065552287470071, 0.005759713911827993, 0.005014877206138782, 0.006531829999590276, 0.007181007018878946, 0.00701271651378321, 0.008632982349839153, 0.005749099167403133, 0.006495720411087225, 0.006195073792501957, 0.005143515724283536, 0.006690172242757393, 0.006614501910292014, 0.005513952664077724, 0.0066147169856868495, 0.004994990664945476, 0.00686496814622889, 0.008593633089320424, 0.005903837686353332, 0.006193124602491851, 0.005872439554182268, 0.005208852674254175, 0.005374158881274884, 0.009156237753041698, 0.006841904027619168, 0.00509949946010084, 0.006765274485602553, 0.005976103152395229, 0.006298067802993697, 0.00579202829670096, 0.005653879246845812, 0.004549840417664656, 0.006362113626216587, 0.005323985833560411, 0.006476169237651353, 0.007192082937620894, 0.004786521585777161, 0.005878919410368584, 0.006276439640944066, 0.006679739717801828, 0.006818115263047345, 0.006663939360684418, 0.008898528150739977, 0.005952150771395938, 0.006934177854754915, 0.006789894896497246, 0.0063886316410888214, 0.0060773214551863184, 0.0048178701126546765, 0.0054827451157564815, 0.006040047431368171, 0.004534951896557381, 0.007412481548711724, 0.006732492483834381, 0.006368653936061765, 0.006711977440135515, 0.006117933329347157, 0.006175251113100697, 0.006199735299332252, 0.00590074293086387, 0.006903247700157886, 0.005262370834338361, 0.005688259023814239, 0.006581105153385799, 0.005351221998118394, 0.006006218285662655, 0.006610366285748081, 0.006154157442381068, 0.005852665003518135, 0.005306927373421646, 0.006053832308810565, 0.006482615162476458, 0.005987133190502465, 0.006854757898316053, 0.006706937120361316, 0.005609258449834876, 0.005099523896168577, 0.0050633653964580255, 0.0060410514124038025, 0.006047848417976459, 0.006557702499535834, 0.006707303131121517, 0.005788721401014488, 0.005607330127791692, 0.005485844056985258, 0.00655079339136267]\n",
      "2018-02-01 17:09:55,417 : INFO : merging changes from 400 documents into a model of 1600 documents\n",
      "2018-02-01 17:09:55,765 : INFO : topic #14 (0.005): 0.002*\"hotel\" + 0.002*\"room\" + 0.001*\"stay\" + 0.001*\"great\" + 0.001*\"staff\" + 0.001*\"Chicago\" + 0.001*\"acting\" + 0.001*\"propety\" + 0.001*\"aroung\" + 0.001*\"Lords\"\n",
      "2018-02-01 17:09:55,768 : INFO : topic #80 (0.005): 0.002*\"hotel\" + 0.002*\"room\" + 0.001*\"stay\" + 0.001*\"great\" + 0.001*\"staff\" + 0.001*\"Chicago\" + 0.001*\"location\" + 0.001*\"rooms\" + 0.001*\"s\" + 0.001*\"clean\"\n",
      "2018-02-01 17:09:55,770 : INFO : topic #156 (0.009): 0.131*\"reservation\" + 0.099*\"hotel\" + 0.079*\"another\" + 0.050*\"made\" + 0.047*\"reservations\" + 0.030*\"set\" + 0.028*\"beds\" + 0.027*\"paying\" + 0.022*\"Hilton\" + 0.022*\"knew\"\n",
      "2018-02-01 17:09:55,773 : INFO : topic #137 (0.009): 0.017*\"finally_got\" + 0.015*\"smelled_like\" + 0.013*\"hadn_t\" + 0.013*\"delayed\" + 0.012*\"switch\" + 0.011*\"hoping\" + 0.011*\"clerk\" + 0.011*\"hassle\" + 0.010*\"hours_later\" + 0.010*\"acted\"\n",
      "2018-02-01 17:09:55,775 : INFO : topic #30 (0.010): 0.079*\"us\" + 0.068*\"room\" + 0.041*\"finally\" + 0.040*\"arrived\" + 0.030*\"time\" + 0.027*\"day\" + 0.025*\"long\" + 0.024*\"bags\" + 0.024*\"outside\" + 0.024*\"Chicago\"\n",
      "2018-02-01 17:09:55,794 : INFO : topic diff=2.665967, rho=0.377964\n",
      "2018-02-01 17:09:55,939 : INFO : PROGRESS: pass 2, at document #800/1600\n"
     ]
    },
    {
     "name": "stderr",
     "output_type": "stream",
     "text": [
      "2018-02-01 17:09:57,440 : INFO : optimized alpha [0.006351329611050939, 0.005219825475146903, 0.0065192224500719735, 0.006173281074708559, 0.005514904519767403, 0.007297597406408705, 0.005506511293025587, 0.006151781606496025, 0.006720539171906168, 0.00611076345802093, 0.007005346422167111, 0.0066131648210212375, 0.007004860000309344, 0.006973875738694699, 0.004495714669864639, 0.005805487654682206, 0.0049317028979446054, 0.008554118530128907, 0.0060129847981386835, 0.0061642001637084885, 0.0069678181210844296, 0.00670936782991962, 0.007050901055864178, 0.007023838630934653, 0.0062399845601285794, 0.007270156516438607, 0.006121214007682514, 0.006241089577505671, 0.004628775995817261, 0.00514464882512255, 0.010563674793452818, 0.006263243268092765, 0.007312179575413182, 0.0049800730973749135, 0.005059831101578191, 0.008150155102139463, 0.006016268887907675, 0.0065697106969300366, 0.0054860840981397, 0.0059379912959565285, 0.005991246161272078, 0.008318200159602513, 0.005730848464415484, 0.00625763108476678, 0.00609168318101154, 0.009837709518067502, 0.00621803180630381, 0.006541739209174763, 0.006584375602770396, 0.008098272441239483, 0.005000928409740478, 0.007247062707277451, 0.006174440295412587, 0.00620324192770565, 0.005426227255625262, 0.006520709305852438, 0.006149683059406336, 0.00714958524909348, 0.007824865129006953, 0.005861403066418531, 0.006756458528956094, 0.008621442621503852, 0.006432448643139628, 0.00805345839959364, 0.004698601199499901, 0.006793422708057199, 0.006245052993819866, 0.006408594003797746, 0.006602968595896188, 0.00897575678424415, 0.006774700436585921, 0.007968589463055478, 0.007535733159237149, 0.00683793667880217, 0.008559829804387718, 0.007532807372937815, 0.007194554654915242, 0.007350807359112359, 0.007245956690690987, 0.0056970514122079985, 0.00450078631005583, 0.006987605762115588, 0.005439393046949978, 0.005945266015767235, 0.007519299628228245, 0.007094588609791504, 0.006086294821442547, 0.0060920713783573464, 0.008781403230470358, 0.0056043240129970626, 0.006657304420756683, 0.005486909382082574, 0.008370064713556136, 0.006648336395966208, 0.006063927588684084, 0.005549906476378145, 0.006405186555449588, 0.00815405750928161, 0.007829927494710329, 0.007509844794163434, 0.006142306415435523, 0.006742915392429891, 0.0064618032935315275, 0.006231472422107179, 0.006997985641487775, 0.008854680412085928, 0.006410565867898547, 0.006809753696654959, 0.00507960176576092, 0.005554962226928617, 0.00647729708257217, 0.008392909448298753, 0.0058502156662971865, 0.0048947091018247115, 0.006834294307120475, 0.005873875938872287, 0.005039673704279232, 0.006802959237266048, 0.007637479601061611, 0.007418911976057703, 0.00907478859285299, 0.005879950205536747, 0.006766032118079861, 0.0064795378744765385, 0.005202027516235622, 0.006985655645177454, 0.0066674359083992805, 0.005541926465387126, 0.006959005084815683, 0.005048006662130145, 0.007152363490824848, 0.009226909088332187, 0.006160098323060929, 0.006376765083330262, 0.005943792419072362, 0.0052676487896579005, 0.005453805624454121, 0.010182759081897098, 0.007058916373638922, 0.0050951235083252005, 0.007056932038385813, 0.006218601087843202, 0.006448863275032341, 0.0059676187705462215, 0.005734959754363536, 0.004515521128063242, 0.006446145174316627, 0.005418255240562053, 0.006609940048784621, 0.007421622277069177, 0.004753110954242055, 0.006028372332365817, 0.006402236340842281, 0.006976637470537534, 0.007020721031907515, 0.00688324284606573, 0.00961058503743388, 0.006103078078788505, 0.00728087526535582, 0.007004884236279501, 0.006491773004443038, 0.006172171050826119, 0.004815839467232234, 0.005578906181064515, 0.0061520995887595275, 0.004500856839156332, 0.007859674200673746, 0.007106979140382574, 0.006453114312563752, 0.006790845846118436, 0.006218936419163253, 0.00634691276652748, 0.006371496844958172, 0.005982905251693173, 0.007193629356941787, 0.005326116773036176, 0.0058077309323210785, 0.006792066006761349, 0.005430605567290186, 0.006111694333942484, 0.006904098352856791, 0.006326757982599666, 0.006018985853033009, 0.005401184897108966, 0.00619463574073337, 0.006801741362133768, 0.006092592144492241, 0.007103846314566035, 0.007232666071069033, 0.0057328842995521614, 0.005143523370644595, 0.005054515850433332, 0.0062446384417963775, 0.006136757321215102, 0.006779526224142508, 0.006991048445784412, 0.005853946967121044, 0.005784192731741574, 0.005597581754776392, 0.006797773415616222]\n",
      "2018-02-01 17:09:57,466 : INFO : merging changes from 400 documents into a model of 1600 documents\n",
      "2018-02-01 17:09:57,815 : INFO : topic #165 (0.005): 0.002*\"hotel\" + 0.002*\"room\" + 0.001*\"stay\" + 0.001*\"great\" + 0.001*\"staff\" + 0.001*\"Chicago\" + 0.001*\"location\" + 0.001*\"rooms\" + 0.001*\"s\" + 0.001*\"clean\"\n",
      "2018-02-01 17:09:57,817 : INFO : topic #145 (0.005): 0.015*\"acting\" + 0.008*\"affelated\" + 0.008*\"Lords\" + 0.008*\"securaty\" + 0.008*\"cheepest\" + 0.008*\"Vice\" + 0.008*\"aroung\" + 0.008*\"propety\" + 0.008*\"angels\" + 0.008*\"apperd\"\n",
      "2018-02-01 17:09:57,819 : INFO : topic #45 (0.010): 0.010*\"broken\" + 0.008*\"smoking_room\" + 0.007*\"non_smoking_room\" + 0.007*\"non_smoking\" + 0.007*\"worst\" + 0.007*\"computer\" + 0.006*\"removed\" + 0.006*\"thin\" + 0.006*\"general_manager\" + 0.006*\"mold\"\n",
      "2018-02-01 17:09:57,821 : INFO : topic #137 (0.010): 0.012*\"Holiday_Inn\" + 0.009*\"switch\" + 0.008*\"finally_got\" + 0.008*\"maintenance\" + 0.007*\"garage\" + 0.007*\"hadn_t\" + 0.006*\"hoping\" + 0.006*\"smelled_like\" + 0.006*\"bank\" + 0.006*\"didn_t_want\"\n",
      "2018-02-01 17:09:57,823 : INFO : topic #30 (0.011): 0.089*\"us\" + 0.072*\"room\" + 0.037*\"arrived\" + 0.037*\"finally\" + 0.029*\"day\" + 0.027*\"outside\" + 0.027*\"time\" + 0.025*\"go\" + 0.024*\"put\" + 0.024*\"long\"\n",
      "2018-02-01 17:09:57,844 : INFO : topic diff=1.957813, rho=0.377964\n",
      "2018-02-01 17:09:57,975 : INFO : PROGRESS: pass 2, at document #1200/1600\n"
     ]
    },
    {
     "name": "stderr",
     "output_type": "stream",
     "text": [
      "2018-02-01 17:09:59,182 : INFO : optimized alpha [0.006484922109287582, 0.005318482499459684, 0.006592706694177081, 0.006286924667991806, 0.00558484411926626, 0.007476118501459737, 0.005571074027267131, 0.006236062233740087, 0.006883855651149238, 0.006218443512281935, 0.0071458146338709005, 0.006717659048207902, 0.007387991520091763, 0.007267783550686174, 0.004465818289008051, 0.005865794670869037, 0.004909706476129564, 0.008699549833432779, 0.006136094830299545, 0.006365380740708667, 0.006988959108878071, 0.006808916972057598, 0.0075327444167438634, 0.007192446978446988, 0.006253479274047, 0.007454175835606199, 0.006263370476065289, 0.006503540539724506, 0.004601457408930037, 0.005207728288786725, 0.010956093653813457, 0.006395273511236825, 0.007436029304398522, 0.004976494271560614, 0.005271446597093973, 0.008542681349688967, 0.006065321315955058, 0.006925347253713218, 0.005540269233597939, 0.006111983809364055, 0.006103090664317753, 0.009143543717797641, 0.0058128817075680786, 0.006365903249875252, 0.0061581981638505635, 0.010207990596241053, 0.006302240876644236, 0.00657779224873771, 0.006733053266700318, 0.008193284759156651, 0.004987681692639748, 0.0075780803709029655, 0.0062355635944600345, 0.006293753890280586, 0.005470024581452619, 0.006750155794911213, 0.006275049912043579, 0.007230556065531119, 0.008122455728932554, 0.00600489536348784, 0.0069515743365731845, 0.008911765396572608, 0.006493964417583781, 0.008396989659759877, 0.004688262984994244, 0.006925461661889616, 0.006359376973645199, 0.00649395386918617, 0.006776773324901187, 0.009235671173323084, 0.006803327145249622, 0.008498928189778295, 0.0076165088232845735, 0.007342599433526255, 0.00885847545020472, 0.007918719095708552, 0.007386131469255402, 0.0076631634046760945, 0.007625089359399606, 0.0057300722082966335, 0.004470822440839303, 0.007195643971615019, 0.005508929570470043, 0.006135794742342026, 0.007824314663483805, 0.007352442612665833, 0.006354249314753157, 0.0061991984625197035, 0.008817941279713661, 0.005680039661000788, 0.006934969669205305, 0.005562072377719479, 0.008849736203077519, 0.006784527026384729, 0.006170694627627792, 0.005672779067816874, 0.006581267535384278, 0.008469209429518917, 0.008147366879125883, 0.007947834092414677, 0.006232782674472884, 0.007029409450795384, 0.006553445292470531, 0.006423482167393214, 0.007250796566612698, 0.009331457529427366, 0.006624770137861843, 0.006947893178373526, 0.0050847394214393335, 0.0058099356586434475, 0.006649502811083118, 0.008649102963887236, 0.006004801732348026, 0.004928857618048527, 0.007045506606378219, 0.005978565025982351, 0.005026054103697886, 0.006883430813010649, 0.007755197627428667, 0.007562878017357346, 0.009467841939176687, 0.0059966435056494115, 0.006826906989989256, 0.006645526735024422, 0.005216154864370369, 0.0070527986243308595, 0.007082479731887074, 0.005680550115346606, 0.007052740148092467, 0.005081896460813315, 0.007449964955516575, 0.009653111886403911, 0.0062206946551067385, 0.0065348431844554095, 0.0061116599822538765, 0.005331521776640935, 0.005513190492051947, 0.010628436349440391, 0.007300861140503135, 0.005201255511890179, 0.007225444707632135, 0.006255859573694962, 0.006683702291413143, 0.006022337603131395, 0.0058709933036756555, 0.004485360750876398, 0.006771540868096959, 0.005523689129709481, 0.006884674436946475, 0.007878780183456488, 0.00474218075210927, 0.006111944737024792, 0.006658953102627092, 0.007064249872944028, 0.007303458189178753, 0.0069835657629859025, 0.009940811220488108, 0.006187255847607328, 0.007439142458714532, 0.007361087362156181, 0.006781962836683078, 0.006397327886404611, 0.004849904496866299, 0.005606875535927211, 0.006324371942375464, 0.004470892030872086, 0.008030060131114538, 0.00733013607069886, 0.006661785664424997, 0.007033051701358441, 0.006356583378993624, 0.00640771634737009, 0.006468376405563051, 0.006128929059751146, 0.007295119804476255, 0.005319436721357132, 0.005940085834844063, 0.007027652796888575, 0.005490058885849363, 0.0063753581700081155, 0.00699833021016709, 0.006454776274665774, 0.0061027031588382135, 0.005455338958130365, 0.006367257454142094, 0.006901263907853104, 0.006372876006268672, 0.007422398113044478, 0.007347171409394728, 0.00577116815013907, 0.005153420447533913, 0.005064568938232193, 0.006281556466852777, 0.006261716813407375, 0.007117743866519686, 0.007178705855645662, 0.006019808986873813, 0.005789501043970901, 0.005657657044923932, 0.006897536439940308]\n",
      "2018-02-01 17:09:59,207 : INFO : merging changes from 400 documents into a model of 1600 documents\n",
      "2018-02-01 17:09:59,546 : INFO : topic #14 (0.004): 0.003*\"hotel\" + 0.003*\"room\" + 0.002*\"stay\" + 0.001*\"great\" + 0.001*\"staff\" + 0.001*\"Chicago\" + 0.001*\"location\" + 0.001*\"rooms\" + 0.001*\"s\" + 0.001*\"clean\"\n",
      "2018-02-01 17:09:59,549 : INFO : topic #165 (0.004): 0.003*\"hotel\" + 0.003*\"room\" + 0.002*\"stay\" + 0.002*\"great\" + 0.001*\"staff\" + 0.001*\"Chicago\" + 0.001*\"location\" + 0.001*\"rooms\" + 0.001*\"s\" + 0.001*\"clean\"\n",
      "2018-02-01 17:09:59,552 : INFO : topic #45 (0.010): 0.009*\"broken\" + 0.008*\"non_smoking\" + 0.007*\"asleep\" + 0.007*\"say_the_least\" + 0.007*\"smoking_room\" + 0.007*\"non_smoking_room\" + 0.006*\"enter\" + 0.006*\"everybody\" + 0.006*\"worst\" + 0.006*\"computer\"\n",
      "2018-02-01 17:09:59,554 : INFO : topic #137 (0.011): 0.011*\"Holiday_Inn\" + 0.008*\"switch\" + 0.008*\"customer\" + 0.007*\"garage\" + 0.007*\"finally_got\" + 0.007*\"maintenance\" + 0.007*\"bank\" + 0.006*\"delayed\" + 0.006*\"gross\" + 0.006*\"hadn_t\"\n",
      "2018-02-01 17:09:59,555 : INFO : topic #30 (0.011): 0.088*\"us\" + 0.072*\"room\" + 0.036*\"arrived\" + 0.032*\"time\" + 0.031*\"day\" + 0.030*\"finally\" + 0.028*\"outside\" + 0.024*\"go\" + 0.024*\"bags\" + 0.024*\"long\"\n",
      "2018-02-01 17:09:59,573 : INFO : topic diff=1.523907, rho=0.377964\n",
      "2018-02-01 17:10:02,805 : INFO : -9.634 per-word bound, 794.3 perplexity estimate based on a held-out corpus of 400 documents with 31277 words\n",
      "2018-02-01 17:10:02,807 : INFO : PROGRESS: pass 2, at document #1600/1600\n"
     ]
    },
    {
     "name": "stderr",
     "output_type": "stream",
     "text": [
      "2018-02-01 17:10:04,390 : INFO : optimized alpha [0.006633779905073918, 0.005395008510470806, 0.006956786998816493, 0.006600818144903656, 0.0057417516629613, 0.00782934175205116, 0.005664011159103202, 0.00644048671938858, 0.007070919106289046, 0.006376562418480453, 0.007371049761291102, 0.007252440278186505, 0.007611867052685037, 0.007593607714761457, 0.004434180569022922, 0.006028527176850071, 0.005020474737435436, 0.009646316400975411, 0.006245379240436048, 0.006566868269444769, 0.007424417723161647, 0.007222439540995203, 0.007658193800979027, 0.00753654940407076, 0.006482437151474809, 0.0078831190701405, 0.006426984974713685, 0.006664817639837331, 0.004576631860841442, 0.0052733128883180385, 0.012634249920066813, 0.006633922283743797, 0.008117689167225503, 0.005021913143006879, 0.005342043390848681, 0.009236245216708445, 0.006322451450126308, 0.007079357954075672, 0.005690928202008023, 0.006261536823313024, 0.006281129290778525, 0.009396845847114726, 0.005985172940196829, 0.006549571443339802, 0.006343039130548146, 0.01169948008079994, 0.006555853330760258, 0.00703461527785183, 0.00693685661603208, 0.00871788627571035, 0.005009530302591906, 0.007965549391899094, 0.0064292058995720405, 0.006601672767091107, 0.005546857895678292, 0.006954150825316953, 0.0065762277563266875, 0.007568420580328905, 0.008622827126237426, 0.00629487740513501, 0.00729680169986321, 0.010005261227526473, 0.006636923521832905, 0.008800734535747196, 0.004679974119653614, 0.00729808055466627, 0.0065608913683440455, 0.0066305147524717755, 0.006948113513344662, 0.009856391206562752, 0.007111654855292406, 0.008790398298392977, 0.008142518103109724, 0.007719829362485362, 0.00963640026459206, 0.008106460843103337, 0.007815798362920965, 0.008081622378378808, 0.007925730963051596, 0.00580288122369308, 0.004439113780440167, 0.0075202020833084835, 0.00565892590611206, 0.006291274969482984, 0.008213819738129235, 0.0075261787942823895, 0.00656129460666077, 0.006379187327811258, 0.009743951332536539, 0.005833269121934677, 0.007096659195076043, 0.005708034566205913, 0.009402131998634655, 0.00711644781807016, 0.006437806577080364, 0.005874279068527701, 0.006774648121450513, 0.00903807867904734, 0.008878615339434997, 0.008270856359181716, 0.006426236367063274, 0.00725835185258406, 0.0068152653034486725, 0.006602460585024856, 0.0075046143771584336, 0.010097296444253718, 0.006813659003844493, 0.007353401711803624, 0.0051350852443673165, 0.00588849796342665, 0.006875993084752622, 0.009257877594484166, 0.0062039606648582315, 0.004974421269186379, 0.007349674604748163, 0.006137018345007513, 0.00515743322556683, 0.007115840107110001, 0.008326692622943952, 0.007997241193800063, 0.010290677848886503, 0.0061162425014106014, 0.007128889668950898, 0.006841271945501093, 0.005261801797145387, 0.00757743689840498, 0.007405505548467703, 0.005731573342853675, 0.007486229316610134, 0.00508414463535002, 0.0077154210598301375, 0.011087460523362645, 0.006442584106374068, 0.006883348548760803, 0.006191435429224212, 0.005372247935054004, 0.005689530466515489, 0.012349310775807795, 0.007745923345047475, 0.005183049102429012, 0.007554723346044031, 0.006610507462455054, 0.006900050128720025, 0.006147601032196953, 0.006033230015214141, 0.004461989109148329, 0.0069437135025414145, 0.005647985744343974, 0.007201820952847438, 0.008329255984667426, 0.004809960270084492, 0.006244137891725872, 0.006766069033724974, 0.007403741964005599, 0.007741513381013638, 0.00728560294792164, 0.011134741022282024, 0.006361847774647888, 0.007876042252488002, 0.007528321642409715, 0.006967567851805718, 0.006538638299243546, 0.004886266113892608, 0.005700537711002866, 0.006483313680530391, 0.004439182383382956, 0.008848220685591334, 0.00767095468380992, 0.006800564964297044, 0.00744309080335358, 0.006564039107496455, 0.006610329714555968, 0.0069840492729396466, 0.00626718042572546, 0.007822953245725631, 0.005440577862923594, 0.006058997777795364, 0.00727705586694521, 0.005520313436194403, 0.006546639048580034, 0.007321510622774311, 0.006548562905145926, 0.006206106573466677, 0.0055271285754649605, 0.0065751177859288525, 0.007304815483351079, 0.006550253020655536, 0.007624879850723695, 0.007869678749201076, 0.005986849644602922, 0.005262687323861615, 0.005211207398060952, 0.0065834691392737165, 0.006479362205616145, 0.007375301209381006, 0.007377800780131283, 0.006116188322364941, 0.005994548432089623, 0.005757040542601742, 0.007340364505821849]\n",
      "2018-02-01 17:10:04,419 : INFO : merging changes from 400 documents into a model of 1600 documents\n",
      "2018-02-01 17:10:04,746 : INFO : topic #80 (0.004): 0.004*\"hotel\" + 0.003*\"room\" + 0.002*\"stay\" + 0.002*\"great\" + 0.002*\"staff\" + 0.002*\"Chicago\" + 0.001*\"location\" + 0.001*\"rooms\" + 0.001*\"s\" + 0.001*\"clean\"\n",
      "2018-02-01 17:10:04,752 : INFO : topic #14 (0.004): 0.004*\"hotel\" + 0.003*\"room\" + 0.002*\"stay\" + 0.002*\"great\" + 0.002*\"staff\" + 0.002*\"Chicago\" + 0.001*\"location\" + 0.001*\"rooms\" + 0.001*\"s\" + 0.001*\"clean\"\n",
      "2018-02-01 17:10:04,755 : INFO : topic #45 (0.012): 0.015*\"non_smoking\" + 0.013*\"unpleasant\" + 0.011*\"computer\" + 0.011*\"broken\" + 0.010*\"wasn_t_even\" + 0.010*\"outrageous\" + 0.010*\"non_smoking_room\" + 0.009*\"trash\" + 0.009*\"discovered\" + 0.008*\"front_desk_clerk\"\n",
      "2018-02-01 17:10:04,759 : INFO : topic #137 (0.012): 0.015*\"finally_got\" + 0.015*\"smelled_like\" + 0.013*\"switch\" + 0.013*\"delayed\" + 0.012*\"hadn_t\" + 0.011*\"hoping\" + 0.011*\"hassle\" + 0.010*\"odor\" + 0.010*\"hours_later\" + 0.010*\"acted\"\n",
      "2018-02-01 17:10:04,762 : INFO : topic #30 (0.013): 0.088*\"room\" + 0.079*\"us\" + 0.050*\"arrived\" + 0.046*\"finally\" + 0.033*\"time\" + 0.031*\"day\" + 0.027*\"found\" + 0.026*\"long\" + 0.026*\"bags\" + 0.025*\"outside\"\n",
      "2018-02-01 17:10:04,783 : INFO : topic diff=1.105642, rho=0.377964\n",
      "2018-02-01 17:10:04,908 : INFO : PROGRESS: pass 3, at document #400/1600\n"
     ]
    },
    {
     "name": "stderr",
     "output_type": "stream",
     "text": [
      "2018-02-01 17:10:05,836 : INFO : optimized alpha [0.006684013874871109, 0.005397098257072335, 0.0069258800362772465, 0.006557025776553639, 0.0057411085577614915, 0.00784767534223712, 0.005703875459839559, 0.0064792771431624535, 0.0071072624448533656, 0.006427428702109207, 0.007399688129750911, 0.0072103761444244135, 0.00776876419888926, 0.007655053180788961, 0.0044063880835360026, 0.006025385994255548, 0.004989284495322365, 0.00959306468249408, 0.006267939600631376, 0.006587761473348549, 0.007386416847192053, 0.007226132135137045, 0.007953974757945738, 0.007564380064990415, 0.006486696004739377, 0.007914285574372015, 0.006443060484448035, 0.006702810772514971, 0.004551070110669808, 0.005275994660049699, 0.012795050073595698, 0.006701259914346604, 0.008119528620365997, 0.004990758495630662, 0.005301705871350788, 0.009256528119816114, 0.006282836822703609, 0.007361928180143539, 0.00567542445679944, 0.0063290351380108495, 0.0062756545744646845, 0.009661328957247493, 0.005982360545376315, 0.0065935715956933925, 0.006359488060373927, 0.011506037716430894, 0.006559220354709712, 0.0070021909412578826, 0.006936969607128446, 0.008788788663785825, 0.005009594841642976, 0.008033401062316134, 0.006467839545752237, 0.006704183897944467, 0.0055575459226945316, 0.007010116037415009, 0.006602638069966413, 0.007555292330512301, 0.008726361934444819, 0.00623886798218251, 0.0073576878390675836, 0.009863779295412557, 0.006704979457864581, 0.008881752807180128, 0.00466142517084029, 0.007320544054977497, 0.006622451503503997, 0.006680773475021859, 0.007052722202019306, 0.009932219545443512, 0.007147773473306433, 0.008901491058842468, 0.008157862812950703, 0.007780786264606125, 0.009514001490859408, 0.008261503064132834, 0.007806758868855441, 0.008176835888205631, 0.00807101861387854, 0.005837953836299536, 0.004411259421933368, 0.0075823537645842085, 0.005638788104871297, 0.0063636952854447615, 0.008266119814743908, 0.0075677935673128, 0.006552969285751392, 0.006417828227292558, 0.009750311494410944, 0.005826594305463275, 0.007165578770010376, 0.005737931691681619, 0.00941999374123379, 0.007145988974324122, 0.00646501292853276, 0.005862026193734913, 0.006842134363790145, 0.009045396133746149, 0.008767198845862667, 0.008460660991401373, 0.006494039907950651, 0.007371566109721023, 0.006852900809262187, 0.006705405456786894, 0.007545040505797461, 0.010098304373521721, 0.0069062009484679105, 0.007349223408632072, 0.005120568137783008, 0.0059281934444227495, 0.006956304948383485, 0.009311468400648575, 0.006221161424214164, 0.004970246163803551, 0.007352327395583194, 0.006214236950326207, 0.00511983537978142, 0.007171289040143541, 0.008318313848064822, 0.008070871791546147, 0.010382766796202005, 0.006199483363622969, 0.007177850156836368, 0.006830332484752181, 0.005306642985554298, 0.0075638092008913655, 0.007505171425484312, 0.0057512075607252765, 0.007460655355302177, 0.005061148712796055, 0.007871033164169974, 0.010913723507748715, 0.006423967184590215, 0.006902236244881208, 0.0062530353268131795, 0.005398219404298859, 0.005663955970761857, 0.012133788068660514, 0.00782009996839829, 0.005190912064685958, 0.007555185682255401, 0.006566475253287275, 0.006968423257638417, 0.006187251273619929, 0.006056734062499042, 0.004433846946070657, 0.007030206318173118, 0.005643012946223793, 0.00727578833014532, 0.008417531496958288, 0.004785797682625913, 0.006344391607613633, 0.006984692132660647, 0.0074324526111209915, 0.00780893974205647, 0.007321297912962133, 0.011118582954319568, 0.006423617050893597, 0.007888042695617273, 0.007643459625783874, 0.007011127390059666, 0.006646765146292286, 0.004861128822121022, 0.0058015205503633704, 0.006632225615978172, 0.004411327163963609, 0.00881665800234184, 0.007752343993620332, 0.006929593777154118, 0.007576734175200996, 0.006660878587909057, 0.0067011613722449325, 0.0069275212870525075, 0.006334213094858223, 0.007806637727389885, 0.005422868312669034, 0.006087928994351998, 0.007364242117496406, 0.005531224175097177, 0.006608354457814976, 0.007337977108731292, 0.0066169937344225625, 0.006201838944484133, 0.005552646621607137, 0.006595928648937045, 0.00728149775023424, 0.006565344654246461, 0.007754191950371554, 0.007859159513431356, 0.006000008792507314, 0.005232892715134784, 0.005186669687281036, 0.006563309738401576, 0.006564023133400315, 0.007462261710278495, 0.007419678732878473, 0.006215229686786853, 0.005986419505154104, 0.005787045187822966, 0.007303473040078386]\n",
      "2018-02-01 17:10:05,861 : INFO : merging changes from 400 documents into a model of 1600 documents\n",
      "2018-02-01 17:10:06,188 : INFO : topic #80 (0.004): 0.005*\"hotel\" + 0.004*\"room\" + 0.002*\"stay\" + 0.002*\"great\" + 0.002*\"staff\" + 0.002*\"Chicago\" + 0.001*\"location\" + 0.001*\"rooms\" + 0.001*\"s\" + 0.001*\"nice\"\n",
      "2018-02-01 17:10:06,190 : INFO : topic #14 (0.004): 0.005*\"hotel\" + 0.004*\"room\" + 0.002*\"stay\" + 0.002*\"great\" + 0.002*\"staff\" + 0.002*\"Chicago\" + 0.001*\"location\" + 0.001*\"rooms\" + 0.001*\"s\" + 0.001*\"nice\"\n",
      "2018-02-01 17:10:06,192 : INFO : topic #45 (0.012): 0.014*\"non_smoking\" + 0.013*\"unpleasant\" + 0.011*\"computer\" + 0.010*\"broken\" + 0.010*\"wasn_t_even\" + 0.010*\"outrageous\" + 0.010*\"non_smoking_room\" + 0.009*\"trash\" + 0.009*\"discovered\" + 0.008*\"worst\"\n",
      "2018-02-01 17:10:06,194 : INFO : topic #137 (0.012): 0.015*\"finally_got\" + 0.015*\"smelled_like\" + 0.012*\"switch\" + 0.012*\"delayed\" + 0.012*\"hadn_t\" + 0.011*\"hoping\" + 0.010*\"hassle\" + 0.010*\"odor\" + 0.010*\"hours_later\" + 0.010*\"acted\"\n",
      "2018-02-01 17:10:06,196 : INFO : topic #30 (0.013): 0.081*\"room\" + 0.081*\"us\" + 0.043*\"arrived\" + 0.039*\"finally\" + 0.030*\"time\" + 0.030*\"day\" + 0.024*\"long\" + 0.024*\"outside\" + 0.024*\"found\" + 0.023*\"Chicago\"\n",
      "2018-02-01 17:10:06,217 : INFO : topic diff=0.806645, rho=0.353553\n",
      "2018-02-01 17:10:06,341 : INFO : PROGRESS: pass 3, at document #800/1600\n"
     ]
    },
    {
     "name": "stderr",
     "output_type": "stream",
     "text": [
      "2018-02-01 17:10:07,768 : INFO : optimized alpha [0.006848692402362879, 0.005435174486840015, 0.007163339101703754, 0.006784675383961827, 0.005793754155747283, 0.008231643681478655, 0.005776387031312899, 0.006669815510639695, 0.0073798611817239845, 0.00656626059750046, 0.007767885309142258, 0.007465835477637996, 0.007928492114815831, 0.0079580148560704, 0.004377306639303115, 0.006153509061515417, 0.005009491189513403, 0.010273297120294487, 0.006398668866232849, 0.006704720918587505, 0.007786196081510359, 0.00749638990138098, 0.007987588963616784, 0.007851433445680478, 0.006741145888526976, 0.008320902564079379, 0.006558536335176731, 0.006844261985340607, 0.004536137670255262, 0.00529044201546654, 0.013996133943130273, 0.0068424980475323225, 0.008574478294202612, 0.005032991306631918, 0.005259606501104217, 0.009775535028399035, 0.006446622044203339, 0.007464478732310055, 0.005763095680869473, 0.006387601976873885, 0.006450736409585192, 0.009782123685341561, 0.006098673976805379, 0.006763398666199381, 0.00657577252877188, 0.012538028818274477, 0.006750600140958064, 0.007339900927735754, 0.007173433954640171, 0.009486801875805664, 0.005038594126748864, 0.008325070667387207, 0.006710430627347671, 0.00683420445840189, 0.00562456333094077, 0.007155338212514815, 0.006648922127792185, 0.007894565771258969, 0.009019830452287146, 0.006341044211008075, 0.00751850133624027, 0.010547440971367495, 0.006959749554865782, 0.00926742463631831, 0.004665978027969935, 0.0076916901571318, 0.006845451558614962, 0.0068756336401991185, 0.0071976189880625634, 0.010573868870762476, 0.0075685812586394645, 0.009260882751549711, 0.008728300879547977, 0.007934457132968677, 0.010240020496667102, 0.008417355724732418, 0.008086541399061358, 0.008361615337107487, 0.008247913416734035, 0.005947554614348451, 0.004382113644116297, 0.007761307639008347, 0.005706359663907177, 0.006399033272227318, 0.008496901178306778, 0.00771900788559735, 0.006646379566773943, 0.006538211178876387, 0.010635824813327234, 0.0059358560572117395, 0.0073316532784126155, 0.0057853001321668, 0.009844088548950712, 0.007379944079128334, 0.006557566196554536, 0.005909611335897033, 0.007033254162399873, 0.009459891236411427, 0.009239227200852644, 0.008618131441893528, 0.006628182007639053, 0.0075393211454024, 0.007051494572583855, 0.006787397245417306, 0.007842449504877214, 0.010789490460137255, 0.007025471352739119, 0.007628471801351285, 0.005167454024366905, 0.005912334430777307, 0.007125322934325562, 0.009798986158721122, 0.006295750290759269, 0.00496847301197207, 0.007652466261763546, 0.006338159975611772, 0.0051440803332357, 0.007445289427351209, 0.008817814064540045, 0.008534685198865428, 0.010859259836180567, 0.0063293633072711115, 0.007458928696281594, 0.007125903569983746, 0.005377300218933235, 0.00786928624998318, 0.007554020280287554, 0.005783220333065006, 0.007824386270937874, 0.005112241303687193, 0.008163686742454131, 0.011616129885507863, 0.006704757649682286, 0.007113225518182311, 0.006328047618939746, 0.005459966684886406, 0.00574667876775166, 0.013374491377750774, 0.008064970070149037, 0.005187435888655602, 0.007826981157819308, 0.0068239962521822375, 0.007120082037616069, 0.006372007830718054, 0.006141613641324946, 0.004404401936117552, 0.007106321329199474, 0.00574539413027927, 0.007416725894418869, 0.008687219491139861, 0.004755768763284227, 0.006492935957323961, 0.0071169134513196135, 0.0077425885722778075, 0.008038394967807436, 0.007568402780965167, 0.011922449779587091, 0.006590663017366362, 0.008228771049885272, 0.007883494913956257, 0.007119198646689796, 0.006752109257497821, 0.004860138823713952, 0.005905987628351003, 0.006737835973509421, 0.00438218049100683, 0.009315982512166789, 0.008133926170124525, 0.0070121566271721565, 0.0076732559754098305, 0.0067605875305285, 0.00686638101766759, 0.007101941324923849, 0.0064146059595930885, 0.008127396377778283, 0.0054845482524916245, 0.006211233218227646, 0.0075662777244744584, 0.005608052354176941, 0.006713118011834805, 0.007631485535840199, 0.006794229607718456, 0.006348951305715808, 0.005654297305760183, 0.006736316760429491, 0.007611067923736827, 0.006675709606901085, 0.008010563485257423, 0.008467722689598627, 0.006122049755743473, 0.005289405569410236, 0.005183214483257528, 0.006796380845635534, 0.006668819620612578, 0.0076912055113414575, 0.007655354858096166, 0.0062731969257636844, 0.006177453060398219, 0.005891325989166002, 0.007568604334988562]\n",
      "2018-02-01 17:10:07,793 : INFO : merging changes from 400 documents into a model of 1600 documents\n",
      "2018-02-01 17:10:08,149 : INFO : topic #165 (0.004): 0.006*\"hotel\" + 0.005*\"room\" + 0.003*\"stay\" + 0.002*\"great\" + 0.002*\"staff\" + 0.002*\"Chicago\" + 0.001*\"location\" + 0.001*\"rooms\" + 0.001*\"s\" + 0.001*\"nice\"\n",
      "2018-02-01 17:10:08,151 : INFO : topic #14 (0.004): 0.006*\"hotel\" + 0.005*\"room\" + 0.003*\"stay\" + 0.002*\"great\" + 0.002*\"staff\" + 0.002*\"Chicago\" + 0.001*\"location\" + 0.001*\"rooms\" + 0.001*\"s\" + 0.001*\"nice\"\n",
      "2018-02-01 17:10:08,153 : INFO : topic #45 (0.013): 0.010*\"broken\" + 0.008*\"non_smoking\" + 0.008*\"smoking_room\" + 0.007*\"non_smoking_room\" + 0.006*\"removed\" + 0.006*\"general_manager\" + 0.006*\"computer\" + 0.006*\"unpleasant\" + 0.006*\"thin\" + 0.006*\"mold\"\n",
      "2018-02-01 17:10:08,155 : INFO : topic #137 (0.013): 0.012*\"Holiday_Inn\" + 0.010*\"switch\" + 0.008*\"maintenance\" + 0.007*\"finally_got\" + 0.007*\"hoping\" + 0.007*\"garage\" + 0.007*\"smelled_like\" + 0.007*\"hadn_t\" + 0.006*\"spoon\" + 0.006*\"bank\"\n",
      "2018-02-01 17:10:08,156 : INFO : topic #30 (0.014): 0.088*\"us\" + 0.084*\"room\" + 0.041*\"arrived\" + 0.035*\"finally\" + 0.030*\"day\" + 0.028*\"time\" + 0.027*\"outside\" + 0.025*\"still\" + 0.024*\"put\" + 0.024*\"left\"\n",
      "2018-02-01 17:10:08,173 : INFO : topic diff=0.620576, rho=0.353553\n",
      "2018-02-01 17:10:08,304 : INFO : PROGRESS: pass 3, at document #1200/1600\n"
     ]
    },
    {
     "name": "stderr",
     "output_type": "stream",
     "text": [
      "2018-02-01 17:10:09,528 : INFO : optimized alpha [0.0069811854745148475, 0.00554084695727999, 0.0072415511146667905, 0.006916293875649978, 0.005867038842906984, 0.008442318318971206, 0.0058443731060595855, 0.006746877284585649, 0.007550268806393401, 0.006666823265081792, 0.00791541061573358, 0.007576845432694999, 0.008328091187233785, 0.008278769276959358, 0.0043517629125486585, 0.006212257457412823, 0.004989319703995746, 0.01043670791547745, 0.00653117611367514, 0.006906763566218705, 0.007809475043861326, 0.0075885769260497045, 0.00857881094659696, 0.008022169056279312, 0.006746454717410521, 0.008509555085473715, 0.006704989273383816, 0.007104214941377788, 0.004512715944375612, 0.005351470161637562, 0.014429575366858844, 0.0069862979281252536, 0.008692039058188243, 0.00503052141471271, 0.005465346841403656, 0.010182884763203436, 0.006494059968755388, 0.007830022476562124, 0.005815813019407493, 0.006560910689784713, 0.006549964754289264, 0.010669908457819979, 0.00620612687548277, 0.0068704832095909255, 0.006640754703663746, 0.012929988791833397, 0.006833425662173592, 0.007372418256254429, 0.007315472123849785, 0.009577349266562249, 0.005027131185476612, 0.008672609132722836, 0.0067640119200202764, 0.006917888059184676, 0.005667069902539683, 0.007380973566108741, 0.006779248986028179, 0.007980339495776187, 0.009314205349632312, 0.006478535778013935, 0.007709881001809737, 0.010857469017312446, 0.007019463410540596, 0.009626383666179699, 0.004657684751803249, 0.007832012839984291, 0.0069654960564145005, 0.00695926390314209, 0.007377948865751904, 0.010843515415976895, 0.007599822701056343, 0.009801717083651561, 0.008812992797774883, 0.008488491037523973, 0.010556176262647328, 0.008792254130905737, 0.008288801793767479, 0.008678792799642596, 0.008636448727861491, 0.005984746021120772, 0.004356513785861295, 0.007972381527310632, 0.005779174976514911, 0.006583294338724649, 0.00881967733150596, 0.00795018015448973, 0.0069289812479998904, 0.006649690513427103, 0.010665312314561437, 0.00600995775868762, 0.007620415306148308, 0.0058485221968717265, 0.010348714994886248, 0.007510083588290602, 0.006669087251683848, 0.006030876707484313, 0.00721062418509643, 0.009781384966336827, 0.009584289904711118, 0.009063934975969464, 0.0067408367853218935, 0.007820360467195933, 0.007135545203823437, 0.006980376288742365, 0.008101526692819407, 0.011340381915134501, 0.00722943156594647, 0.0077675379872426745, 0.005173066641186397, 0.0061755813625966605, 0.00729874138332797, 0.01006492691911634, 0.006455078892152438, 0.0050016458156653685, 0.007868346117082302, 0.0064473853665384506, 0.0051316729233327266, 0.007523855037078408, 0.008934703020930919, 0.008672789516370854, 0.011270132847755661, 0.006456219757700436, 0.007524026293189336, 0.007312089333551208, 0.0053959116809500305, 0.007926625178999322, 0.007987795078204622, 0.005913163059071244, 0.007923759769339823, 0.005145201151938588, 0.008415721044959436, 0.012087284422826547, 0.006763682940174655, 0.007292572621361189, 0.006493838891152214, 0.00552201169503351, 0.005804564034047871, 0.013884663456805144, 0.008337485879446016, 0.005293795937801643, 0.007996650030207624, 0.006858936090238877, 0.007365434609451291, 0.006436450833458156, 0.006281808441373529, 0.00437854101203089, 0.007431898040680911, 0.0058490491791397614, 0.007680046535847091, 0.009185374104293108, 0.0047466641656647495, 0.006575111997876856, 0.007386000190899903, 0.007828540782508088, 0.00835511861869484, 0.007660688376488107, 0.012254039780308562, 0.006685204624953508, 0.00838916158159375, 0.008322825345502792, 0.007419765925600191, 0.007003379233769564, 0.004893201595192039, 0.0059327552665762945, 0.0069473258636296486, 0.004356579851744956, 0.009482646951364377, 0.008372171750076127, 0.007240106539914813, 0.007923219908787327, 0.006897802859907036, 0.006925282772590768, 0.00719212033542552, 0.006576416151369424, 0.008220410248022201, 0.00547842189957568, 0.006358730120177207, 0.007800096885417088, 0.005665663875998788, 0.006992672259671139, 0.00773132392232322, 0.006920844742319836, 0.00643634204317527, 0.00571195820826676, 0.006903307456216895, 0.00772318377984603, 0.006983579667848507, 0.008311692270819897, 0.008582419686631818, 0.006175127254930702, 0.005313339526948946, 0.005193292445274429, 0.006837093597995929, 0.006805139249164108, 0.008050538518003442, 0.00781648949609678, 0.006443430269815775, 0.006181353133335941, 0.005949873073750384, 0.007653979227516697]\n",
      "2018-02-01 17:10:09,552 : INFO : merging changes from 400 documents into a model of 1600 documents\n",
      "2018-02-01 17:10:09,892 : INFO : topic #165 (0.004): 0.007*\"hotel\" + 0.006*\"room\" + 0.003*\"stay\" + 0.002*\"great\" + 0.002*\"staff\" + 0.002*\"Chicago\" + 0.002*\"location\" + 0.002*\"rooms\" + 0.001*\"s\" + 0.001*\"nice\"\n",
      "2018-02-01 17:10:09,893 : INFO : topic #14 (0.004): 0.007*\"hotel\" + 0.006*\"room\" + 0.003*\"stay\" + 0.002*\"great\" + 0.002*\"staff\" + 0.002*\"Chicago\" + 0.002*\"location\" + 0.002*\"rooms\" + 0.001*\"s\" + 0.001*\"nice\"\n",
      "2018-02-01 17:10:09,896 : INFO : topic #45 (0.013): 0.009*\"broken\" + 0.009*\"non_smoking\" + 0.007*\"asleep\" + 0.007*\"say_the_least\" + 0.007*\"smoking_room\" + 0.007*\"enter\" + 0.006*\"non_smoking_room\" + 0.006*\"everybody\" + 0.006*\"handle\" + 0.006*\"lodging\"\n",
      "2018-02-01 17:10:09,897 : INFO : topic #137 (0.014): 0.011*\"Holiday_Inn\" + 0.009*\"switch\" + 0.008*\"customer\" + 0.007*\"maintenance\" + 0.007*\"garage\" + 0.007*\"finally_got\" + 0.007*\"bank\" + 0.006*\"delayed\" + 0.006*\"hoping\" + 0.006*\"smelled_like\"\n",
      "2018-02-01 17:10:09,899 : INFO : topic #30 (0.014): 0.087*\"us\" + 0.084*\"room\" + 0.039*\"arrived\" + 0.032*\"day\" + 0.031*\"time\" + 0.029*\"finally\" + 0.027*\"outside\" + 0.026*\"couldn_t\" + 0.024*\"long\" + 0.023*\"stay\"\n",
      "2018-02-01 17:10:09,919 : INFO : topic diff=0.493142, rho=0.353553\n",
      "2018-02-01 17:10:13,154 : INFO : -9.464 per-word bound, 706.3 perplexity estimate based on a held-out corpus of 400 documents with 31277 words\n",
      "2018-02-01 17:10:13,155 : INFO : PROGRESS: pass 3, at document #1600/1600\n"
     ]
    },
    {
     "name": "stderr",
     "output_type": "stream",
     "text": [
      "2018-02-01 17:10:14,726 : INFO : optimized alpha [0.0071284775287784475, 0.005620185675103298, 0.00762450686432025, 0.007247774120062915, 0.006041342474971305, 0.008799946630483588, 0.005940067032660047, 0.006951045962412401, 0.0077310785794272915, 0.006799705195301871, 0.008114872315971624, 0.00818830916839851, 0.008548849645856225, 0.00862506961084239, 0.004324612516768668, 0.006377748723273969, 0.005099706801076972, 0.01146216339602819, 0.006638353411512073, 0.00712035846372295, 0.008279540320357168, 0.008014394245410667, 0.008695602484725038, 0.008367877181113061, 0.006980812271565079, 0.00895062862614015, 0.006878513437863567, 0.007265274767587301, 0.004491558175260404, 0.005414825966876093, 0.01646175441940899, 0.007251296721948272, 0.009521044517737852, 0.005074338108354457, 0.005533744834629155, 0.010966721698760735, 0.006743868072896473, 0.007999576547548739, 0.005957972088796956, 0.006703105148416999, 0.0067208112822181075, 0.010871342497739819, 0.006420335391937668, 0.007053195983252347, 0.006824759178213215, 0.01461177317770032, 0.0070816339710362474, 0.00785894659714196, 0.007512601885544827, 0.01013666036654204, 0.005053146354562574, 0.009085897006286618, 0.006957653204503381, 0.0072429567085755, 0.005741497691013858, 0.007579113084510132, 0.0070689922634844735, 0.008323736101243793, 0.009839495990693907, 0.006768783493433718, 0.008069061317067595, 0.012080014855610445, 0.0071672344492964175, 0.010047552199487421, 0.004651283651772278, 0.008226242525366117, 0.007186720175206936, 0.007087538457304899, 0.007548570480427896, 0.011478183165143506, 0.007943147597903603, 0.010111263819319894, 0.0094107753395205, 0.008886431328147149, 0.011412980163492103, 0.008987764333891389, 0.008725633324934479, 0.009121088820281596, 0.00893826713302744, 0.006065972464141312, 0.004329304078711905, 0.008296093835658571, 0.005925714727560739, 0.006742960909972283, 0.009198362966978018, 0.008136100764495242, 0.007136753368587267, 0.00682811637915959, 0.011750382562574033, 0.006160510363610405, 0.007775063203068964, 0.0059913686227877965, 0.010991787023482268, 0.007848518162146548, 0.00693650531281141, 0.006240611668037518, 0.0074047924542447454, 0.010348515560158157, 0.010391002410227732, 0.009381796689608946, 0.006933891372784295, 0.00805955144093008, 0.007405099250862338, 0.007165375828357112, 0.008360092921096315, 0.012207252433383834, 0.007412134386387715, 0.008192101855504058, 0.005230796569131746, 0.006252268393997534, 0.007539882236603682, 0.010712489773508561, 0.006653240305561995, 0.00505004724461006, 0.008179978246776558, 0.006610515878296759, 0.00525766335895266, 0.007750539546008304, 0.009547999084377272, 0.00918241826809762, 0.012124697028998382, 0.006568675273156057, 0.007816971777539233, 0.007528817471596944, 0.005440129136757968, 0.008471443512293644, 0.008314015423907738, 0.0059625754601937775, 0.00843667645061313, 0.005148176062496684, 0.008673121857228527, 0.013702140689154221, 0.007004200721462992, 0.007657695070560499, 0.006571555832627443, 0.005556570660792797, 0.005977443293737858, 0.015962441772289258, 0.00881928149854076, 0.005277142918396292, 0.008331689676884758, 0.007237702372230101, 0.007590565195530622, 0.0065654995807451705, 0.0064645190833070776, 0.004358855583514697, 0.007604291956237723, 0.0059866075791743575, 0.008011847385774408, 0.009672505845591702, 0.0048112282691673575, 0.0067000506917462566, 0.007478948589557052, 0.008175116882936677, 0.008800126690949229, 0.007959277239851074, 0.013589968845929183, 0.00687678753381417, 0.008871063598205116, 0.008499127099239785, 0.0075923157439672095, 0.007144331127223497, 0.004928388875262858, 0.006034909717597841, 0.00711305771535648, 0.0043293693193525015, 0.01035548435740487, 0.008742425932944803, 0.0073969613219831126, 0.008362629607656335, 0.007105251635159377, 0.007127130729162396, 0.00771092630029622, 0.006701405216585132, 0.008813395293480273, 0.005605029729156529, 0.006475952845512756, 0.008067342029044971, 0.005695009610117841, 0.007170729458322043, 0.00803965621584671, 0.0070186897044431035, 0.006542985419015112, 0.005791871116260969, 0.007111151941585162, 0.008153259696495859, 0.0071553276246718095, 0.008501645883286143, 0.009180245172907725, 0.006405628669882088, 0.005442402604562003, 0.005334324063825664, 0.007183757060570334, 0.007011196760306828, 0.008315377638579582, 0.007973268829025205, 0.006543669134128658, 0.006400912921002573, 0.006020563974582473, 0.008101496070502957]\n",
      "2018-02-01 17:10:14,755 : INFO : merging changes from 400 documents into a model of 1600 documents\n",
      "2018-02-01 17:10:15,080 : INFO : topic #80 (0.004): 0.008*\"hotel\" + 0.006*\"room\" + 0.003*\"stay\" + 0.003*\"great\" + 0.002*\"staff\" + 0.002*\"Chicago\" + 0.002*\"rooms\" + 0.002*\"location\" + 0.002*\"s\" + 0.001*\"nice\"\n",
      "2018-02-01 17:10:15,082 : INFO : topic #14 (0.004): 0.008*\"hotel\" + 0.006*\"room\" + 0.003*\"stay\" + 0.003*\"great\" + 0.002*\"staff\" + 0.002*\"Chicago\" + 0.002*\"rooms\" + 0.002*\"location\" + 0.002*\"s\" + 0.001*\"nice\"\n",
      "2018-02-01 17:10:15,085 : INFO : topic #45 (0.015): 0.015*\"non_smoking\" + 0.013*\"unpleasant\" + 0.011*\"broken\" + 0.010*\"wasn_t_even\" + 0.010*\"outrageous\" + 0.009*\"trash\" + 0.009*\"discovered\" + 0.009*\"computer\" + 0.008*\"enter\" + 0.008*\"woman_at_the_front_desk\"\n",
      "2018-02-01 17:10:15,087 : INFO : topic #137 (0.016): 0.015*\"smelled_like\" + 0.014*\"finally_got\" + 0.013*\"switch\" + 0.012*\"delayed\" + 0.012*\"hadn_t\" + 0.011*\"hoping\" + 0.010*\"hassle\" + 0.010*\"odor\" + 0.010*\"Holiday_Inn\" + 0.010*\"hours_later\"\n",
      "2018-02-01 17:10:15,089 : INFO : topic #30 (0.016): 0.099*\"room\" + 0.078*\"us\" + 0.051*\"arrived\" + 0.043*\"finally\" + 0.033*\"time\" + 0.032*\"day\" + 0.027*\"found\" + 0.026*\"long\" + 0.024*\"bags\" + 0.024*\"outside\"\n",
      "2018-02-01 17:10:15,107 : INFO : topic diff=0.458931, rho=0.353553\n",
      "2018-02-01 17:10:15,233 : INFO : PROGRESS: pass 4, at document #400/1600\n"
     ]
    },
    {
     "name": "stderr",
     "output_type": "stream",
     "text": [
      "2018-02-01 17:10:16,158 : INFO : optimized alpha [0.007183021588632035, 0.005622005992369916, 0.007594885609628817, 0.007210704814160051, 0.00603995675624819, 0.00881173898400202, 0.00598388346790877, 0.00699372511073134, 0.007777543417276176, 0.006849184061327131, 0.008132897538948297, 0.008136415116597701, 0.008737152958420548, 0.008689988136613506, 0.0043005383924326875, 0.006378838776741851, 0.005070479820079894, 0.011381073607479359, 0.006659507563133557, 0.007144793050263515, 0.008247123808694827, 0.008026232296062677, 0.009027118212880006, 0.008391107150399318, 0.0069827613246084275, 0.008989929659945396, 0.006898519045332272, 0.007300962621028295, 0.00446933244958754, 0.0054132562121003746, 0.016604924556477458, 0.00731706238011901, 0.009501881528485344, 0.005045475037969079, 0.0054943276199239865, 0.010970138661605653, 0.006702315849115494, 0.008301228937203763, 0.00593723420916243, 0.006758270920686163, 0.006719070805061841, 0.011155070123608111, 0.006420945355380736, 0.007095460178525233, 0.006844932496469862, 0.014337030635011416, 0.007088321431595053, 0.007819132678170337, 0.007515832354838882, 0.010200170615967947, 0.005054094045615517, 0.009179894200187864, 0.006994425594933153, 0.007357372112985639, 0.0057519534788304455, 0.007639409922938296, 0.007099305429536761, 0.008304985788287339, 0.0099398729217961, 0.006709809815847158, 0.008127276039125877, 0.011892212132353284, 0.007233923413248503, 0.010123175831390567, 0.004635080284508669, 0.008243257830097453, 0.007252751306222794, 0.00713029545201131, 0.007652344904151878, 0.011562665442024, 0.007982135103975448, 0.010219047836786488, 0.00946290361921819, 0.008935282171847773, 0.01125528206100143, 0.009158555085460814, 0.00870909904010053, 0.00922132106168937, 0.009084666359564189, 0.006100106856517111, 0.004305177693944111, 0.00835553078582687, 0.005905322575444421, 0.006808533406810014, 0.009230228453779554, 0.008181810906211118, 0.007125114593585123, 0.006865144444412238, 0.011723431070591355, 0.00616314445665382, 0.007848701755556728, 0.006020343634827004, 0.010994215977246924, 0.00789392824228081, 0.006961740231777739, 0.006232280741374229, 0.007470708787755748, 0.010343694860214293, 0.010252036494885817, 0.009575058955774, 0.007006249745324887, 0.008179347395834962, 0.007446588193822854, 0.007273765047377712, 0.008396313871586444, 0.012181452693033022, 0.007509986431698288, 0.00818171370123545, 0.005217435823936209, 0.006295988399580011, 0.007618918279185046, 0.010764829233418613, 0.006674237832016005, 0.005050898797182085, 0.008183684273807171, 0.006686792773691891, 0.005222080951550898, 0.00780377120463625, 0.009535810072101832, 0.00925169519611919, 0.01219459747949994, 0.006662107153011086, 0.007856820831000068, 0.007519563480223254, 0.005502041813948492, 0.00844326060264792, 0.008412617636268471, 0.005981640281022079, 0.008402219337837911, 0.005126988120453595, 0.00882329167151855, 0.013460530775227575, 0.006988001367720702, 0.007685216282796599, 0.006648266105614837, 0.0055911752198088615, 0.00595144576405071, 0.015634580444067014, 0.008882709139358678, 0.0052897068426037055, 0.008326791390379916, 0.007188614038256417, 0.0076638201512763725, 0.006609285657154768, 0.006491877144842082, 0.004334398715066908, 0.007695985388689623, 0.005985517177882667, 0.008083805070995046, 0.009772898168140018, 0.00478948551912115, 0.00680512578998451, 0.00768370617385509, 0.00819962786368704, 0.008863716795108797, 0.00799854670867651, 0.013535927098981259, 0.006931550819281204, 0.00888335007192432, 0.008635605414301155, 0.007633467979047463, 0.007258389592925823, 0.004905337173177734, 0.006154785029755538, 0.0072875428647501735, 0.004305242207454177, 0.010304877203568543, 0.008821167668922889, 0.007532339593279558, 0.008511286229079075, 0.007207347376819647, 0.0072168383659321125, 0.0076473310218526745, 0.00677839202308283, 0.008780718224781573, 0.005588029768569853, 0.00650347690132602, 0.008159867316633988, 0.005705780062396753, 0.007230947084533339, 0.008058903517302969, 0.007085805544888504, 0.006537804784704486, 0.005831067216748387, 0.007129628248841156, 0.008129259908404967, 0.007167477040189059, 0.0086313332942146, 0.009156614120416892, 0.006411854056404087, 0.005413412356532911, 0.005311064143680035, 0.007159643095348522, 0.0070891354722920855, 0.008400685556265806, 0.008019214014936805, 0.006652796645670343, 0.006396475491133968, 0.006044692220402284, 0.008057961220219739]\n",
      "2018-02-01 17:10:16,191 : INFO : merging changes from 400 documents into a model of 1600 documents\n",
      "2018-02-01 17:10:16,513 : INFO : topic #80 (0.004): 0.010*\"hotel\" + 0.007*\"room\" + 0.004*\"stay\" + 0.003*\"staff\" + 0.003*\"great\" + 0.002*\"Chicago\" + 0.002*\"rooms\" + 0.002*\"location\" + 0.002*\"s\" + 0.002*\"nice\"\n",
      "2018-02-01 17:10:16,514 : INFO : topic #165 (0.004): 0.010*\"hotel\" + 0.007*\"room\" + 0.004*\"stay\" + 0.003*\"staff\" + 0.003*\"great\" + 0.002*\"Chicago\" + 0.002*\"rooms\" + 0.002*\"location\" + 0.002*\"s\" + 0.002*\"nice\"\n",
      "2018-02-01 17:10:16,516 : INFO : topic #45 (0.014): 0.015*\"non_smoking\" + 0.013*\"unpleasant\" + 0.011*\"broken\" + 0.010*\"wasn_t_even\" + 0.010*\"outrageous\" + 0.009*\"trash\" + 0.009*\"discovered\" + 0.009*\"computer\" + 0.008*\"enter\" + 0.008*\"woman_at_the_front_desk\"\n",
      "2018-02-01 17:10:16,518 : INFO : topic #137 (0.016): 0.014*\"smelled_like\" + 0.014*\"finally_got\" + 0.012*\"switch\" + 0.012*\"delayed\" + 0.011*\"hadn_t\" + 0.011*\"hoping\" + 0.010*\"hassle\" + 0.010*\"odor\" + 0.010*\"Holiday_Inn\" + 0.009*\"hours_later\"\n",
      "2018-02-01 17:10:16,520 : INFO : topic #30 (0.017): 0.091*\"room\" + 0.081*\"us\" + 0.044*\"arrived\" + 0.037*\"finally\" + 0.030*\"day\" + 0.030*\"time\" + 0.025*\"long\" + 0.024*\"found\" + 0.024*\"left\" + 0.024*\"outside\"\n",
      "2018-02-01 17:10:16,538 : INFO : topic diff=0.384929, rho=0.333333\n",
      "2018-02-01 17:10:16,668 : INFO : PROGRESS: pass 4, at document #800/1600\n"
     ]
    },
    {
     "name": "stderr",
     "output_type": "stream",
     "text": [
      "2018-02-01 17:10:18,094 : INFO : optimized alpha [0.007347246073086539, 0.005673160376214797, 0.007836138292945933, 0.007454837520745658, 0.006096321134501662, 0.009210278197564467, 0.0060598591290272705, 0.007190673701103174, 0.008054343234179848, 0.006969636220626375, 0.008523122650142791, 0.008400854076181425, 0.008891108124079741, 0.009012973679341531, 0.004275263210979374, 0.00651078207928601, 0.005098867441845166, 0.012111873232003231, 0.006788883220498906, 0.00727313851258027, 0.00867541995721484, 0.008330553604640373, 0.00905336885541906, 0.008671134232169126, 0.007232562233988567, 0.009408316933678896, 0.007012861323275718, 0.007442591373858289, 0.0044569323992936505, 0.005427523314568328, 0.018052766858296113, 0.007470880214624708, 0.010007577030823108, 0.005086504088431756, 0.0054530732968995944, 0.01154952928728138, 0.006870766966776542, 0.0084095562723569, 0.006023129024774913, 0.006815260891249342, 0.00689931527400846, 0.011259899431969785, 0.0065793871890629605, 0.007276956939888658, 0.007062019759510907, 0.015482736656859921, 0.0072745392299469564, 0.008168845528724418, 0.0077538617712092275, 0.010940942367985292, 0.005090922958020401, 0.009483855958969039, 0.007256518980837611, 0.007481548208902749, 0.005817265166710434, 0.007778321982243803, 0.007143562921027893, 0.008630261125659325, 0.01025997288633113, 0.006799898662454758, 0.008275451146417341, 0.012644049212445321, 0.007490194328997102, 0.010534166575754629, 0.004640512025248049, 0.008644099481026922, 0.007503417842745863, 0.007324243054430515, 0.0077775951692554204, 0.012219974561060153, 0.008432551696301981, 0.010560418006390683, 0.010082844252575203, 0.009091377721696471, 0.012045629514141966, 0.00929837500123133, 0.009003635363308527, 0.009416092327436312, 0.009263489545795362, 0.006212625352249799, 0.004279847952395559, 0.008549906391055392, 0.005966504837963049, 0.006847662917758421, 0.009441600838543346, 0.00833198881575926, 0.00721750545275414, 0.0069844041056479735, 0.012735247021229166, 0.006270938573995379, 0.00800251662385741, 0.006071520282828637, 0.011461728447161966, 0.008132136281439563, 0.007058854814141656, 0.006273338674653214, 0.007657238309606462, 0.010778087013447716, 0.010748376349363549, 0.009748408938258494, 0.007151740852769814, 0.0083554225648383, 0.007658930475756775, 0.007348178965118031, 0.008708734751133908, 0.012931511764095365, 0.007628599934805083, 0.008454812297315617, 0.005271719047271382, 0.006289137329356788, 0.007789009058395777, 0.011262213007872345, 0.006753010549398766, 0.00505818255759947, 0.008499347343131116, 0.006810131479564328, 0.005245877464020849, 0.008087317140767257, 0.0100805580734552, 0.009773114198224523, 0.012699737331985012, 0.006824755864660148, 0.008148963623290517, 0.007834687530642438, 0.005584743890075949, 0.008785991135814481, 0.008449768954804654, 0.006012710917637551, 0.008788287015468058, 0.005176506688963059, 0.00913180765059805, 0.014229128967685162, 0.007301933317694717, 0.007926761491939948, 0.006727319148038224, 0.005651377848228672, 0.006032638447663524, 0.017096740352414347, 0.009165693176491595, 0.005286902575501268, 0.008617468590452461, 0.007468849009431859, 0.0078099743887317585, 0.006804548490858137, 0.006591824691928358, 0.004308723970305962, 0.007770022156982858, 0.006086662210357551, 0.008225250701974626, 0.010062886377798888, 0.004762171237476142, 0.006975760867705381, 0.007809702341930057, 0.008509944535617719, 0.009100067811108363, 0.008248630020894024, 0.014401953092353332, 0.0071105101942121485, 0.009237420084392897, 0.008890283709588895, 0.007746865205487569, 0.00737518949406162, 0.004905185007484765, 0.006304274520871527, 0.007411175698990978, 0.004279911706785536, 0.010865869318796382, 0.00925129957399594, 0.00760690336513611, 0.008620019917537077, 0.007293793981752765, 0.007381741798325619, 0.007823859559285483, 0.006857429432297369, 0.009142409782691345, 0.0056480878660640395, 0.006647607378035761, 0.008358310313670481, 0.005780571367201104, 0.007341154004111514, 0.008351159599658268, 0.007262554406558528, 0.0066829401566176104, 0.005931028766861223, 0.007269760577106096, 0.008463141471524153, 0.007283311051220402, 0.008878861624092687, 0.00985966024385587, 0.006532994862225901, 0.005482050735625448, 0.0053080829584360835, 0.007407706291702445, 0.007187065257121653, 0.008636075426168345, 0.008235522582501039, 0.006714772501592653, 0.006587201360548827, 0.006146905461191771, 0.008335085351067468]\n",
      "2018-02-01 17:10:18,118 : INFO : merging changes from 400 documents into a model of 1600 documents\n",
      "2018-02-01 17:10:18,457 : INFO : topic #14 (0.004): 0.011*\"hotel\" + 0.008*\"room\" + 0.004*\"stay\" + 0.003*\"staff\" + 0.003*\"great\" + 0.003*\"Chicago\" + 0.002*\"rooms\" + 0.002*\"location\" + 0.002*\"s\" + 0.002*\"nice\"\n",
      "2018-02-01 17:10:18,459 : INFO : topic #165 (0.004): 0.011*\"hotel\" + 0.008*\"room\" + 0.004*\"stay\" + 0.003*\"staff\" + 0.003*\"great\" + 0.003*\"Chicago\" + 0.002*\"rooms\" + 0.002*\"location\" + 0.002*\"s\" + 0.002*\"nice\"\n",
      "2018-02-01 17:10:18,461 : INFO : topic #45 (0.015): 0.010*\"broken\" + 0.009*\"non_smoking\" + 0.008*\"smoking_room\" + 0.006*\"minutes_later\" + 0.006*\"non_smoking_room\" + 0.006*\"removed\" + 0.006*\"unpleasant\" + 0.006*\"general_manager\" + 0.006*\"discovered\" + 0.006*\"thin\"\n",
      "2018-02-01 17:10:18,463 : INFO : topic #137 (0.017): 0.012*\"Holiday_Inn\" + 0.010*\"switch\" + 0.008*\"maintenance\" + 0.007*\"finally_got\" + 0.007*\"hoping\" + 0.007*\"smelled_like\" + 0.007*\"garage\" + 0.006*\"hadn_t\" + 0.006*\"spoon\" + 0.006*\"bank\"\n",
      "2018-02-01 17:10:18,465 : INFO : topic #30 (0.018): 0.093*\"room\" + 0.087*\"us\" + 0.042*\"arrived\" + 0.034*\"finally\" + 0.031*\"day\" + 0.028*\"time\" + 0.026*\"outside\" + 0.025*\"still\" + 0.025*\"couldn_t\" + 0.025*\"left\"\n",
      "2018-02-01 17:10:18,483 : INFO : topic diff=0.396405, rho=0.333333\n",
      "2018-02-01 17:10:18,612 : INFO : PROGRESS: pass 4, at document #1200/1600\n"
     ]
    },
    {
     "name": "stderr",
     "output_type": "stream",
     "text": [
      "2018-02-01 17:10:19,786 : INFO : optimized alpha [0.007472945834729908, 0.005772181865239315, 0.007919514594098889, 0.007587436665989058, 0.006168318378634316, 0.009401994380003964, 0.006121522239772343, 0.007272547020522066, 0.008205509299606416, 0.007074747878494158, 0.008670941886369243, 0.008518846135914557, 0.009322122524678211, 0.009347609381964073, 0.004253089164072719, 0.006568364306924532, 0.005080074325999464, 0.012272494514714113, 0.006931450439386149, 0.007501344597723385, 0.008686330922335521, 0.008435553544291787, 0.009755106127955222, 0.00883611757757041, 0.007235683905994921, 0.00960061591536156, 0.007158592575050775, 0.0077123038657728946, 0.0044365478775688135, 0.0054868796950360175, 0.018583967570141247, 0.0076093068263909805, 0.010123607749272347, 0.005084942300480117, 0.005654190956448699, 0.012023530007567406, 0.006916847444432492, 0.008812720415612945, 0.006069675631786247, 0.0069880341963011175, 0.007014908551003587, 0.01227856657819699, 0.00671953270243622, 0.00738928986254538, 0.007125745635377474, 0.01589309137607534, 0.007362325442583528, 0.00819743731881583, 0.007895643543547194, 0.011024759203639715, 0.005080804187350133, 0.009848160313071943, 0.0073206453727709805, 0.007564353530848408, 0.005858768916141146, 0.007986798720757051, 0.007267468540950308, 0.008721164349023173, 0.010581976232077564, 0.006937048409263017, 0.008469261381987205, 0.012957876930478288, 0.007548322941452007, 0.010925507067999104, 0.00463382577225288, 0.008785954848005267, 0.007623792172002135, 0.007418713377773297, 0.007958366461108401, 0.012464801580261817, 0.008473487974463038, 0.011139536183050386, 0.010179489203737718, 0.009665860857225941, 0.01238593200155949, 0.009659538302600586, 0.009194344951350544, 0.009736701483207339, 0.00966741961477007, 0.0062488884624832975, 0.004257626323040413, 0.008778448356202093, 0.006037906612236693, 0.00703753710507472, 0.009773113717363478, 0.008556963725603764, 0.007522107374096746, 0.007094916579099589, 0.012742353697459529, 0.00634907162979786, 0.008309400884245728, 0.006133509959392782, 0.012018320659960871, 0.008262605629362249, 0.007169872444481921, 0.006393598595902925, 0.007842317196175178, 0.011111359796294028, 0.011111763842472144, 0.010247021007046204, 0.007275995658707015, 0.008657821870419774, 0.007741737256109952, 0.00754861676433818, 0.008973923083325473, 0.013506968532264518, 0.0078279491310309, 0.008594519306761545, 0.005277644527731442, 0.006557264098598052, 0.007976955961384842, 0.011544754112620194, 0.006929202390223761, 0.005098968412754158, 0.008719924852830916, 0.006918812851081782, 0.005234483095573574, 0.008170929914440288, 0.01023755784810323, 0.009895097427666961, 0.013143190107587377, 0.006951627770393605, 0.008218681275181076, 0.008023574593566972, 0.005607542823442828, 0.008832331281784562, 0.008901171381494637, 0.006134937407505968, 0.008894045967677565, 0.00520872715222289, 0.00938263644363842, 0.014724343686734873, 0.007371482504461952, 0.008123275143489215, 0.006886405929209124, 0.005711985453990588, 0.006089367789742718, 0.01763140973808613, 0.009464651599235213, 0.005389669726788877, 0.00879559768166847, 0.007501358814525464, 0.008086327978069107, 0.006873412810812155, 0.006731901686984017, 0.004286201481028076, 0.008095607987826447, 0.006194264321558004, 0.00849519806719162, 0.010603957601326727, 0.004754529384320771, 0.007062763604142967, 0.008071188367897901, 0.008594074935839522, 0.00943002545792392, 0.008360230101298206, 0.014732470320873004, 0.007210268974548825, 0.00939180702610842, 0.009372992628560952, 0.008051948631395751, 0.00763071056472369, 0.004937424283004273, 0.006329827280798086, 0.00763113928311031, 0.004257689415400006, 0.011033561444369485, 0.009505752509686417, 0.007843427419177915, 0.0088852387407474, 0.007449230968570526, 0.007432904678029205, 0.00791314820033013, 0.007024554847833911, 0.009240907009489215, 0.005642369040768311, 0.006800377974283514, 0.008603839847551656, 0.005841583398115373, 0.007619846707598494, 0.008435609191211434, 0.007363741874875109, 0.00676886019347427, 0.005982620094586739, 0.007431017164262091, 0.008589103694122153, 0.007621128891446539, 0.009180406026247428, 0.009964501851893418, 0.006584900173080394, 0.005523719838959023, 0.005318214579003747, 0.007440105935145673, 0.0073233096071337565, 0.009009846483089702, 0.008395883731658105, 0.006884872899497341, 0.006589641432557065, 0.006199002891637087, 0.008432765457804638]\n",
      "2018-02-01 17:10:19,810 : INFO : merging changes from 400 documents into a model of 1600 documents\n",
      "2018-02-01 17:10:20,143 : INFO : topic #14 (0.004): 0.012*\"hotel\" + 0.009*\"room\" + 0.004*\"stay\" + 0.003*\"staff\" + 0.003*\"great\" + 0.003*\"Chicago\" + 0.002*\"rooms\" + 0.002*\"location\" + 0.002*\"s\" + 0.002*\"nice\"\n",
      "2018-02-01 17:10:20,145 : INFO : topic #80 (0.004): 0.012*\"hotel\" + 0.009*\"room\" + 0.004*\"stay\" + 0.003*\"staff\" + 0.003*\"great\" + 0.003*\"Chicago\" + 0.002*\"rooms\" + 0.002*\"location\" + 0.002*\"s\" + 0.002*\"nice\"\n",
      "2018-02-01 17:10:20,147 : INFO : topic #45 (0.016): 0.009*\"non_smoking\" + 0.009*\"broken\" + 0.007*\"asleep\" + 0.007*\"say_the_least\" + 0.007*\"smoking_room\" + 0.007*\"enter\" + 0.006*\"everybody\" + 0.006*\"handle\" + 0.006*\"minutes_later\" + 0.006*\"non_smoking_room\"\n",
      "2018-02-01 17:10:20,150 : INFO : topic #137 (0.018): 0.011*\"Holiday_Inn\" + 0.009*\"switch\" + 0.008*\"customer\" + 0.007*\"maintenance\" + 0.007*\"garage\" + 0.007*\"bank\" + 0.006*\"finally_got\" + 0.006*\"delayed\" + 0.006*\"hoping\" + 0.006*\"smelled_like\"\n",
      "2018-02-01 17:10:20,153 : INFO : topic #30 (0.019): 0.094*\"room\" + 0.086*\"us\" + 0.041*\"arrived\" + 0.033*\"day\" + 0.031*\"time\" + 0.030*\"couldn_t\" + 0.028*\"finally\" + 0.026*\"outside\" + 0.025*\"stay\" + 0.023*\"long\"\n",
      "2018-02-01 17:10:20,169 : INFO : topic diff=0.325219, rho=0.333333\n",
      "2018-02-01 17:10:23,349 : INFO : -9.381 per-word bound, 666.7 perplexity estimate based on a held-out corpus of 400 documents with 31277 words\n",
      "2018-02-01 17:10:23,351 : INFO : PROGRESS: pass 4, at document #1600/1600\n"
     ]
    },
    {
     "name": "stderr",
     "output_type": "stream",
     "text": [
      "2018-02-01 17:10:24,902 : INFO : optimized alpha [0.007625409749178255, 0.005864270882354912, 0.008323470456369733, 0.007932577986875924, 0.006350544206909615, 0.009777397976008542, 0.006215385238417585, 0.007489342661063074, 0.0083864824617555, 0.007200110379707361, 0.008856981081343532, 0.00916001616289588, 0.0095624669791988, 0.00970731608994982, 0.004229422682451907, 0.0067321030082912086, 0.005190770091451438, 0.013379023696464732, 0.007042850680014074, 0.007716600506556318, 0.009180119293167453, 0.008883049864822646, 0.009877600723933622, 0.009196647867503899, 0.007470210152253439, 0.010059875454313428, 0.00733114127626059, 0.007867022110518235, 0.004418245532239009, 0.0055484416212799965, 0.02103144810374256, 0.007839342252222166, 0.011065862352409108, 0.005127448897016812, 0.00572085215413097, 0.012926514928535934, 0.007165820154712551, 0.008984529256779035, 0.006214145470796008, 0.007128944228408844, 0.007185223547530461, 0.012467035423255151, 0.006963642321515016, 0.007571801872875165, 0.007309515969276216, 0.017808412168133878, 0.007611573702031754, 0.008735893640391736, 0.00807961163543102, 0.011616211905399276, 0.005106358676713595, 0.010288654147666977, 0.007527412401607842, 0.007889179866916198, 0.005926404157300568, 0.008185255448453554, 0.007551835099200338, 0.009077141438073862, 0.011140853100008443, 0.007222102697299155, 0.008835731850970922, 0.014295192042333694, 0.007688970576883272, 0.011354133325459724, 0.004628902046044494, 0.00920288492734172, 0.007867031327676362, 0.0075392162290922275, 0.008108565380453436, 0.01313393176581904, 0.008863253903221624, 0.011466656224377944, 0.010843001213247449, 0.010074532560724886, 0.013311390808440427, 0.009846735760197187, 0.009644398419598412, 0.010170725629270856, 0.009984840353168597, 0.006343962502952426, 0.0042339093215801845, 0.009123553995340676, 0.00618172033497876, 0.00719627968030677, 0.01013607527733502, 0.008741880680267662, 0.007718774908494103, 0.007272338375632201, 0.013940933410646946, 0.0064978775792045905, 0.008456823109970308, 0.006279173984490527, 0.012673094824809772, 0.00860827060859484, 0.007438314255619976, 0.006596552877336748, 0.008037493907950641, 0.011705354318525731, 0.011986505413233386, 0.010582838118424184, 0.007469709017802138, 0.008901115100534955, 0.00802030219196563, 0.007746767158892785, 0.009229583362096202, 0.014407087591354891, 0.008010949995023407, 0.009031022410896391, 0.00533803794410112, 0.006632531898855855, 0.008227674649817529, 0.012228792751361146, 0.007133271593714848, 0.005150216342877514, 0.00903195546786788, 0.007081545877258324, 0.005351767445419794, 0.008398837150998262, 0.010905159334810025, 0.010431812114911496, 0.014014680053832853, 0.007057484784037558, 0.008501839113810652, 0.008263376561794438, 0.005655296080021029, 0.009419627387931737, 0.009229150721222464, 0.006183075926601242, 0.009444626211297323, 0.005212295609035438, 0.009644972979762434, 0.01653981254229545, 0.007627357599253648, 0.008507451344645514, 0.0069625133779741165, 0.005745647522510688, 0.006259649179144764, 0.020008974456938302, 0.009986900947523362, 0.005374244666245464, 0.009144273483976211, 0.007894542504829656, 0.008307788166253749, 0.007001422274095551, 0.00691439675965142, 0.00426936306131175, 0.008268393157370123, 0.00634590126008527, 0.008828111328171174, 0.011137747493301722, 0.00481643403015301, 0.007186866331464629, 0.00814888919739194, 0.008954862246368408, 0.009886331938921984, 0.00866993107428278, 0.016211975388050744, 0.007420438139893828, 0.009893098466790887, 0.009582575292641364, 0.008224530131582761, 0.007771652778355809, 0.004971663613306755, 0.0064363738251549335, 0.007804941445663586, 0.004233971711046499, 0.011984646766720035, 0.009923922376352227, 0.008000045110256301, 0.009357057254542701, 0.007663631875344679, 0.007634461942984738, 0.008453079234709197, 0.007154245853173676, 0.009899843323524837, 0.005765488927645443, 0.006916566495980628, 0.008875852355616578, 0.005870199339866559, 0.007805195249085448, 0.008741103294514085, 0.007453651783561367, 0.006879278646679517, 0.00606094603046421, 0.007651600296734072, 0.009033598182167169, 0.0077938488332645, 0.009371293687834714, 0.010639329470680095, 0.006815021524010387, 0.005663812503628138, 0.005450323618269872, 0.007810932082697659, 0.007535922725345673, 0.009281343656921175, 0.008530070355344112, 0.0069780778113531445, 0.0068196840011712735, 0.0062628540435604955, 0.008906215427621496]\n",
      "2018-02-01 17:10:24,925 : INFO : merging changes from 400 documents into a model of 1600 documents\n",
      "2018-02-01 17:10:25,248 : INFO : topic #165 (0.004): 0.013*\"hotel\" + 0.010*\"room\" + 0.005*\"stay\" + 0.003*\"staff\" + 0.003*\"great\" + 0.003*\"Chicago\" + 0.002*\"rooms\" + 0.002*\"location\" + 0.002*\"s\" + 0.002*\"nice\"\n",
      "2018-02-01 17:10:25,250 : INFO : topic #14 (0.004): 0.013*\"hotel\" + 0.010*\"room\" + 0.005*\"stay\" + 0.003*\"staff\" + 0.003*\"great\" + 0.003*\"Chicago\" + 0.002*\"rooms\" + 0.002*\"location\" + 0.002*\"s\" + 0.002*\"nice\"\n",
      "2018-02-01 17:10:25,253 : INFO : topic #45 (0.018): 0.015*\"non_smoking\" + 0.013*\"unpleasant\" + 0.011*\"broken\" + 0.010*\"wasn_t_even\" + 0.010*\"discovered\" + 0.010*\"outrageous\" + 0.009*\"trash\" + 0.008*\"enter\" + 0.008*\"bugs\" + 0.008*\"woman_at_the_front_desk\"\n",
      "2018-02-01 17:10:25,255 : INFO : topic #137 (0.020): 0.014*\"smelled_like\" + 0.013*\"finally_got\" + 0.013*\"switch\" + 0.012*\"delayed\" + 0.011*\"hoping\" + 0.010*\"hadn_t\" + 0.010*\"Holiday_Inn\" + 0.010*\"odor\" + 0.010*\"hassle\" + 0.010*\"refund\"\n",
      "2018-02-01 17:10:25,256 : INFO : topic #30 (0.021): 0.106*\"room\" + 0.077*\"us\" + 0.051*\"arrived\" + 0.041*\"finally\" + 0.032*\"time\" + 0.032*\"day\" + 0.028*\"couldn_t\" + 0.026*\"found\" + 0.026*\"stay\" + 0.026*\"long\"\n",
      "2018-02-01 17:10:25,275 : INFO : topic diff=0.375871, rho=0.333333\n"
     ]
    }
   ],
   "source": [
    "num_topics = 200\n",
    "chunksize = 400\n",
    "passes = 5\n",
    "\n",
    "model = models.LdaModel(corpus_bow, id2word=dictionary, num_topics=num_topics,alpha = 'auto',eta='auto',random_state=0, chunksize=chunksize, passes=passes)\n",
    "# model = models.LdaModel(tfidf[corpus_bow], id2word=dictionary, num_topics=num_topics)\n",
    "# model.update(corpus_bow[500:len(corpus_bow)])"
   ]
  },
  {
   "cell_type": "code",
   "execution_count": 59,
   "metadata": {
    "scrolled": true
   },
   "outputs": [],
   "source": [
    "topic_dists = np.zeros([len(sentence_stream2),num_topics])\n",
    "    \n",
    "for i,item in enumerate(corpus_bow):       \n",
    "    dists = model.get_document_topics(item)        \n",
    "    indices = list(dict(dists).keys())        \n",
    "    vals = list(dict(dists).values())        \n",
    "    topic_dists[i,indices] = vals\n",
    "\n",
    "topic_dists = pd.DataFrame(topic_dists, columns = ['topic'+str(a) for a in range(num_topics)])"
   ]
  },
  {
   "cell_type": "code",
   "execution_count": 61,
   "metadata": {},
   "outputs": [],
   "source": [
    "unlabelled_raw = pickle.load(open('../input/unlabelled_corpus_clean2.p','rb'))\n",
    "raw_corpus_bow = [dictionary.doc2bow(s) for s in unlabelled_raw]"
   ]
  },
  {
   "cell_type": "code",
   "execution_count": 63,
   "metadata": {},
   "outputs": [
    {
     "name": "stdout",
     "output_type": "stream",
     "text": [
      "0\n",
      "1000\n",
      "2000\n",
      "3000\n",
      "4000\n",
      "5000\n",
      "6000\n",
      "7000\n",
      "8000\n",
      "9000\n",
      "10000\n",
      "11000\n",
      "12000\n",
      "13000\n",
      "14000\n",
      "15000\n"
     ]
    },
    {
     "ename": "KeyboardInterrupt",
     "evalue": "",
     "output_type": "error",
     "traceback": [
      "\u001b[1;31m---------------------------------------------------------------------------\u001b[0m",
      "\u001b[1;31mKeyboardInterrupt\u001b[0m                         Traceback (most recent call last)",
      "\u001b[1;32m<ipython-input-63-dc7f4cffc484>\u001b[0m in \u001b[0;36m<module>\u001b[1;34m()\u001b[0m\n\u001b[0;32m      3\u001b[0m     \u001b[1;32mif\u001b[0m \u001b[1;33m(\u001b[0m\u001b[0mi\u001b[0m\u001b[1;33m%\u001b[0m \u001b[1;36m1000\u001b[0m\u001b[1;33m)\u001b[0m\u001b[1;33m==\u001b[0m \u001b[1;36m0\u001b[0m\u001b[1;33m:\u001b[0m\u001b[1;33m\u001b[0m\u001b[0m\n\u001b[0;32m      4\u001b[0m         \u001b[0mprint\u001b[0m\u001b[1;33m(\u001b[0m\u001b[0mi\u001b[0m\u001b[1;33m)\u001b[0m\u001b[1;33m\u001b[0m\u001b[0m\n\u001b[1;32m----> 5\u001b[1;33m     \u001b[0mdists\u001b[0m \u001b[1;33m=\u001b[0m \u001b[0mmodel\u001b[0m\u001b[1;33m.\u001b[0m\u001b[0mget_document_topics\u001b[0m\u001b[1;33m(\u001b[0m\u001b[0mitem\u001b[0m\u001b[1;33m)\u001b[0m\u001b[1;33m\u001b[0m\u001b[0m\n\u001b[0m\u001b[0;32m      6\u001b[0m     \u001b[0mindices\u001b[0m \u001b[1;33m=\u001b[0m \u001b[0mlist\u001b[0m\u001b[1;33m(\u001b[0m\u001b[0mdict\u001b[0m\u001b[1;33m(\u001b[0m\u001b[0mdists\u001b[0m\u001b[1;33m)\u001b[0m\u001b[1;33m.\u001b[0m\u001b[0mkeys\u001b[0m\u001b[1;33m(\u001b[0m\u001b[1;33m)\u001b[0m\u001b[1;33m)\u001b[0m\u001b[1;33m\u001b[0m\u001b[0m\n\u001b[0;32m      7\u001b[0m     \u001b[0mvals\u001b[0m \u001b[1;33m=\u001b[0m \u001b[0mlist\u001b[0m\u001b[1;33m(\u001b[0m\u001b[0mdict\u001b[0m\u001b[1;33m(\u001b[0m\u001b[0mdists\u001b[0m\u001b[1;33m)\u001b[0m\u001b[1;33m.\u001b[0m\u001b[0mvalues\u001b[0m\u001b[1;33m(\u001b[0m\u001b[1;33m)\u001b[0m\u001b[1;33m)\u001b[0m\u001b[1;33m\u001b[0m\u001b[0m\n",
      "\u001b[1;32mC:\\Anaconda\\envs\\py36\\lib\\site-packages\\gensim\\models\\ldamodel.py\u001b[0m in \u001b[0;36mget_document_topics\u001b[1;34m(self, bow, minimum_probability, minimum_phi_value, per_word_topics)\u001b[0m\n\u001b[0;32m    944\u001b[0m             \u001b[1;32mreturn\u001b[0m \u001b[0mself\u001b[0m\u001b[1;33m.\u001b[0m\u001b[0m_apply\u001b[0m\u001b[1;33m(\u001b[0m\u001b[0mcorpus\u001b[0m\u001b[1;33m,\u001b[0m \u001b[1;33m**\u001b[0m\u001b[0mkwargs\u001b[0m\u001b[1;33m)\u001b[0m\u001b[1;33m\u001b[0m\u001b[0m\n\u001b[0;32m    945\u001b[0m \u001b[1;33m\u001b[0m\u001b[0m\n\u001b[1;32m--> 946\u001b[1;33m         \u001b[0mgamma\u001b[0m\u001b[1;33m,\u001b[0m \u001b[0mphis\u001b[0m \u001b[1;33m=\u001b[0m \u001b[0mself\u001b[0m\u001b[1;33m.\u001b[0m\u001b[0minference\u001b[0m\u001b[1;33m(\u001b[0m\u001b[1;33m[\u001b[0m\u001b[0mbow\u001b[0m\u001b[1;33m]\u001b[0m\u001b[1;33m,\u001b[0m \u001b[0mcollect_sstats\u001b[0m\u001b[1;33m=\u001b[0m\u001b[0mper_word_topics\u001b[0m\u001b[1;33m)\u001b[0m\u001b[1;33m\u001b[0m\u001b[0m\n\u001b[0m\u001b[0;32m    947\u001b[0m         \u001b[0mtopic_dist\u001b[0m \u001b[1;33m=\u001b[0m \u001b[0mgamma\u001b[0m\u001b[1;33m[\u001b[0m\u001b[1;36m0\u001b[0m\u001b[1;33m]\u001b[0m \u001b[1;33m/\u001b[0m \u001b[0msum\u001b[0m\u001b[1;33m(\u001b[0m\u001b[0mgamma\u001b[0m\u001b[1;33m[\u001b[0m\u001b[1;36m0\u001b[0m\u001b[1;33m]\u001b[0m\u001b[1;33m)\u001b[0m  \u001b[1;31m# normalize distribution\u001b[0m\u001b[1;33m\u001b[0m\u001b[0m\n\u001b[0;32m    948\u001b[0m \u001b[1;33m\u001b[0m\u001b[0m\n",
      "\u001b[1;32mC:\\Anaconda\\envs\\py36\\lib\\site-packages\\gensim\\models\\ldamodel.py\u001b[0m in \u001b[0;36minference\u001b[1;34m(self, chunk, collect_sstats)\u001b[0m\n\u001b[0;32m    458\u001b[0m                 \u001b[0mElogthetad\u001b[0m \u001b[1;33m=\u001b[0m \u001b[0mdirichlet_expectation\u001b[0m\u001b[1;33m(\u001b[0m\u001b[0mgammad\u001b[0m\u001b[1;33m)\u001b[0m\u001b[1;33m\u001b[0m\u001b[0m\n\u001b[0;32m    459\u001b[0m                 \u001b[0mexpElogthetad\u001b[0m \u001b[1;33m=\u001b[0m \u001b[0mnp\u001b[0m\u001b[1;33m.\u001b[0m\u001b[0mexp\u001b[0m\u001b[1;33m(\u001b[0m\u001b[0mElogthetad\u001b[0m\u001b[1;33m)\u001b[0m\u001b[1;33m\u001b[0m\u001b[0m\n\u001b[1;32m--> 460\u001b[1;33m                 \u001b[0mphinorm\u001b[0m \u001b[1;33m=\u001b[0m \u001b[0mnp\u001b[0m\u001b[1;33m.\u001b[0m\u001b[0mdot\u001b[0m\u001b[1;33m(\u001b[0m\u001b[0mexpElogthetad\u001b[0m\u001b[1;33m,\u001b[0m \u001b[0mexpElogbetad\u001b[0m\u001b[1;33m)\u001b[0m \u001b[1;33m+\u001b[0m \u001b[1;36m1e-100\u001b[0m\u001b[1;33m\u001b[0m\u001b[0m\n\u001b[0m\u001b[0;32m    461\u001b[0m                 \u001b[1;31m# If gamma hasn't changed much, we're done.\u001b[0m\u001b[1;33m\u001b[0m\u001b[1;33m\u001b[0m\u001b[0m\n\u001b[0;32m    462\u001b[0m                 \u001b[0mmeanchange\u001b[0m \u001b[1;33m=\u001b[0m \u001b[0mnp\u001b[0m\u001b[1;33m.\u001b[0m\u001b[0mmean\u001b[0m\u001b[1;33m(\u001b[0m\u001b[0mabs\u001b[0m\u001b[1;33m(\u001b[0m\u001b[0mgammad\u001b[0m \u001b[1;33m-\u001b[0m \u001b[0mlastgamma\u001b[0m\u001b[1;33m)\u001b[0m\u001b[1;33m)\u001b[0m\u001b[1;33m\u001b[0m\u001b[0m\n",
      "\u001b[1;31mKeyboardInterrupt\u001b[0m: "
     ]
    }
   ],
   "source": [
    "raw_tp_dists = np.zeros([len(raw_corpus_bow),num_topics])\n",
    "for i,item in enumerate(raw_corpus_bow):\n",
    "    if (i% 1000)== 0:\n",
    "        print(i)\n",
    "    dists = model.get_document_topics(item)        \n",
    "    indices = list(dict(dists).keys())        \n",
    "    vals = list(dict(dists).values())        \n",
    "    raw_tp_dists[i,indices] = vals\n",
    "raw_tp_dists = pd.DataFrame(raw_tp_dists, columns = ['topic'+str(a) for a in range(num_topics)])"
   ]
  },
  {
   "cell_type": "code",
   "execution_count": 20,
   "metadata": {},
   "outputs": [],
   "source": [
    "# topic_dists = list(model[tfidf[corpus_bow]])\n",
    "# topic_dists = [ [c for (b,c) in a  ]for a in topic_dists]\n",
    "# topic_dists = pd.DataFrame(topic_dists,columns = ['topic'+str(a) for a in range(num_topics)] )"
   ]
  },
  {
   "cell_type": "code",
   "execution_count": 21,
   "metadata": {},
   "outputs": [
    {
     "data": {
      "text/html": [
       "<div>\n",
       "<style scoped>\n",
       "    .dataframe tbody tr th:only-of-type {\n",
       "        vertical-align: middle;\n",
       "    }\n",
       "\n",
       "    .dataframe tbody tr th {\n",
       "        vertical-align: top;\n",
       "    }\n",
       "\n",
       "    .dataframe thead th {\n",
       "        text-align: right;\n",
       "    }\n",
       "</style>\n",
       "<table border=\"1\" class=\"dataframe\">\n",
       "  <thead>\n",
       "    <tr style=\"text-align: right;\">\n",
       "      <th></th>\n",
       "      <th>topic0</th>\n",
       "      <th>topic1</th>\n",
       "      <th>topic2</th>\n",
       "      <th>topic3</th>\n",
       "      <th>topic4</th>\n",
       "      <th>topic5</th>\n",
       "      <th>topic6</th>\n",
       "      <th>topic7</th>\n",
       "      <th>topic8</th>\n",
       "      <th>topic9</th>\n",
       "      <th>...</th>\n",
       "      <th>topic90</th>\n",
       "      <th>topic91</th>\n",
       "      <th>topic92</th>\n",
       "      <th>topic93</th>\n",
       "      <th>topic94</th>\n",
       "      <th>topic95</th>\n",
       "      <th>topic96</th>\n",
       "      <th>topic97</th>\n",
       "      <th>topic98</th>\n",
       "      <th>topic99</th>\n",
       "    </tr>\n",
       "  </thead>\n",
       "  <tbody>\n",
       "    <tr>\n",
       "      <th>0</th>\n",
       "      <td>0.0</td>\n",
       "      <td>0.0</td>\n",
       "      <td>0.0</td>\n",
       "      <td>0.0</td>\n",
       "      <td>0.0</td>\n",
       "      <td>0.0</td>\n",
       "      <td>0.0</td>\n",
       "      <td>0.0</td>\n",
       "      <td>0.0</td>\n",
       "      <td>0.018424</td>\n",
       "      <td>...</td>\n",
       "      <td>0.000000</td>\n",
       "      <td>0.132309</td>\n",
       "      <td>0.0</td>\n",
       "      <td>0.0</td>\n",
       "      <td>0.000000</td>\n",
       "      <td>0.0</td>\n",
       "      <td>0.0</td>\n",
       "      <td>0.0</td>\n",
       "      <td>0.0</td>\n",
       "      <td>0.0</td>\n",
       "    </tr>\n",
       "    <tr>\n",
       "      <th>1</th>\n",
       "      <td>0.0</td>\n",
       "      <td>0.0</td>\n",
       "      <td>0.0</td>\n",
       "      <td>0.0</td>\n",
       "      <td>0.0</td>\n",
       "      <td>0.0</td>\n",
       "      <td>0.0</td>\n",
       "      <td>0.0</td>\n",
       "      <td>0.0</td>\n",
       "      <td>0.000000</td>\n",
       "      <td>...</td>\n",
       "      <td>0.049134</td>\n",
       "      <td>0.701142</td>\n",
       "      <td>0.0</td>\n",
       "      <td>0.0</td>\n",
       "      <td>0.000000</td>\n",
       "      <td>0.0</td>\n",
       "      <td>0.0</td>\n",
       "      <td>0.0</td>\n",
       "      <td>0.0</td>\n",
       "      <td>0.0</td>\n",
       "    </tr>\n",
       "    <tr>\n",
       "      <th>2</th>\n",
       "      <td>0.0</td>\n",
       "      <td>0.0</td>\n",
       "      <td>0.0</td>\n",
       "      <td>0.0</td>\n",
       "      <td>0.0</td>\n",
       "      <td>0.0</td>\n",
       "      <td>0.0</td>\n",
       "      <td>0.0</td>\n",
       "      <td>0.0</td>\n",
       "      <td>0.000000</td>\n",
       "      <td>...</td>\n",
       "      <td>0.126772</td>\n",
       "      <td>0.000000</td>\n",
       "      <td>0.0</td>\n",
       "      <td>0.0</td>\n",
       "      <td>0.026488</td>\n",
       "      <td>0.0</td>\n",
       "      <td>0.0</td>\n",
       "      <td>0.0</td>\n",
       "      <td>0.0</td>\n",
       "      <td>0.0</td>\n",
       "    </tr>\n",
       "    <tr>\n",
       "      <th>3</th>\n",
       "      <td>0.0</td>\n",
       "      <td>0.0</td>\n",
       "      <td>0.0</td>\n",
       "      <td>0.0</td>\n",
       "      <td>0.0</td>\n",
       "      <td>0.0</td>\n",
       "      <td>0.0</td>\n",
       "      <td>0.0</td>\n",
       "      <td>0.0</td>\n",
       "      <td>0.000000</td>\n",
       "      <td>...</td>\n",
       "      <td>0.000000</td>\n",
       "      <td>0.058193</td>\n",
       "      <td>0.0</td>\n",
       "      <td>0.0</td>\n",
       "      <td>0.000000</td>\n",
       "      <td>0.0</td>\n",
       "      <td>0.0</td>\n",
       "      <td>0.0</td>\n",
       "      <td>0.0</td>\n",
       "      <td>0.0</td>\n",
       "    </tr>\n",
       "  </tbody>\n",
       "</table>\n",
       "<p>4 rows × 100 columns</p>\n",
       "</div>"
      ],
      "text/plain": [
       "   topic0  topic1  topic2  topic3  topic4  topic5  topic6  topic7  topic8  \\\n",
       "0     0.0     0.0     0.0     0.0     0.0     0.0     0.0     0.0     0.0   \n",
       "1     0.0     0.0     0.0     0.0     0.0     0.0     0.0     0.0     0.0   \n",
       "2     0.0     0.0     0.0     0.0     0.0     0.0     0.0     0.0     0.0   \n",
       "3     0.0     0.0     0.0     0.0     0.0     0.0     0.0     0.0     0.0   \n",
       "\n",
       "     topic9   ...      topic90   topic91  topic92  topic93   topic94  topic95  \\\n",
       "0  0.018424   ...     0.000000  0.132309      0.0      0.0  0.000000      0.0   \n",
       "1  0.000000   ...     0.049134  0.701142      0.0      0.0  0.000000      0.0   \n",
       "2  0.000000   ...     0.126772  0.000000      0.0      0.0  0.026488      0.0   \n",
       "3  0.000000   ...     0.000000  0.058193      0.0      0.0  0.000000      0.0   \n",
       "\n",
       "   topic96  topic97  topic98  topic99  \n",
       "0      0.0      0.0      0.0      0.0  \n",
       "1      0.0      0.0      0.0      0.0  \n",
       "2      0.0      0.0      0.0      0.0  \n",
       "3      0.0      0.0      0.0      0.0  \n",
       "\n",
       "[4 rows x 100 columns]"
      ]
     },
     "execution_count": 21,
     "metadata": {},
     "output_type": "execute_result"
    }
   ],
   "source": [
    "topic_dists.head(4)"
   ]
  },
  {
   "cell_type": "code",
   "execution_count": 22,
   "metadata": {},
   "outputs": [
    {
     "name": "stderr",
     "output_type": "stream",
     "text": [
      "2018-02-01 16:41:01,212 : INFO : collecting all words and their counts\n",
      "2018-02-01 16:41:01,214 : INFO : PROGRESS: at example #0, processed 0 words (0/s), 0 word types, 0 tags\n",
      "2018-02-01 16:41:01,237 : INFO : collected 11248 word types and 1600 unique tags from a corpus of 1600 examples and 108880 words\n",
      "2018-02-01 16:41:01,239 : INFO : Loading a fresh vocabulary\n",
      "2018-02-01 16:41:01,262 : INFO : min_count=1 retains 11248 unique words (100% of original 11248, drops 0)\n",
      "2018-02-01 16:41:01,264 : INFO : min_count=1 leaves 108880 word corpus (100% of original 108880, drops 0)\n",
      "2018-02-01 16:41:01,302 : INFO : deleting the raw counts dictionary of 11248 items\n",
      "2018-02-01 16:41:01,304 : INFO : sample=0.001 downsamples 29 most-common words\n",
      "2018-02-01 16:41:01,307 : INFO : downsampling leaves estimated 101418 word corpus (93.1% of prior 108880)\n",
      "2018-02-01 16:41:01,309 : INFO : estimated required memory for 11248 words and 100 dimensions: 15262400 bytes\n",
      "2018-02-01 16:41:01,344 : INFO : resetting layer weights\n"
     ]
    }
   ],
   "source": [
    "turk_model = gensim.models.doc2vec.Doc2Vec(dm=0, size=100,min_count=1, window=5,workers=cores, seed=8, negative=5)\n",
    "turk_model.build_vocab(true_fake_corpus)"
   ]
  },
  {
   "cell_type": "code",
   "execution_count": 23,
   "metadata": {},
   "outputs": [
    {
     "name": "stderr",
     "output_type": "stream",
     "text": [
      "2018-02-01 16:41:01,594 : INFO : training model with 8 workers on 11248 vocabulary and 100 features, using sg=1 hs=0 sample=0.001 negative=5 window=5\n",
      "2018-02-01 16:41:02,102 : INFO : worker thread finished; awaiting finish of 7 more threads\n",
      "2018-02-01 16:41:02,114 : INFO : worker thread finished; awaiting finish of 6 more threads\n",
      "2018-02-01 16:41:02,140 : INFO : worker thread finished; awaiting finish of 5 more threads\n",
      "2018-02-01 16:41:02,148 : INFO : worker thread finished; awaiting finish of 4 more threads\n",
      "2018-02-01 16:41:02,153 : INFO : worker thread finished; awaiting finish of 3 more threads\n",
      "2018-02-01 16:41:02,161 : INFO : worker thread finished; awaiting finish of 2 more threads\n",
      "2018-02-01 16:41:02,164 : INFO : worker thread finished; awaiting finish of 1 more threads\n",
      "2018-02-01 16:41:02,166 : INFO : worker thread finished; awaiting finish of 0 more threads\n",
      "2018-02-01 16:41:02,167 : INFO : training on 544400 raw words (515024 effective words) took 0.6s, 927014 effective words/s\n",
      "2018-02-01 16:41:02,168 : WARNING : under 10 jobs per worker: consider setting a smaller `batch_words' for smoother alpha decay\n"
     ]
    },
    {
     "data": {
      "text/plain": [
       "515024"
      ]
     },
     "execution_count": 23,
     "metadata": {},
     "output_type": "execute_result"
    }
   ],
   "source": [
    "turk_model.train(true_fake_corpus, total_examples=turk_model.corpus_count, epochs=turk_model.iter)"
   ]
  },
  {
   "cell_type": "code",
   "execution_count": 55,
   "metadata": {},
   "outputs": [],
   "source": [
    "from sklearn.preprocessing import StandardScaler\n",
    "true_fake_vec = pd.DataFrame([turk_model.infer_vector(s.words) for s in true_fake_corpus])\n",
    "\n",
    "# vader_sent = vader_sent.apply(np.square)\n",
    "true_fake_vec2 = pd.concat([true_fake_vec, vader_sent, lexicon_results, topic_dists], axis=1)\n",
    "\n",
    "# ss = StandardScaler()\n",
    "# true_fake_vec_all = ss.fit_transform(true_fake_vec)"
   ]
  },
  {
   "cell_type": "code",
   "execution_count": 56,
   "metadata": {},
   "outputs": [],
   "source": [
    "all_y = pd.concat([truedfy, fakedfy], axis= 0)\n",
    "X_train, X_test, y_train, y_test = train_test_split(true_fake_vec, all_y, train_size=0.75, random_state=8)\n",
    "Xv_train, Xv_test, yv_train, yv_test = train_test_split(vader_sent, all_y,train_size=0.75, random_state=8)\n",
    "Xe_train, Xe_test, ye_train, ye_test = train_test_split(lexicon_results, all_y, train_size=0.75, random_state=8)\n",
    "Xlda_train, Xlda_test, ylda_train, ylda_test = train_test_split(topic_dists, all_y, train_size=0.75, random_state=8)\n",
    "Xa_train, Xa_test, ya_train, ya_test = train_test_split(true_fake_vec2, all_y,train_size=0.75, random_state=8)"
   ]
  },
  {
   "cell_type": "code",
   "execution_count": 26,
   "metadata": {},
   "outputs": [],
   "source": [
    "from sklearn import linear_model\n",
    "from sklearn.model_selection import cross_val_score\n",
    "from sklearn import svm\n",
    "from sklearn.naive_bayes import GaussianNB \n",
    "from sklearn.tree import DecisionTreeClassifier\n",
    "from sklearn.ensemble import RandomForestClassifier\n",
    "from xgboost import XGBClassifier\n",
    "\n",
    "def run_test(X, y, cv_val, scoring):\n",
    "    gnb = GaussianNB()\n",
    "    dtree = DecisionTreeClassifier()\n",
    "    svm2 = svm.SVC(random_state=8)\n",
    "    xg = XGBClassifier()\n",
    "    rf = RandomForestClassifier()\n",
    "    # logreg_cv = linear_model.LogisticRegressionCV(Cs=100, cv=5, penalty='l1',scoring='accuracy',solver='liblinear',n_jobs=-1)\n",
    "    print('Gaussian NB:')\n",
    "    scorelist = cross_val_score(gnb, X, y, cv=cv_val, scoring=scoring,n_jobs=-1)\n",
    "    print(scorelist, np.mean(scorelist))\n",
    "    print('DecisionTree')\n",
    "    scorelist = cross_val_score(dtree, X, y, cv=cv_val, scoring=scoring,n_jobs=-1)\n",
    "    print(scorelist, np.mean(scorelist))\n",
    "    print('SVM:')\n",
    "    scorelist = cross_val_score(svm2, X, y, cv=cv_val, scoring=scoring,n_jobs=-1)\n",
    "    print(scorelist, np.mean(scorelist))\n",
    "    print('XGB Default:')\n",
    "    scorelist = cross_val_score(xg, X, y, cv=cv_val, scoring=scoring,n_jobs=-1)\n",
    "    print(scorelist, np.mean(scorelist))\n",
    "    print('Rand Forest:')\n",
    "    scorelist = cross_val_score(rf, X, y, cv=cv_val, scoring=scoring,n_jobs=-1)\n",
    "    print(scorelist, np.mean(scorelist))\n",
    "    # print('Logistics Regression:')\n",
    "    # scorelist = cross_val_score(logreg_cv, X_train, y_train, cv=5, scoring='f1', n_jobs=-1)\n",
    "    # print(scorelist, np.mean(scorelist))"
   ]
  },
  {
   "cell_type": "code",
   "execution_count": 27,
   "metadata": {},
   "outputs": [],
   "source": [
    "# run_test(Xe_train, ye_train, 5, 'f1')"
   ]
  },
  {
   "cell_type": "code",
   "execution_count": 28,
   "metadata": {},
   "outputs": [],
   "source": [
    "# run_test(Xv_train, yv_train, 5, 'f1')"
   ]
  },
  {
   "cell_type": "code",
   "execution_count": 29,
   "metadata": {},
   "outputs": [
    {
     "name": "stdout",
     "output_type": "stream",
     "text": [
      "Gaussian NB:\n",
      "[0.63799283 0.55849057 0.70175439 0.57761733 0.65551839] 0.6262747013425103\n",
      "DecisionTree\n",
      "[0.50806452 0.57740586 0.56170213 0.50806452 0.5770751 ] 0.5464624232944908\n",
      "SVM:\n",
      "[0.66850829 0.67036011 0.67036011 0.67036011 0.66852368] 0.6696224593166027\n",
      "XGB Default:\n",
      "[0.575      0.54545455 0.55793991 0.62096774 0.60392157] 0.580656754036114\n",
      "Rand Forest:\n",
      "[0.55111111 0.44019139 0.54298643 0.56108597 0.54385965] 0.5278469091967544\n"
     ]
    }
   ],
   "source": [
    "run_test(X_train, y_train, 5, 'f1')"
   ]
  },
  {
   "cell_type": "code",
   "execution_count": 30,
   "metadata": {},
   "outputs": [],
   "source": [
    "# run_test(Xlda_train, ylda_train, 5, 'f1')"
   ]
  },
  {
   "cell_type": "code",
   "execution_count": 57,
   "metadata": {
    "scrolled": false
   },
   "outputs": [
    {
     "name": "stdout",
     "output_type": "stream",
     "text": [
      "Gaussian NB:\n",
      "[0.70192308 0.67961165 0.736      0.72146119 0.69406393] 0.706611968312753\n",
      "DecisionTree\n",
      "[0.68503937 0.68644068 0.7219917  0.71311475 0.69105691] 0.6995286827914244\n",
      "SVM:\n",
      "[0.76923077 0.7008547  0.70866142 0.7394958  0.72413793] 0.7284761233524231\n",
      "XGB Default:\n",
      "[0.84297521 0.8173913  0.824      0.78813559 0.80314961] 0.8151303420957896\n",
      "Rand Forest:\n",
      "[0.69406393 0.58215962 0.64150943 0.63849765 0.73362445] 0.657971018409336\n"
     ]
    }
   ],
   "source": [
    "run_test(Xa_train, ya_train, 5, 'f1')"
   ]
  },
  {
   "cell_type": "code",
   "execution_count": 32,
   "metadata": {},
   "outputs": [],
   "source": [
    "# svm_clf = svm.SVC(random_state=8)\n",
    "# svm_params = {\n",
    "#     \"kernel\":['rbf','linear'],\n",
    "#     'C':[0.1,0.2,0.4,0.6,0.8,1,10],\n",
    "#     'gamma': np.logspace(-1,1,9)\n",
    "# }\n",
    "# scorer = make_scorer(fbeta_score,beta=0.5)\n",
    "# svm_gs = GridSearchCV(svm_clf, svm_params, cv=5, scoring=scorer, n_jobs=-1)\n",
    "# svm_gs.fit(Xa_train,ya_train)\n",
    "# best_clf = svm_gs.best_estimator_\n",
    "# print(best_clf)\n",
    "# best_pred = best_clf.predict(Xa_test)"
   ]
  },
  {
   "cell_type": "code",
   "execution_count": 33,
   "metadata": {},
   "outputs": [],
   "source": [
    "# performance = {'accuracy': accuracy_score(best_pred,y_test),\n",
    "#                 'recall': recall_score(best_pred,y_test),\n",
    "#                 'precision': precision_score(best_pred,y_test)}\n",
    "# print(performance)"
   ]
  },
  {
   "cell_type": "code",
   "execution_count": 41,
   "metadata": {},
   "outputs": [
    {
     "name": "stdout",
     "output_type": "stream",
     "text": [
      "XGBClassifier(base_score=0.5, colsample_bylevel=1, colsample_bytree=0.15,\n",
      "       gamma=0.3, learning_rate=0.1, max_delta_step=0, max_depth=4,\n",
      "       min_child_weight=1, missing=None, n_estimators=100, nthread=-1,\n",
      "       objective='binary:logistic', reg_alpha=0, reg_lambda=1,\n",
      "       scale_pos_weight=1, seed=0, silent=True, subsample=0.7)\n"
     ]
    }
   ],
   "source": [
    "xg_clf = XGBClassifier()\n",
    "xg_params = {\n",
    "#     'booster'=['gbtree'],\n",
    "    'colsample_bytree':[0.15,0.4,0.85],\n",
    "    'max_depth':[4,8,16,20],\n",
    "    'subsample':[0.7,0.95],\n",
    "    'min_child_weight':[1,3,9],\n",
    "    'gamma':[0,0.01,0.05,0.3,0.6,1]\n",
    "}\n",
    "scorer = make_scorer(fbeta_score,beta=0.5)\n",
    "xg_gs = GridSearchCV(xg_clf, xg_params, cv=5, scoring=scorer, n_jobs=-1)\n",
    "xg_gs.fit(Xa_train,ya_train)\n",
    "best_xg_clf = xg_gs.best_estimator_\n",
    "print(best_xg_clf)\n",
    "best_pred = best_xg_clf.predict(Xa_test)"
   ]
  },
  {
   "cell_type": "code",
   "execution_count": 42,
   "metadata": {},
   "outputs": [
    {
     "name": "stdout",
     "output_type": "stream",
     "text": [
      "{'accuracy': 0.83, 'recall': 0.8404255319148937, 'precision': 0.8061224489795918}\n"
     ]
    }
   ],
   "source": [
    "performance = {'accuracy': accuracy_score(best_pred,y_test),\n",
    "                'recall': recall_score(best_pred,y_test),\n",
    "                'precision': precision_score(best_pred,y_test)}\n",
    "print(performance)"
   ]
  },
  {
   "cell_type": "code",
   "execution_count": null,
   "metadata": {},
   "outputs": [],
   "source": []
  }
 ],
 "metadata": {
  "kernelspec": {
   "display_name": "Python 3",
   "language": "python",
   "name": "python3"
  },
  "language_info": {
   "codemirror_mode": {
    "name": "ipython",
    "version": 3
   },
   "file_extension": ".py",
   "mimetype": "text/x-python",
   "name": "python",
   "nbconvert_exporter": "python",
   "pygments_lexer": "ipython3",
   "version": "3.6.3"
  }
 },
 "nbformat": 4,
 "nbformat_minor": 2
}
