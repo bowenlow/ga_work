{
 "cells": [
  {
   "cell_type": "code",
   "execution_count": 1,
   "metadata": {},
   "outputs": [],
   "source": [
    "from empath import Empath\n",
    "import pickle\n",
    "import pandas as pd\n",
    "import numpy as np\n",
    "\n",
    "lexicon = Empath()\n",
    "\n",
    "def gen_empath_vec(df,lex,start,end,out):\n",
    "    lexicon_results = pd.DataFrame(columns=lex.cats)\n",
    "    for ind, s in enumerate(df[start:end]):\n",
    "        lexicon_results = lexicon_results.append(pd.Series([np.nan]), ignore_index=True)\n",
    "        results = (lex.analyze(s))\n",
    "        for k in results.keys():\n",
    "            lexicon_results[k].iloc[ind] = results[k]\n",
    "        if (ind % 1000 == 0): # stream out the results\n",
    "            print(ind + start)\n",
    "            pickle.dump(lexicon_results, open(out,'wb'))\n",
    "            \n",
    "    lexicon_results.drop(columns=[0],inplace=True)\n",
    "    return lexicon_results"
   ]
  },
  {
   "cell_type": "code",
   "execution_count": null,
   "metadata": {},
   "outputs": [],
   "source": [
    "# unlabelled_corpus = pickle.load(open('./input/unlabelled_corpus_clean.p','rb'))\n",
    "true_corpus = pickle.load(open('./input/true_corpus_clean2.p','rb'))\n",
    "fake_corpus = pickle.load(open('./input/fake_corpus_clean2.p','rb'))"
   ]
  },
  {
   "cell_type": "code",
   "execution_count": null,
   "metadata": {
    "scrolled": true
   },
   "outputs": [
    {
     "name": "stderr",
     "output_type": "stream",
     "text": [
      "C:\\Anaconda\\envs\\py36\\lib\\site-packages\\pandas\\core\\frame.py:5152: RuntimeWarning: '<' not supported between instances of 'str' and 'int', sort order is undefined for incomparable objects\n",
      "  other.index).difference(self.columns).tolist()\n",
      "C:\\Anaconda\\envs\\py36\\lib\\site-packages\\pandas\\core\\indexing.py:194: SettingWithCopyWarning: \n",
      "A value is trying to be set on a copy of a slice from a DataFrame\n",
      "\n",
      "See the caveats in the documentation: http://pandas.pydata.org/pandas-docs/stable/indexing.html#indexing-view-versus-copy\n",
      "  self._setitem_with_indexer(indexer, value)\n"
     ]
    },
    {
     "name": "stdout",
     "output_type": "stream",
     "text": [
      "0\n"
     ]
    },
    {
     "name": "stderr",
     "output_type": "stream",
     "text": [
      "C:\\Anaconda\\envs\\py36\\lib\\site-packages\\pandas\\core\\frame.py:5152: RuntimeWarning: '<' not supported between instances of 'int' and 'str', sort order is undefined for incomparable objects\n",
      "  other.index).difference(self.columns).tolist()\n"
     ]
    },
    {
     "name": "stdout",
     "output_type": "stream",
     "text": [
      "0\n"
     ]
    }
   ],
   "source": [
    "true_emp_vec = gen_empath_vec(true_corpus, lexicon, 0, len(true_corpus),'./input/true_emp_vec.p')\n",
    "fake_emp_vec = gen_empath_vec(fake_corpus, lexicon, 0, len(fake_corpus),'./input/fake_emp_vec.p')\n",
    "# unlabelled_emp_vec = gen_empath_vec(unlabelled_corpus, lexicon)\n",
    "\n",
    "# hasNext = True\n",
    "# start = 0\n",
    "# f = 100000\n",
    "# ctr = 0\n",
    "\n",
    "\n",
    "# while (hasNext):\n",
    "#     s = (ctr * f) + start\n",
    "#     e = min(s + f, len(unlabelled_corpus))\n",
    "#     if (s+f >= len(unlabelled_corpus)):\n",
    "#         hasNext = False\n",
    "#     fn = './input/unlabelled' + str(ctr) + '_emp_vec.p'\n",
    "#     unlabelled_emp_vec = gen_empath_vec(unlabelled_corpus, lexicon, s,e,fn)\n",
    "#     pickle.dump(unlabelled_emp_vec, open(fn))\n",
    "#     ctr +=1"
   ]
  },
  {
   "cell_type": "code",
   "execution_count": null,
   "metadata": {},
   "outputs": [],
   "source": [
    "pickle.dump(true_emp_vec, open('./input/true_emp_vec.p','wb'))\n",
    "pickle.dump(fake_emp_vec, open('./input/fake_emp_vec.p','wb'))\n",
    "# pickle.dump(unlabelled_emp_vec, open('./input/unlabelled_emp_vec.p','wb'))\n"
   ]
  },
  {
   "cell_type": "code",
   "execution_count": null,
   "metadata": {},
   "outputs": [],
   "source": []
  }
 ],
 "metadata": {
  "kernelspec": {
   "display_name": "Python 3",
   "language": "python",
   "name": "python3"
  },
  "language_info": {
   "codemirror_mode": {
    "name": "ipython",
    "version": 3
   },
   "file_extension": ".py",
   "mimetype": "text/x-python",
   "name": "python",
   "nbconvert_exporter": "python",
   "pygments_lexer": "ipython3",
   "version": "3.6.3"
  }
 },
 "nbformat": 4,
 "nbformat_minor": 2
}
