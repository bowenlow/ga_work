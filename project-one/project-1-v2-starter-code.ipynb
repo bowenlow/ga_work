{
 "cells": [
  {
   "cell_type": "markdown",
   "metadata": {},
   "source": [
    "<img src=\"http://imgur.com/1ZcRyrc.png\" style=\"float: left; margin: 15px; height: 80px\">\n",
    "\n",
    "# Project 1\n",
    "\n",
    "### Building \"Pokemon Stay\"\n",
    "\n",
    "---\n",
    "You are an analyst at a \"scrappy\" online gaming company that specializes in remakes of last year's fads.\n",
    "\n",
    "Your boss, who runs the product development team, is convinced that Pokemon Go's fatal flaw was that you had to actually move around outside. She has design mock-ups for a new game called Pokemon Stay: in this version players still need to move, but just from website to website. Pokemon gyms are now popular online destinations, and catching Pokemon in the \"wild\" simply requires browsing the internet for hours in the comfort of your home.\n",
    "\n",
    "She wants you to program a prototype version of the game, and analyze the planned content to help the team calibrate the design."
   ]
  },
  {
   "cell_type": "markdown",
   "metadata": {},
   "source": [
    "#### Package imports\n",
    "\n",
    "The pprint package below is the only package imported here, and it's not even strictly required to do any of the project. Printing python variables and objects with pprint can help to format them in a \"prettier\" way."
   ]
  },
  {
   "cell_type": "code",
   "execution_count": 1,
   "metadata": {
    "collapsed": true
   },
   "outputs": [],
   "source": [
    "from pprint import pprint\n",
    "import copy\n",
    "import types\n",
    "import numpy as np"
   ]
  },
  {
   "cell_type": "markdown",
   "metadata": {},
   "source": [
    "<img src=\"http://imgur.com/l5NasQj.png\" style=\"float: left; margin: 25px 15px 0px 0px; height: 25px\">\n",
    "\n",
    "## 1. Defining a player\n",
    "\n",
    "---\n",
    "\n",
    "The player variables are:\n",
    "\n",
    "    player_id : id code unique to each player (integer)\n",
    "    player_name : entered name of the player (string)\n",
    "    time_played : number of time played the game in minutes (float)\n",
    "    player_pokemon: the player's captured pokemon (dictionary)\n",
    "    gyms_visited: ids of the gyms that a player has visited (list)\n",
    "    \n",
    "Create the components for a player object by defining each of these variables. The dictionary and list variables should just be defined as empty; you can use any (correctly typed) values for the others."
   ]
  },
  {
   "cell_type": "code",
   "execution_count": 2,
   "metadata": {
    "collapsed": true
   },
   "outputs": [],
   "source": [
    "player_basic ={\n",
    "    'player_id':0,\n",
    "    'player_name':\"\",\n",
    "    'time_played':0.0,\n",
    "    'player_pokemon':{},\n",
    "    'gyms_visited':[]\n",
    "}\n",
    "player1 = copy.deepcopy(player_basic)\n",
    "player1['player_id']=1\n",
    "player1['player_name']='player1'"
   ]
  },
  {
   "cell_type": "markdown",
   "metadata": {},
   "source": [
    "<img src=\"http://imgur.com/l5NasQj.png\" style=\"float: left; margin: 25px 15px 0px 0px; height: 25px\">\n",
    "\n",
    "## 2. Defining \"gym\" locations\n",
    "\n",
    "---\n",
    "\n",
    "As the sole programmer, Pokemon Stay will have to start small. To begin, there will be 10 different gym location websites on the internet. The gym locations are:\n",
    "\n",
    "    1. 'reddit.com'\n",
    "    2. 'amazon.com'\n",
    "    3. 'twitter.com'\n",
    "    4. 'linkedin.com'\n",
    "    5. 'ebay.com'\n",
    "    6. 'netflix.com'\n",
    "    7. 'sporcle.com'\n",
    "    8. 'stackoverflow.com'\n",
    "    9. 'github.com'\n",
    "    10. 'quora.com'\n",
    "\n",
    "1. Set up a list of all the gym locations. This will be a list of strings.\n",
    "2. Append two of these locations to your player's list of visited gyms.\n",
    "3. Print the list."
   ]
  },
  {
   "cell_type": "code",
   "execution_count": 3,
   "metadata": {
    "scrolled": true
   },
   "outputs": [
    {
     "name": "stdout",
     "output_type": "stream",
     "text": [
      "{'player_id': 1, 'player_name': 'player1', 'gyms_visited': ['reddit.com', 'amazon.com'], 'time_played': 0.0, 'player_pokemon': {}}\n"
     ]
    }
   ],
   "source": [
    "all_gyms = [\n",
    "    \"reddit.com\",\n",
    "    \"amazon.com\",\n",
    "    \"twitter.com\",\n",
    "    \"linkedin.com\",\n",
    "    \"ebay.com\",\n",
    "    \"netflix.com\",\n",
    "    \"sporcle.com\",\n",
    "    \"stackoverflow.com\",\n",
    "    \"github.com\",\n",
    "    \"quora.com\"\n",
    "]\n",
    "player1['gyms_visited']=[]\n",
    "player1['gyms_visited'].append(all_gyms[0])\n",
    "player1['gyms_visited'].append(all_gyms[1])\n",
    "print(player1)\n"
   ]
  },
  {
   "cell_type": "code",
   "execution_count": null,
   "metadata": {
    "collapsed": true
   },
   "outputs": [],
   "source": []
  },
  {
   "cell_type": "markdown",
   "metadata": {},
   "source": [
    "<img src=\"http://imgur.com/l5NasQj.png\" style=\"float: left; margin: 25px 15px 0px 0px; height: 25px\">\n",
    "\n",
    "## 3. Create a pokedex\n",
    "\n",
    "---\n",
    "\n",
    "We also need to create some pokemon to catch. Each pokemon will be defined by these variables:\n",
    "\n",
    "    pokemon_id : unique identifier for each pokemon (integer)\n",
    "    name : the name of the pokemon (string)\n",
    "    type : the category of pokemon (string)\n",
    "    hp : base hitpoints (integer)\n",
    "    attack : base attack (integer)\n",
    "    defense : base defense (integer)\n",
    "    special_attack : base special attack (integer)\n",
    "    special_defense : base sepecial defense (integer)\n",
    "    speed : base speed (integer)\n",
    "\n",
    "We are only going to create 3 different pokemon with these `pokemon_id` and `pokemon_name` values:\n",
    "\n",
    "    1 : 'charmander'\n",
    "    2 : 'squirtle'\n",
    "    3 : 'bulbasaur'\n",
    "\n",
    "Create a dictionary that will contain the pokemon. The keys of the dictionary will be the `pokemon_id` and the values will themselves dictionaries that contain the other pokemon variables. The structure of the pokedex dictionary will start like so:\n",
    "     \n",
    "     {\n",
    "         1: {\n",
    "                 'name':'charmander',\n",
    "                 'type':'fire',\n",
    "                 ...\n",
    "                 \n",
    "The `type` of charmander, squirtle, and bulbasaur should be `'fire'`, `'water'`, and `'poison'` respectively. The other values are up to you, make them anything you like!\n",
    "\n",
    "Print (or pretty print) the pokedex dictionary with the 3 pokemon."
   ]
  },
  {
   "cell_type": "code",
   "execution_count": 4,
   "metadata": {},
   "outputs": [
    {
     "name": "stdout",
     "output_type": "stream",
     "text": [
      "{1: {'Name': 'charmander', 'Type': 'fire', 'HP': 0, 'Speed': 0, 'Attack': 10, 'Defense': 0, 'PokedexNumber': 1, 'SpecialDefense': 0, 'Total': 0, 'SpecialAttack': 0}, 2: {'Name': 'squirtle', 'Type': 'water', 'HP': 0, 'Speed': 0, 'Attack': 3, 'Defense': 3, 'PokedexNumber': 2, 'SpecialDefense': 0, 'Total': 0, 'SpecialAttack': 0}, 3: {'Name': 'bulbasaur', 'Type': 'poison', 'HP': 0, 'Speed': 0, 'Attack': 0, 'Defense': 5, 'PokedexNumber': 3, 'SpecialDefense': 0, 'Total': 0, 'SpecialAttack': 0}}\n"
     ]
    }
   ],
   "source": [
    "pokemon_basic = {\n",
    "    'PokedexNumber':0,\n",
    "    'Name':\"\",\n",
    "    'Type':\"\",\n",
    "    'Total':0,\n",
    "    'HP':0,\n",
    "    'Attack':0,\n",
    "    'Defense':0,\n",
    "    'SpecialAttack':0,\n",
    "    'SpecialDefense':0,\n",
    "    'Speed':0\n",
    "}\n",
    "charmander = copy.deepcopy(pokemon_basic)\n",
    "squirtle = copy.deepcopy(pokemon_basic)\n",
    "bulbasaur = copy.deepcopy(pokemon_basic)\n",
    "charmander['Name']='charmander'\n",
    "charmander['Type']='fire'\n",
    "charmander['PokedexNumber']=1\n",
    "charmander['Attack'] = 10\n",
    "squirtle['Name']='squirtle'\n",
    "squirtle['Type']='water'\n",
    "squirtle['PokedexNumber']=2\n",
    "squirtle['Attack'] = 3\n",
    "squirtle['Defense'] = 3\n",
    "bulbasaur['Name']='bulbasaur'\n",
    "bulbasaur['Type']='poison'\n",
    "bulbasaur['PokedexNumber']=3\n",
    "bulbasaur['Defense'] = 5\n",
    "\n",
    "pokedex={}\n",
    "pokedex[charmander['PokedexNumber']] = charmander\n",
    "pokedex[squirtle['PokedexNumber']] = squirtle\n",
    "pokedex[bulbasaur['PokedexNumber']] = bulbasaur\n",
    "print(pokedex)"
   ]
  },
  {
   "cell_type": "markdown",
   "metadata": {},
   "source": [
    "<img src=\"http://imgur.com/l5NasQj.png\" style=\"float: left; margin: 25px 15px 0px 0px; height: 25px\">\n",
    "\n",
    "## 4. Create a data structure for players\n",
    "\n",
    "---\n",
    "\n",
    "### 4.1 \n",
    "\n",
    "In order to maintain a database of multiple players, create a dictionary that keeps track of players indexed by `player_id`. \n",
    "\n",
    "The keys of the dictionary will be `player_id` and values will be dictionaries containing each player's variables (from question 1). \n",
    "\n",
    "Construct the `players` dictionary and insert the player that you defined in question 1, then print `players`."
   ]
  },
  {
   "cell_type": "code",
   "execution_count": 5,
   "metadata": {},
   "outputs": [
    {
     "name": "stdout",
     "output_type": "stream",
     "text": [
      "{1: {'player_id': 1, 'player_name': 'player1', 'gyms_visited': ['reddit.com', 'amazon.com'], 'time_played': 0.0, 'player_pokemon': {}}}\n"
     ]
    }
   ],
   "source": [
    "player_dict = {}\n",
    "player_dict[player1['player_id']] = player1\n",
    "print(player_dict)"
   ]
  },
  {
   "cell_type": "markdown",
   "metadata": {},
   "source": [
    "---\n",
    "\n",
    "### 4.2\n",
    "\n",
    "Create a new player with `player_id = 2` in the `players` dictionary. Leave the `'player_pokemon'` dictionary empty. Append `'alcatraz'` and `'pacific_beach'` to the `'gyms_visited'` list for player 2.\n",
    "\n",
    "The `'player_name'` and `'time_played'` values are up to you, but must be a string and float, respectively.\n",
    "\n",
    "Remember, the player_id is the key for the player in the players dictionary.\n",
    "\n",
    "Print the `players` dictionary with the new player inserted."
   ]
  },
  {
   "cell_type": "code",
   "execution_count": 6,
   "metadata": {},
   "outputs": [
    {
     "name": "stdout",
     "output_type": "stream",
     "text": [
      "{1: {'player_id': 1, 'player_name': 'player1', 'gyms_visited': ['reddit.com', 'amazon.com'], 'time_played': 0.0, 'player_pokemon': {}}, 2: {'player_id': 2, 'player_name': 'player2', 'gyms_visited': ['alcatraz', 'pacific_beach'], 'time_played': 1.1, 'player_pokemon': {}}}\n"
     ]
    }
   ],
   "source": [
    "all_gyms.append('alcatraz')\n",
    "all_gyms.append('pacific_beach')\n",
    "player2 = copy.deepcopy(player_basic)\n",
    "player2['player_id'] = 2\n",
    "player2['player_name'] = 'player2'\n",
    "player2['time_played'] = 1.1\n",
    "player2['gyms_visited'].append('alcatraz')\n",
    "player2['gyms_visited'].append('pacific_beach')\n",
    "player_dict[player2['player_id']] = player2\n",
    "print(player_dict)"
   ]
  },
  {
   "cell_type": "markdown",
   "metadata": {},
   "source": [
    "<img src=\"http://imgur.com/l5NasQj.png\" style=\"float: left; margin: 25px 15px 0px 0px; height: 25px\">\n",
    "\n",
    "## 5. Add captured pokemon for each player\n",
    "\n",
    "---\n",
    "\n",
    "The `'player_pokemon'` keyed dictionaries for each player keep track of which of the pokemon each player has.\n",
    "\n",
    "The keys of the `'player_pokemon'` dictionaries are the pokemon ids that correspond to the ids in the `pokedex` dictionary you created earlier. The values are integers specifying the stats for the pokemon.\n",
    "\n",
    "Give player 1 a squirtle. Give player 2 charmander and a bulbasaur.\n",
    "\n",
    "Print the players dictionary after adding the pokemon for each player.\n"
   ]
  },
  {
   "cell_type": "code",
   "execution_count": 7,
   "metadata": {},
   "outputs": [
    {
     "name": "stdout",
     "output_type": "stream",
     "text": [
      "{1: {'player_id': 1, 'player_name': 'player1', 'gyms_visited': ['reddit.com', 'amazon.com'], 'time_played': 0.0, 'player_pokemon': {2: 1}}, 2: {'player_id': 2, 'player_name': 'player2', 'gyms_visited': ['alcatraz', 'pacific_beach'], 'time_played': 1.1, 'player_pokemon': {1: 1, 3: 1}}}\n"
     ]
    }
   ],
   "source": [
    "def find_pokemon_index(poke_dict, p_name):\n",
    "    for k,v in poke_dict.items():\n",
    "        if v['Name'].lower() == p_name:\n",
    "            return k\n",
    "    return None\n",
    "\n",
    "player_dict[1]['player_pokemon'][find_pokemon_index(pokedex,'squirtle')] = 1\n",
    "player_dict[2]['player_pokemon'][find_pokemon_index(pokedex,'charmander')] = 1\n",
    "player_dict[2]['player_pokemon'][find_pokemon_index(pokedex,'bulbasaur')] = 1\n",
    "print(player_dict)"
   ]
  },
  {
   "cell_type": "markdown",
   "metadata": {},
   "source": [
    "\n",
    "\n",
    "## 6. What gyms have players visited?\n",
    "\n",
    "---\n",
    "<img src=\"http://imgur.com/l5NasQj.png\" style=\"float: left; margin: 25px 15px 0px 0px; height: 25px\">\n",
    "### 6.1\n",
    "\n",
    "Write a for-loop that:\n",
    "\n",
    "1. Iterates through the `pokemon_gyms` list of gym locations you defined before.\n",
    "2. For each gym, iterate through each player in the `players` dictionary with a second, internal for-loop.\n",
    "3. If the player has visited the gym, print out \"[player] has visited [gym location].\", filling in [player] and [gym location] with the current player's name and current gym location."
   ]
  },
  {
   "cell_type": "code",
   "execution_count": 8,
   "metadata": {},
   "outputs": [
    {
     "name": "stdout",
     "output_type": "stream",
     "text": [
      "player1 has visited reddit.com.\n",
      "player1 has visited amazon.com.\n",
      "player2 has visited alcatraz.\n",
      "player2 has visited pacific_beach.\n"
     ]
    }
   ],
   "source": [
    "for ind,g in enumerate(all_gyms):\n",
    "    for k,p in player_dict.items():\n",
    "        if g in p['gyms_visited']:\n",
    "            print(p['player_name']+ \" has visited \"+g+\".\")"
   ]
  },
  {
   "cell_type": "markdown",
   "metadata": {},
   "source": [
    "<img src=\"http://imgur.com/xDpSobf.png\" style=\"float: left; margin: 25px 15px 0px 0px; height: 25px\">\n",
    "### 6.2\n",
    "\n",
    "How many times did that loop run? If you have N gyms and also N players, how many times would it run as a function of N?\n",
    "\n",
    "Can you think of a more efficient way to accomplish the same thing? \n",
    "\n",
    "(You can write your answer as Markdown text.)"
   ]
  },
  {
   "cell_type": "markdown",
   "metadata": {
    "collapsed": true
   },
   "source": [
    "it would run in O(N**2) time. \n",
    "Store gyms not as a list, but as a dictionary. everytime a player visits the gym, update the dictionary history. Prints in O(N) in N players"
   ]
  },
  {
   "cell_type": "markdown",
   "metadata": {},
   "source": [
    "<img src=\"http://imgur.com/l5NasQj.png\" style=\"float: left; margin: 25px 15px 0px 0px; height: 25px\">\n",
    "\n",
    "## 7. Calculate player \"power\".\n",
    "\n",
    "---\n",
    "\n",
    "Define a function that will calculate a player's \"power\". Player power is defined as the sum of the base statistics all of their pokemon.\n",
    "\n",
    "Your function will:\n",
    "\n",
    "1. Accept the `players` dictionary, `pokedex` dictionary, and a player_id as arguments.\n",
    "2. For the specified player_id, look up that player's pokemon and their level(s).\n",
    "3. Find and aggregate the attack and defense values for each of the player's pokemon from the `pokedex` dictionary.\n",
    "4. Print \"[player name]'s power is [player power].\", where the player power is the sum of the base statistics for all of their pokemon.\n",
    "5. Return the player's power value.\n",
    "\n",
    "Print out the pokemon power for each of your players."
   ]
  },
  {
   "cell_type": "code",
   "execution_count": 9,
   "metadata": {},
   "outputs": [
    {
     "name": "stdout",
     "output_type": "stream",
     "text": [
      "charmander:1 power is 10\n",
      "bulbasaur:1 power is 5\n",
      "player2's power is 15\n"
     ]
    },
    {
     "data": {
      "text/plain": [
       "15"
      ]
     },
     "execution_count": 9,
     "metadata": {},
     "output_type": "execute_result"
    }
   ],
   "source": [
    "def calc_player_power(players, pokedex, player_id):\n",
    "    all_sum = 0\n",
    "    for k,lvl in players[player_id]['player_pokemon'].items():\n",
    "        p_sum = calc_pokemon_power(pokedex[k])\n",
    "        print(pokedex[k]['Name'] + \":\"+str(lvl)+\" power is \"+ str(p_sum))\n",
    "        all_sum += p_sum\n",
    "    print (players[player_id]['player_name'] +\"'s power is \"+str(all_sum))\n",
    "    return all_sum\n",
    "        \n",
    "def calc_pokemon_power(pokemon):\n",
    "    powersum = 0\n",
    "    powersum += pokemon['Attack'] + pokemon['Defense'] + pokemon['SpecialAttack'] + pokemon['SpecialDefense']\n",
    "    return powersum\n",
    "\n",
    "calc_player_power(player_dict, pokedex, 2)\n",
    "\n"
   ]
  },
  {
   "cell_type": "markdown",
   "metadata": {
    "collapsed": true
   },
   "source": [
    "<img src=\"http://imgur.com/l5NasQj.png\" style=\"float: left; margin: 25px 15px 0px 0px; height: 25px\">\n",
    "\n",
    "## 8. Load a pokedex file containing all the pokemon\n",
    "\n",
    "---\n",
    "\n",
    "### 8.1\n",
    "\n",
    "While you were putting together the prototype code, your colleagues were preparing a dataset of Pokemon and their attributes. (This was a rush job, so they may have picked some crazy values for some...)\n",
    "\n",
    "The code below loads information from a comma separated value (csv) file. You need to parse this string into a more useable format. The format of the string is:\n",
    "\n",
    "- Rows are separated by newline characters: \\n\n",
    "- Columns are separated by commas: ,\n",
    "- All cells in the csv are double quoted. Ex: \"PokedexNumber\" is the first cell of the first row.\n",
    "\n",
    "\n",
    "Using for-loops, create a list of lists where each list within the overall list is a row of the csv/matrix, and each element in that list is a cell in that row. Additional criteria:\n",
    "\n",
    "1. Quotes are removed from each cell item.\n",
    "2. Numeric column values are converted to floats.\n",
    "3. There are some cells that are empty and have no information. For these cells put a -1 value in place.\n",
    "\n",
    "Your end result is effectively a matrix. Each list in the outer list is a row, and the *j*th elements of list together form the *j*th column, which represents a data attribute. The first three lists in your pokedex list should look like this:\n",
    "\n",
    "    ['PokedexNumber', 'Name', 'Type', 'Total', 'HP', 'Attack', 'Defense', 'SpecialAttack', 'SpecialDefense', 'Speed']\n",
    "    [1.0, 'Bulbasaur', 'GrassPoison', 318.0, 45.0, 49.0, 49.0, 65.0, 65.0, 45.0]\n",
    "    [2.0, 'Ivysaur', 'GrassPoison', 405.0, 60.0, 62.0, 63.0, 80.0, 80.0, 60.0]"
   ]
  },
  {
   "cell_type": "code",
   "execution_count": 10,
   "metadata": {},
   "outputs": [
    {
     "name": "stdout",
     "output_type": "stream",
     "text": [
      "['PokedexNumber', 'Name', 'Type', 'Total', 'HP', 'Attack', 'Defense', 'SpecialAttack', 'SpecialDefense', 'Speed']\n"
     ]
    }
   ],
   "source": [
    "# Code to read in pokedex info\n",
    "raw_pd = ''\n",
    "pokedex_file = 'pokedex_basic.csv'\n",
    "with open(pokedex_file, 'r') as f:\n",
    "    raw_pd = f.read()\n",
    "    \n",
    "# the pokedex string is assigned to the raw_pd variable\n",
    "matrix=[]\n",
    "raw_pd = str.replace(raw_pd,'\"','')\n",
    "lines = str.split(raw_pd,'\\n')\n",
    "for l in lines:\n",
    "    values = str.split(l,',')\n",
    "    for ind,v in enumerate(values):\n",
    "        if v == ' ':\n",
    "            values[inf] = -1\n",
    "            #print values\n",
    "            continue\n",
    "        try:\n",
    "            newf = float(v)\n",
    "            values[ind]=newf\n",
    "        except:\n",
    "            continue\n",
    "    matrix.append(values)\n",
    "print(matrix[0])"
   ]
  },
  {
   "cell_type": "code",
   "execution_count": null,
   "metadata": {
    "collapsed": true
   },
   "outputs": [],
   "source": []
  },
  {
   "cell_type": "markdown",
   "metadata": {},
   "source": [
    "<img src=\"http://imgur.com/xDpSobf.png\" style=\"float: left; margin: 25px 15px 0px 0px; height: 25px\">\n",
    "\n",
    "### 8.2 Parse the raw pokedex with list comprehensions\n",
    "\n",
    "---\n",
    "\n",
    "Perform the same parsing as above, but **using only a single list comprehension** instead of for loops. You may have nested list comprehensions within the main list comprehension! The output should be exactly the same."
   ]
  },
  {
   "cell_type": "code",
   "execution_count": 66,
   "metadata": {},
   "outputs": [
    {
     "name": "stdout",
     "output_type": "stream",
     "text": [
      "True\n"
     ]
    }
   ],
   "source": [
    "def convert (value):\n",
    "    if value == ' ':\n",
    "        return -1\n",
    "    try:\n",
    "        return float(value)\n",
    "    except:\n",
    "        return value\n",
    "    \n",
    "matrix2 = [[convert(s)  for s in str.split(l,',')] for l in lines]\n",
    "\n",
    "print(matrix2 == matrix)"
   ]
  },
  {
   "cell_type": "markdown",
   "metadata": {},
   "source": [
    "<img src=\"http://imgur.com/l5NasQj.png\" style=\"float: left; margin: 25px 15px 0px 0px; height: 25px\">\n",
    "\n",
    "## 9. Write a function to generate the full pokedex\n",
    "\n",
    "---\n",
    "\n",
    "Write a function that recreates the pokedex you made before, but with the data read in from the full pokemon file. The `PokedexNumber` should be used as the `pokemon_id` key values for the dictionary of pokemon.\n",
    "\n",
    "Your function should:\n",
    "\n",
    "1. Take the parsed pokedex information you created above as an argument.\n",
    "2. Return a dictionary in the same format as your original pokedex you created before containing the information from the parsed full pokedex file.\n",
    "\n",
    "To test the function, print out the pokemon with id = 100."
   ]
  },
  {
   "cell_type": "code",
   "execution_count": 11,
   "metadata": {
    "scrolled": true
   },
   "outputs": [
    {
     "name": "stdout",
     "output_type": "stream",
     "text": [
      "{'Name': 'Voltorb', 'Type': 'Electric', 'HP': 40.0, 'Speed': 100.0, 'Attack': 30.0, 'Defense': 50.0, 'PokedexNumber': 100.0, 'SpecialDefense': 55.0, 'Total': 330.0, 'SpecialAttack': 55.0}\n"
     ]
    }
   ],
   "source": [
    "def load_pokedex(matrix):\n",
    "    new_pokedex = {}\n",
    "    for ind,line in enumerate(matrix):\n",
    "        if ind!=0:\n",
    "            temp_poke = load_pokemon(line, matrix[0])\n",
    "            new_pokedex[temp_poke['PokedexNumber']] = temp_poke\n",
    "    return new_pokedex\n",
    "            \n",
    "#['PokedexNumber', 'Name', 'Type', 'Total', 'HP', 'Attack', 'Defense', 'SpecialAttack', 'SpecialDefense', 'Speed']\n",
    "def load_pokemon(line,header):\n",
    "    new_poke = copy.deepcopy(pokemon_basic)\n",
    "    for ind,v in enumerate(line):\n",
    "        new_poke[header[ind]]=v\n",
    "    return new_poke\n",
    "\n",
    "pokedex2 = load_pokedex(matrix)\n",
    "print(pokedex2[100])"
   ]
  },
  {
   "cell_type": "markdown",
   "metadata": {},
   "source": [
    "<img src=\"http://i.imgur.com/GCAf1UX.png\" style=\"float: left; margin: 25px 15px 0px 0px; height: 25px\">\n",
    "\n",
    "## 10. Write a function to generate a \"filtered\" pokedex\n",
    "---\n",
    "Your function should:\n",
    "1. Take the parsed pokedex information you created above as an argument.\n",
    "1. Take a dictionary as a parameter with keys matching the features of the Pokedex, filtering by exact match for string type values, and/or filter continuous variables specified value that is greater than or equal to the dictionary key parameter.\n",
    "1. Return multiple elements from the Pokedex\n",
    "\n",
    "Example:\n",
    "\n",
    "```python\n",
    "\n",
    "# Only filter based on parameters passed\n",
    "filter_options = {\n",
    "    'Attack':   25,\n",
    "    'Defense':  30,\n",
    "    'Type':     'Electric'\n",
    "}\n",
    "\n",
    "# Return records with attack >= 24, defense >= 30, and type == \"Electric\"\n",
    "# Also anticipate that other paramters can also be passed such as \"SpecialAttack\", \"Speed\", etc.\n",
    "filtered_pokedex(pokedex_data, filter=filter_options)\n",
    "\n",
    "# Example output:\n",
    "# [{'Attack': 30.0,\n",
    "#  'Defense': 50.0,\n",
    "#  'HP': 40.0,\n",
    "#  'Name': 'Voltorb',\n",
    "#  'SpecialAttack': 55.0,\n",
    "#  'SpecialDefense': 55.0,\n",
    "#  'Speed': 100.0,\n",
    "#  'Total': 330.0,\n",
    "#  'Type': 'Electric'},\n",
    "#  {'Attack': 30.0,\n",
    "#  'Defense': 33.0,\n",
    "#  'HP': 32.0,\n",
    "#  'Name': 'Pikachu',\n",
    "#  'SpecialAttack': 55.0,\n",
    "#  'SpecialDefense': 55.0,\n",
    "#  'Speed': 100.0,\n",
    "#  'Total': 330.0,\n",
    "#  'Type': 'Electric'},\n",
    "#  ... etc\n",
    "#  ]\n",
    "\n",
    "```\n",
    "\n"
   ]
  },
  {
   "cell_type": "code",
   "execution_count": 12,
   "metadata": {},
   "outputs": [
    {
     "data": {
      "text/plain": [
       "[{'Attack': 55.0,\n",
       "  'Defense': 40.0,\n",
       "  'HP': 35.0,\n",
       "  'Name': 'Pikachu',\n",
       "  'PokedexNumber': 25.0,\n",
       "  'SpecialAttack': 50.0,\n",
       "  'SpecialDefense': 50.0,\n",
       "  'Speed': 90.0,\n",
       "  'Total': 320.0,\n",
       "  'Type': 'Electric'},\n",
       " {'Attack': 90.0,\n",
       "  'Defense': 55.0,\n",
       "  'HP': 60.0,\n",
       "  'Name': 'Raichu',\n",
       "  'PokedexNumber': 26.0,\n",
       "  'SpecialAttack': 90.0,\n",
       "  'SpecialDefense': 80.0,\n",
       "  'Speed': 110.0,\n",
       "  'Total': 485.0,\n",
       "  'Type': 'Electric'},\n",
       " {'Attack': 30.0,\n",
       "  'Defense': 50.0,\n",
       "  'HP': 40.0,\n",
       "  'Name': 'Voltorb',\n",
       "  'PokedexNumber': 100.0,\n",
       "  'SpecialAttack': 55.0,\n",
       "  'SpecialDefense': 55.0,\n",
       "  'Speed': 100.0,\n",
       "  'Total': 330.0,\n",
       "  'Type': 'Electric'},\n",
       " {'Attack': 50.0,\n",
       "  'Defense': 70.0,\n",
       "  'HP': 60.0,\n",
       "  'Name': 'Electrode',\n",
       "  'PokedexNumber': 101.0,\n",
       "  'SpecialAttack': 80.0,\n",
       "  'SpecialDefense': 80.0,\n",
       "  'Speed': 140.0,\n",
       "  'Total': 480.0,\n",
       "  'Type': 'Electric'},\n",
       " {'Attack': 83.0,\n",
       "  'Defense': 57.0,\n",
       "  'HP': 65.0,\n",
       "  'Name': 'Electabuzz',\n",
       "  'PokedexNumber': 125.0,\n",
       "  'SpecialAttack': 95.0,\n",
       "  'SpecialDefense': 85.0,\n",
       "  'Speed': 105.0,\n",
       "  'Total': 490.0,\n",
       "  'Type': 'Electric'},\n",
       " {'Attack': 65.0,\n",
       "  'Defense': 60.0,\n",
       "  'HP': 65.0,\n",
       "  'Name': 'Jolteon',\n",
       "  'PokedexNumber': 135.0,\n",
       "  'SpecialAttack': 110.0,\n",
       "  'SpecialDefense': 95.0,\n",
       "  'Speed': 130.0,\n",
       "  'Total': 525.0,\n",
       "  'Type': 'Electric'},\n",
       " {'Attack': 40.0,\n",
       "  'Defense': 40.0,\n",
       "  'HP': 55.0,\n",
       "  'Name': 'Mareep',\n",
       "  'PokedexNumber': 179.0,\n",
       "  'SpecialAttack': 65.0,\n",
       "  'SpecialDefense': 45.0,\n",
       "  'Speed': 35.0,\n",
       "  'Total': 280.0,\n",
       "  'Type': 'Electric'},\n",
       " {'Attack': 55.0,\n",
       "  'Defense': 55.0,\n",
       "  'HP': 70.0,\n",
       "  'Name': 'Flaaffy',\n",
       "  'PokedexNumber': 180.0,\n",
       "  'SpecialAttack': 80.0,\n",
       "  'SpecialDefense': 60.0,\n",
       "  'Speed': 45.0,\n",
       "  'Total': 365.0,\n",
       "  'Type': 'Electric'},\n",
       " {'Attack': 63.0,\n",
       "  'Defense': 37.0,\n",
       "  'HP': 45.0,\n",
       "  'Name': 'Elekid',\n",
       "  'PokedexNumber': 239.0,\n",
       "  'SpecialAttack': 65.0,\n",
       "  'SpecialDefense': 55.0,\n",
       "  'Speed': 95.0,\n",
       "  'Total': 360.0,\n",
       "  'Type': 'Electric'},\n",
       " {'Attack': 85.0,\n",
       "  'Defense': 75.0,\n",
       "  'HP': 90.0,\n",
       "  'Name': 'Raikou',\n",
       "  'PokedexNumber': 243.0,\n",
       "  'SpecialAttack': 115.0,\n",
       "  'SpecialDefense': 100.0,\n",
       "  'Speed': 115.0,\n",
       "  'Total': 580.0,\n",
       "  'Type': 'Electric'},\n",
       " {'Attack': 45.0,\n",
       "  'Defense': 40.0,\n",
       "  'HP': 40.0,\n",
       "  'Name': 'Electrike',\n",
       "  'PokedexNumber': 309.0,\n",
       "  'SpecialAttack': 65.0,\n",
       "  'SpecialDefense': 40.0,\n",
       "  'Speed': 65.0,\n",
       "  'Total': 295.0,\n",
       "  'Type': 'Electric'},\n",
       " {'Attack': 75.0,\n",
       "  'Defense': 80.0,\n",
       "  'HP': 70.0,\n",
       "  'Name': 'ManectricMega Manectric',\n",
       "  'PokedexNumber': 310.0,\n",
       "  'SpecialAttack': 135.0,\n",
       "  'SpecialDefense': 80.0,\n",
       "  'Speed': 135.0,\n",
       "  'Total': 575.0,\n",
       "  'Type': 'Electric'},\n",
       " {'Attack': 50.0,\n",
       "  'Defense': 40.0,\n",
       "  'HP': 60.0,\n",
       "  'Name': 'Plusle',\n",
       "  'PokedexNumber': 311.0,\n",
       "  'SpecialAttack': 85.0,\n",
       "  'SpecialDefense': 75.0,\n",
       "  'Speed': 95.0,\n",
       "  'Total': 405.0,\n",
       "  'Type': 'Electric'},\n",
       " {'Attack': 40.0,\n",
       "  'Defense': 50.0,\n",
       "  'HP': 60.0,\n",
       "  'Name': 'Minun',\n",
       "  'PokedexNumber': 312.0,\n",
       "  'SpecialAttack': 75.0,\n",
       "  'SpecialDefense': 85.0,\n",
       "  'Speed': 95.0,\n",
       "  'Total': 405.0,\n",
       "  'Type': 'Electric'},\n",
       " {'Attack': 65.0,\n",
       "  'Defense': 34.0,\n",
       "  'HP': 45.0,\n",
       "  'Name': 'Shinx',\n",
       "  'PokedexNumber': 403.0,\n",
       "  'SpecialAttack': 40.0,\n",
       "  'SpecialDefense': 34.0,\n",
       "  'Speed': 45.0,\n",
       "  'Total': 263.0,\n",
       "  'Type': 'Electric'},\n",
       " {'Attack': 85.0,\n",
       "  'Defense': 49.0,\n",
       "  'HP': 60.0,\n",
       "  'Name': 'Luxio',\n",
       "  'PokedexNumber': 404.0,\n",
       "  'SpecialAttack': 60.0,\n",
       "  'SpecialDefense': 49.0,\n",
       "  'Speed': 60.0,\n",
       "  'Total': 363.0,\n",
       "  'Type': 'Electric'},\n",
       " {'Attack': 120.0,\n",
       "  'Defense': 79.0,\n",
       "  'HP': 80.0,\n",
       "  'Name': 'Luxray',\n",
       "  'PokedexNumber': 405.0,\n",
       "  'SpecialAttack': 95.0,\n",
       "  'SpecialDefense': 79.0,\n",
       "  'Speed': 70.0,\n",
       "  'Total': 523.0,\n",
       "  'Type': 'Electric'},\n",
       " {'Attack': 45.0,\n",
       "  'Defense': 70.0,\n",
       "  'HP': 60.0,\n",
       "  'Name': 'Pachirisu',\n",
       "  'PokedexNumber': 417.0,\n",
       "  'SpecialAttack': 45.0,\n",
       "  'SpecialDefense': 90.0,\n",
       "  'Speed': 95.0,\n",
       "  'Total': 405.0,\n",
       "  'Type': 'Electric'},\n",
       " {'Attack': 123.0,\n",
       "  'Defense': 67.0,\n",
       "  'HP': 75.0,\n",
       "  'Name': 'Electivire',\n",
       "  'PokedexNumber': 466.0,\n",
       "  'SpecialAttack': 95.0,\n",
       "  'SpecialDefense': 85.0,\n",
       "  'Speed': 95.0,\n",
       "  'Total': 540.0,\n",
       "  'Type': 'Electric'},\n",
       " {'Attack': 60.0,\n",
       "  'Defense': 32.0,\n",
       "  'HP': 45.0,\n",
       "  'Name': 'Blitzle',\n",
       "  'PokedexNumber': 522.0,\n",
       "  'SpecialAttack': 50.0,\n",
       "  'SpecialDefense': 32.0,\n",
       "  'Speed': 76.0,\n",
       "  'Total': 295.0,\n",
       "  'Type': 'Electric'},\n",
       " {'Attack': 100.0,\n",
       "  'Defense': 63.0,\n",
       "  'HP': 75.0,\n",
       "  'Name': 'Zebstrika',\n",
       "  'PokedexNumber': 523.0,\n",
       "  'SpecialAttack': 80.0,\n",
       "  'SpecialDefense': 63.0,\n",
       "  'Speed': 116.0,\n",
       "  'Total': 497.0,\n",
       "  'Type': 'Electric'},\n",
       " {'Attack': 55.0,\n",
       "  'Defense': 40.0,\n",
       "  'HP': 35.0,\n",
       "  'Name': 'Tynamo',\n",
       "  'PokedexNumber': 602.0,\n",
       "  'SpecialAttack': 45.0,\n",
       "  'SpecialDefense': 40.0,\n",
       "  'Speed': 60.0,\n",
       "  'Total': 275.0,\n",
       "  'Type': 'Electric'},\n",
       " {'Attack': 85.0,\n",
       "  'Defense': 70.0,\n",
       "  'HP': 65.0,\n",
       "  'Name': 'Eelektrik',\n",
       "  'PokedexNumber': 603.0,\n",
       "  'SpecialAttack': 75.0,\n",
       "  'SpecialDefense': 70.0,\n",
       "  'Speed': 40.0,\n",
       "  'Total': 405.0,\n",
       "  'Type': 'Electric'},\n",
       " {'Attack': 115.0,\n",
       "  'Defense': 80.0,\n",
       "  'HP': 85.0,\n",
       "  'Name': 'Eelektross',\n",
       "  'PokedexNumber': 604.0,\n",
       "  'SpecialAttack': 105.0,\n",
       "  'SpecialDefense': 80.0,\n",
       "  'Speed': 50.0,\n",
       "  'Total': 515.0,\n",
       "  'Type': 'Electric'}]"
      ]
     },
     "execution_count": 12,
     "metadata": {},
     "output_type": "execute_result"
    }
   ],
   "source": [
    "#given filter options, return a list of pokemon that meets\n",
    "def filter_pokedex(pokedex, options):\n",
    "    found = []\n",
    "    for k,p in pokedex.items():\n",
    "        if filter_pokemon(p, options):\n",
    "            found.append(p)\n",
    "    return found\n",
    "\n",
    "# return true if pokemon meets conditions, false otherwise\n",
    "def filter_pokemon(pokemon, options):\n",
    "    check = True\n",
    "    for k,o in options.items():\n",
    "        if type(o) == types.StringType:\n",
    "            check = check and (pokemon[k].lower() == o.lower()) \n",
    "        elif type(o) == types.IntType or types.FloatType:\n",
    "            check = check and (pokemon[k] >= o)\n",
    "    return check\n",
    "\n",
    "filter_pokedex(pokedex2, {'Attack':25, 'Defense':30, 'Type':'electric'})\n"
   ]
  },
  {
   "cell_type": "markdown",
   "metadata": {
    "collapsed": true
   },
   "source": [
    "\n",
    "## 9. Descriptive statistics on the prototype pokedex\n",
    "\n",
    "<img src=\"http://imgur.com/l5NasQj.png\" style=\"float: left; margin: 25px 15px 0px 0px; height: 25px\">\n",
    "### 9.1\n",
    "\n",
    "What is the population mean and standard deviation of the \"Total\" attribute for all characters in the Pokedex?\n",
    "\n"
   ]
  },
  {
   "cell_type": "code",
   "execution_count": 20,
   "metadata": {},
   "outputs": [
    {
     "name": "stdout",
     "output_type": "stream",
     "text": [
      "424.950069348\n",
      "118.711775818\n",
      "780.0\n",
      "180.0\n",
      "425.0\n"
     ]
    }
   ],
   "source": [
    "all_totals = []\n",
    "for k,p in pokedex2.items():\n",
    "    all_totals.append(p['Total'])\n",
    "print(np.mean(all_totals))\n",
    "print(np.std(all_totals))\n",
    "print(np.max(all_totals))\n",
    "print(np.min(all_totals))\n",
    "print(np.median(all_totals))"
   ]
  },
  {
   "cell_type": "markdown",
   "metadata": {},
   "source": [
    "<img src=\"http://imgur.com/l5NasQj.png\" style=\"float: left; margin: 25px 15px 0px 0px; height: 25px\">\n",
    "### 9.2\n",
    "\n",
    "The game is no fun if the characters are wildly unbalanced! Are any characters \"overpowered\", which we'll define as having a \"Total\" more than three standard deviations from the population mean?"
   ]
  },
  {
   "cell_type": "code",
   "execution_count": 16,
   "metadata": {},
   "outputs": [
    {
     "name": "stdout",
     "output_type": "stream",
     "text": [
      "[{'Name': 'MewtwoMega Mewtwo Y', 'Type': 'Psychic', 'HP': 106.0, 'Speed': 140.0, 'Attack': 150.0, 'Defense': 70.0, 'PokedexNumber': 150.0, 'SpecialDefense': 120.0, 'Total': 780.0, 'SpecialAttack': 194.0}, {'Name': 'KyogrePrimal Kyogre', 'Type': 'Water', 'HP': 100.0, 'Speed': 90.0, 'Attack': 150.0, 'Defense': 90.0, 'PokedexNumber': 382.0, 'SpecialDefense': 160.0, 'Total': 770.0, 'SpecialAttack': 180.0}, {'Name': 'GroudonPrimal Groudon', 'Type': 'GroundFire', 'HP': 100.0, 'Speed': 90.0, 'Attack': 180.0, 'Defense': 160.0, 'PokedexNumber': 383.0, 'SpecialDefense': 90.0, 'Total': 770.0, 'SpecialAttack': 150.0}, {'Name': 'RayquazaMega Rayquaza', 'Type': 'DragonFlying', 'HP': 105.0, 'Speed': 115.0, 'Attack': 180.0, 'Defense': 100.0, 'PokedexNumber': 384.0, 'SpecialDefense': 100.0, 'Total': 780.0, 'SpecialAttack': 180.0}]\n"
     ]
    }
   ],
   "source": [
    "thres = np.mean(all_totals) + 2.5*np.std(all_totals)\n",
    "print(filter_pokedex(pokedex2, {'Total':thres}))"
   ]
  },
  {
   "cell_type": "markdown",
   "metadata": {},
   "source": [
    "<img src=\"http://imgur.com/xDpSobf.png\" style=\"float: left; margin: 25px 15px 0px 0px; height: 25px\">\n",
    "\n",
    "## 10. Calibrate the frequency of Pokemon\n",
    "\n",
    "The design team wants you to make the powerful Pokemon rare, and the weaklings more common. How would you set the probability $p_i$ of finding Pokemon *i* each time a player visits a gym?\n",
    "\n",
    "Write a function that takes in a Pokedex number and returns a value $p_i$ for that character.\n",
    "\n",
    "Hint: there are many ways you could do this. What do _you_ think makes sense? Start with simplifying assumptions: for example, you could assume that the probabilities of encountering any two Pokemon on one visit to a gym are independent of each other."
   ]
  },
  {
   "cell_type": "code",
   "execution_count": 31,
   "metadata": {},
   "outputs": [
    {
     "name": "stdout",
     "output_type": "stream",
     "text": [
      "0.00662995567917\n"
     ]
    },
    {
     "data": {
      "text/plain": [
       "1.0055710162720175"
      ]
     },
     "execution_count": 31,
     "metadata": {},
     "output_type": "execute_result"
    }
   ],
   "source": [
    "#should be inverse proportional to their total power\n",
    "# k/Total Power\n",
    "# however, do we want to allow gym visits to not have pokemon sometime or or\n",
    "# should we find at least 1 pokemon on every visit to the gym or multiple pokemon\n",
    "# per gym visit\n",
    "# but lowest total is 180, 1/180 ==0.0055\n",
    "# we need to scale the weaker ones far more than the strongest pokemon\n",
    "#propose exponential scaling (e^(1/totalpower)) * 1/totalpower\n",
    "\n",
    "def pokemon_prob(pokedex, pokeID):\n",
    "    k = np.exp(1)\n",
    "    return (k / pokedex[pokeID]['Total'])\n",
    "\n",
    "print(pokemon_prob(pokedex2, 77))\n",
    "\n",
    "np.exp(1.0/180.0)"
   ]
  },
  {
   "cell_type": "code",
   "execution_count": null,
   "metadata": {
    "collapsed": true
   },
   "outputs": [],
   "source": []
  }
 ],
 "metadata": {
  "anaconda-cloud": {},
  "kernelspec": {
   "display_name": "Python 2",
   "language": "python",
   "name": "python2"
  },
  "language_info": {
   "codemirror_mode": {
    "name": "ipython",
    "version": 2
   },
   "file_extension": ".py",
   "mimetype": "text/x-python",
   "name": "python",
   "nbconvert_exporter": "python",
   "pygments_lexer": "ipython2",
   "version": "2.7.14"
  }
 },
 "nbformat": 4,
 "nbformat_minor": 1
}
